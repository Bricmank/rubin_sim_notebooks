{
 "cells": [
  {
   "cell_type": "markdown",
   "metadata": {},
   "source": [
    "<img align=\"left\" src = https://project.lsst.org/sites/default/files/Rubin-O-Logo_0.png width=250 style=\"padding: 10px\"> \n",
    "<b>Computation of MAF metrics in bulk</b> <br>\n",
    "Contact author: Eric Neilsen <br>\n",
    "Questions welcome at <a href=\"https://community.lsst.org/c/sci/survey-strategy\">community.lsst.org/c/sci/survey-strategy</a> <br>\n",
    "Find MAF documentation and resources at <a href=\"https://rubin-sim.lsst.io\">rubin-sim.lsst.io</a> <br>"
   ]
  },
  {
   "cell_type": "markdown",
   "metadata": {},
   "source": [
    "## Introduction"
   ]
  },
  {
   "cell_type": "markdown",
   "metadata": {},
   "source": [
    "This notebook gives an example of code to compute many metrics (and make corresponding plots) on each of many opsim simulation run databases.\n",
    "It assumes familiarity with computing metrics on a single run, for example following the instructions in the `Introduction to MAF` notebook.\n",
    "\n",
    "This is not normally something that should be done in a notebook.\n",
    "Instead, we recommend that users write stand-alone python scripts.\n",
    "\n",
    "This notebook only covers the computation of the metrics and creating of files with the plots.\n",
    "Interactive examination of the results of the bulk computation is covered in the `Comparing Runs` notebook."
   ]
  },
  {
   "cell_type": "markdown",
   "metadata": {},
   "source": [
    "## 1.0 Notebook preparation"
   ]
  },
  {
   "cell_type": "markdown",
   "metadata": {},
   "source": [
    "The following is a development style aid; only uncomment if developing the notebook:"
   ]
  },
  {
   "cell_type": "code",
   "execution_count": 1,
   "metadata": {},
   "outputs": [],
   "source": [
    "# %load_ext lab_black\n",
    "# %load_ext pycodestyle_magic\n",
    "# %flake8_on --ignore E501,W505"
   ]
  },
  {
   "cell_type": "markdown",
   "metadata": {},
   "source": [
    "Import the required python modules:"
   ]
  },
  {
   "cell_type": "code",
   "execution_count": 2,
   "metadata": {},
   "outputs": [],
   "source": [
    "import rubin_sim\n",
    "from rubin_sim import maf"
   ]
  },
  {
   "cell_type": "markdown",
   "metadata": {},
   "source": [
    "Note the environment of this execution of this notebook:"
   ]
  },
  {
   "cell_type": "code",
   "execution_count": 3,
   "metadata": {},
   "outputs": [
    {
     "name": "stdout",
     "output_type": "stream",
     "text": [
      "Notebook last executed: 2021-12-13 18:52:06.342\n",
      "Python version: 3.9.7 | packaged by conda-forge | (default, Sep 29 2021, 19:20:46) \n",
      "[GCC 9.4.0]\n",
      "rubin_sim version: 0.7.dev0+ge368c8f.d20211115\n"
     ]
    }
   ],
   "source": [
    "from astropy.time import Time\n",
    "import sys\n",
    "\n",
    "print(f\"Notebook last executed: {Time.now().iso}\")\n",
    "print(f\"Python version: {sys.version}\")\n",
    "print(f\"rubin_sim version: {rubin_sim.__version__}\")"
   ]
  },
  {
   "cell_type": "markdown",
   "metadata": {},
   "source": [
    "## Set the storage directory for this notebook"
   ]
  },
  {
   "cell_type": "markdown",
   "metadata": {},
   "source": [
    "This notebook will produce output files, which need to go somewhere.\n",
    "These files will later be read and examined using the `Comparing Runs` notebook.\n",
    "\n",
    "The following cell will create a directory to work in as a subdirectory of the current directory. Rename it to put the data samewhere else."
   ]
  },
  {
   "cell_type": "code",
   "execution_count": 4,
   "metadata": {},
   "outputs": [],
   "source": [
    "from os import path\n",
    "from os import getcwd\n",
    "\n",
    "data_dir = path.join(getcwd(), \"bulk_metric_data\")"
   ]
  },
  {
   "cell_type": "markdown",
   "metadata": {},
   "source": [
    "If the directory doesn't already exist, create it:"
   ]
  },
  {
   "cell_type": "code",
   "execution_count": 5,
   "metadata": {},
   "outputs": [],
   "source": [
    "from os import makedirs\n",
    "from os import path\n",
    "\n",
    "if not path.exists(data_dir):\n",
    "    makedirs(data_dir)"
   ]
  },
  {
   "cell_type": "markdown",
   "metadata": {},
   "source": [
    "## Get databases to work with"
   ]
  },
  {
   "cell_type": "markdown",
   "metadata": {},
   "source": [
    "To calculate metrics, we first need the data from simulations to run metrics on."
   ]
  },
  {
   "cell_type": "markdown",
   "metadata": {},
   "source": [
    "Information on the set of v2 runs can be retrieved from a `json` file in the `survey_strategy` github product:"
   ]
  },
  {
   "cell_type": "code",
   "execution_count": 6,
   "metadata": {},
   "outputs": [
    {
     "data": {
      "text/html": [
       "<div>\n",
       "<style scoped>\n",
       "    .dataframe tbody tr th:only-of-type {\n",
       "        vertical-align: middle;\n",
       "    }\n",
       "\n",
       "    .dataframe tbody tr th {\n",
       "        vertical-align: top;\n",
       "    }\n",
       "\n",
       "    .dataframe thead th {\n",
       "        text-align: right;\n",
       "    }\n",
       "</style>\n",
       "<table border=\"1\" class=\"dataframe\">\n",
       "  <thead>\n",
       "    <tr style=\"text-align: right;\">\n",
       "      <th></th>\n",
       "      <th>run</th>\n",
       "      <th>brief</th>\n",
       "      <th>filepath</th>\n",
       "      <th>version</th>\n",
       "      <th>reference</th>\n",
       "      <th>description</th>\n",
       "      <th>url</th>\n",
       "    </tr>\n",
       "  </thead>\n",
       "  <tbody>\n",
       "    <tr>\n",
       "      <th>baseline</th>\n",
       "      <td>[baseline_v2.0_10yrs]</td>\n",
       "      <td>[v2.0 baseline]</td>\n",
       "      <td>[baseline/baseline_v2.0_10yrs.db]</td>\n",
       "      <td>2</td>\n",
       "      <td>baseline_v2.0_10yrs</td>\n",
       "      <td>**baseline** : The v2.0 baseline simulation. T...</td>\n",
       "      <td>[http://epyc.astro.washington.edu/~lynnej/opsi...</td>\n",
       "    </tr>\n",
       "    <tr>\n",
       "      <th>retro</th>\n",
       "      <td>[baseline_retrofoot_v2.0_10yrs, retro_baseline...</td>\n",
       "      <td>[v1.x footprint but new code capabilities, v1....</td>\n",
       "      <td>[retro/baseline_retrofoot_v2.0_10yrs.db, retro...</td>\n",
       "      <td>2</td>\n",
       "      <td>baseline_v2.0_10yrs</td>\n",
       "      <td>**retro** : The retro family provides two simu...</td>\n",
       "      <td>[http://epyc.astro.washington.edu/~lynnej/opsi...</td>\n",
       "    </tr>\n",
       "    <tr>\n",
       "      <th>rolling</th>\n",
       "      <td>[rolling_ns2_rw0.5_v2.0_10yrs, rolling_ns3_rw0...</td>\n",
       "      <td>[Rolling half-sky (2 regions) 50%, Rolling thi...</td>\n",
       "      <td>[rolling/rolling_ns2_rw0.5_v2.0_10yrs.db, roll...</td>\n",
       "      <td>2</td>\n",
       "      <td>baseline_v2.0_10yrs</td>\n",
       "      <td>**rolling** : The updated baseline contains a ...</td>\n",
       "      <td>[http://epyc.astro.washington.edu/~lynnej/opsi...</td>\n",
       "    </tr>\n",
       "    <tr>\n",
       "      <th>rolling_bulge</th>\n",
       "      <td>[rolling_bulge_ns2_rw0.5_v2.0_10yrs, rolling_b...</td>\n",
       "      <td>[Roll in the bulge with 2 regions, 50%, Roll i...</td>\n",
       "      <td>[rolling_bulge/rolling_bulge_ns2_rw0.5_v2.0_10...</td>\n",
       "      <td>2</td>\n",
       "      <td>baseline_v2.0_10yrs</td>\n",
       "      <td>**rolling_bulge** : The updated baseline conta...</td>\n",
       "      <td>[http://epyc.astro.washington.edu/~lynnej/opsi...</td>\n",
       "    </tr>\n",
       "    <tr>\n",
       "      <th>rolling_bulge_6</th>\n",
       "      <td>[rolling_bulge_6_v2.0_10yrs]</td>\n",
       "      <td>[Roll the bulge in 6 stripes (low-dust WFD in ...</td>\n",
       "      <td>[rolling_bulge_6/rolling_bulge_6_v2.0_10yrs.db]</td>\n",
       "      <td>2</td>\n",
       "      <td>baseline_v2.0_10yrs</td>\n",
       "      <td>**rolling_bulge_6** : The updated baseline con...</td>\n",
       "      <td>[http://epyc.astro.washington.edu/~lynnej/opsi...</td>\n",
       "    </tr>\n",
       "    <tr>\n",
       "      <th>rolling_six</th>\n",
       "      <td>[six_rolling_ns6_rw0.5_v2.0_10yrs, six_rolling...</td>\n",
       "      <td>[Rolling in one-sixth sky (6 regions) 50%, Rol...</td>\n",
       "      <td>[rolling_six/six_rolling_ns6_rw0.5_v2.0_10yrs....</td>\n",
       "      <td>2</td>\n",
       "      <td>baseline_v2.0_10yrs</td>\n",
       "      <td>**rolling_six** : The updated baseline contain...</td>\n",
       "      <td>[http://epyc.astro.washington.edu/~lynnej/opsi...</td>\n",
       "    </tr>\n",
       "    <tr>\n",
       "      <th>rolling_early</th>\n",
       "      <td>[roll_early_v2.0_10yrs]</td>\n",
       "      <td>[Start rolling year 1]</td>\n",
       "      <td>[rolling_early/roll_early_v2.0_10yrs.db]</td>\n",
       "      <td>2</td>\n",
       "      <td>baseline_v2.0_10yrs</td>\n",
       "      <td>**rolling_early** : The updated baseline conta...</td>\n",
       "      <td>[http://epyc.astro.washington.edu/~lynnej/opsi...</td>\n",
       "    </tr>\n",
       "    <tr>\n",
       "      <th>rolling_all_sky</th>\n",
       "      <td>[rolling_all_sky_ns2_rw0.9_v2.0_10yrs]</td>\n",
       "      <td>[Roll on all parts of the sky]</td>\n",
       "      <td>[rolling_all_sky/rolling_all_sky_ns2_rw0.9_v2....</td>\n",
       "      <td>2</td>\n",
       "      <td>baseline_v2.0_10yrs</td>\n",
       "      <td>**rolling_all_sky** : The updated baseline con...</td>\n",
       "      <td>[http://epyc.astro.washington.edu/~lynnej/opsi...</td>\n",
       "    </tr>\n",
       "    <tr>\n",
       "      <th>noroll</th>\n",
       "      <td>[noroll_v2.0_10yrs]</td>\n",
       "      <td>[v2.0 baseline with no rolling]</td>\n",
       "      <td>[noroll/noroll_v2.0_10yrs.db]</td>\n",
       "      <td>2</td>\n",
       "      <td>baseline_v2.0_10yrs</td>\n",
       "      <td>**noroll** : The updated baseline contains a 2...</td>\n",
       "      <td>[http://epyc.astro.washington.edu/~lynnej/opsi...</td>\n",
       "    </tr>\n",
       "    <tr>\n",
       "      <th>bluer</th>\n",
       "      <td>[bluer_indx0_v2.0_10yrs, bluer_indx1_v2.0_10yrs]</td>\n",
       "      <td>[More g - filter ratio in WFD of {'u': 0.07, '...</td>\n",
       "      <td>[bluer/bluer_indx0_v2.0_10yrs.db, bluer/bluer_...</td>\n",
       "      <td>2</td>\n",
       "      <td>baseline_v2.0_10yrs</td>\n",
       "      <td>**bluer** : The standard filter balance in the...</td>\n",
       "      <td>[http://epyc.astro.washington.edu/~lynnej/opsi...</td>\n",
       "    </tr>\n",
       "    <tr>\n",
       "      <th>long_u</th>\n",
       "      <td>[long_u1_v2.0_10yrs, long_u2_v2.0_10yrs]</td>\n",
       "      <td>[u band visits 1x50s, number of u visits same ...</td>\n",
       "      <td>[long_u/long_u1_v2.0_10yrs.db, long_u/long_u2_...</td>\n",
       "      <td>2</td>\n",
       "      <td>baseline_v2.0_10yrs</td>\n",
       "      <td>**long_u** : The baseline survey uses 2x15s vi...</td>\n",
       "      <td>[http://epyc.astro.washington.edu/~lynnej/opsi...</td>\n",
       "    </tr>\n",
       "    <tr>\n",
       "      <th>vary_nes</th>\n",
       "      <td>[vary_nes_nesfrac0.01_v2.0_10yrs, vary_nes_nes...</td>\n",
       "      <td>[NES at 1% WFD level, NES at 5% WFD level, NES...</td>\n",
       "      <td>[vary_nes/vary_nes_nesfrac0.01_v2.0_10yrs.db, ...</td>\n",
       "      <td>2</td>\n",
       "      <td>baseline_v2.0_10yrs</td>\n",
       "      <td>**vary_nes** : These simulations investigate t...</td>\n",
       "      <td>[http://epyc.astro.washington.edu/~lynnej/opsi...</td>\n",
       "    </tr>\n",
       "    <tr>\n",
       "      <th>vary_gp</th>\n",
       "      <td>[vary_gp_gpfrac0.01_v2.0_10yrs, vary_gp_gpfrac...</td>\n",
       "      <td>[Dusty plane at 1% WFD level, Dusty plane at 5...</td>\n",
       "      <td>[vary_gp/vary_gp_gpfrac0.01_v2.0_10yrs.db, var...</td>\n",
       "      <td>2</td>\n",
       "      <td>baseline_v2.0_10yrs</td>\n",
       "      <td>**vary_gp** : These simulations investigate th...</td>\n",
       "      <td>[http://epyc.astro.washington.edu/~lynnej/opsi...</td>\n",
       "    </tr>\n",
       "    <tr>\n",
       "      <th>presto</th>\n",
       "      <td>[presto_gap1.5_v2.0_10yrs, presto_gap2.0_v2.0_...</td>\n",
       "      <td>[Triples spaced 1.5 hours apart g+r,r+i,i+z in...</td>\n",
       "      <td>[presto/presto_gap1.5_mix_v2.0_10yrs.db, prest...</td>\n",
       "      <td>2</td>\n",
       "      <td>baseline_v2.0_10yrs</td>\n",
       "      <td>**presto** : The baseline survey strategy take...</td>\n",
       "      <td>[http://epyc.astro.washington.edu/~lynnej/opsi...</td>\n",
       "    </tr>\n",
       "    <tr>\n",
       "      <th>presto_half</th>\n",
       "      <td>[presto_half_gap1.5_v2.0_10yrs, presto_half_ga...</td>\n",
       "      <td>[Triples spaced 1.5 hours apart g+r,r+i,i+z in...</td>\n",
       "      <td>[presto_half/presto_half_gap1.5_mix_v2.0_10yrs...</td>\n",
       "      <td>2</td>\n",
       "      <td>baseline_v2.0_10yrs</td>\n",
       "      <td>**presto_half** : The baseline survey strategy...</td>\n",
       "      <td>[http://epyc.astro.washington.edu/~lynnej/opsi...</td>\n",
       "    </tr>\n",
       "    <tr>\n",
       "      <th>long_gaps</th>\n",
       "      <td>[long_gaps_nightsoff7_delayed1827_v2.0_10yrs, ...</td>\n",
       "      <td>[Long gaps every 7 nights starting after year ...</td>\n",
       "      <td>[long_gaps/long_gaps_nightsoff0_delayed1827_v2...</td>\n",
       "      <td>2</td>\n",
       "      <td>baseline_v2.0_10yrs</td>\n",
       "      <td>**long_gaps** : The baseline survey strategy t...</td>\n",
       "      <td>[http://epyc.astro.washington.edu/~lynnej/opsi...</td>\n",
       "    </tr>\n",
       "    <tr>\n",
       "      <th>long_gaps_nopair</th>\n",
       "      <td>[long_gaps_np_nightsoff7_delayed1827_v2.0_10yr...</td>\n",
       "      <td>[long gap pairs every 7 nights starting after ...</td>\n",
       "      <td>[long_gaps_nopair/long_gaps_np_nightsoff0_dela...</td>\n",
       "      <td>2</td>\n",
       "      <td>baseline_v2.0_10yrs</td>\n",
       "      <td>**long_gaps_nopair** : The baseline survey str...</td>\n",
       "      <td>[http://epyc.astro.washington.edu/~lynnej/opsi...</td>\n",
       "    </tr>\n",
       "    <tr>\n",
       "      <th>vary_expt</th>\n",
       "      <td>[vary_expt_v2.0_10yrs]</td>\n",
       "      <td>[Vary the exposure times between 20 and 100s]</td>\n",
       "      <td>[vary_expt/vary_expt_v2.0_10yrs.db]</td>\n",
       "      <td>2</td>\n",
       "      <td>baseline_v2.0_10yrs</td>\n",
       "      <td>**vary_expt** : The baseline survey strategy u...</td>\n",
       "      <td>[http://epyc.astro.washington.edu/~lynnej/opsi...</td>\n",
       "    </tr>\n",
       "    <tr>\n",
       "      <th>ddf</th>\n",
       "      <td>[ddf_frac_ddf_per0.6_v2.0_10yrs, ddf_frac_ddf_...</td>\n",
       "      <td>[DDF fraction of visits reduced to 3% of total...</td>\n",
       "      <td>[ddf/ddf_frac_ddf_per0.6_v2.0_10yrs.db, ddf/dd...</td>\n",
       "      <td>2</td>\n",
       "      <td>baseline_v2.0_10yrs</td>\n",
       "      <td>**ddf** : The baseline survey strategy adds fi...</td>\n",
       "      <td>[http://epyc.astro.washington.edu/~lynnej/opsi...</td>\n",
       "    </tr>\n",
       "    <tr>\n",
       "      <th>microsurveys</th>\n",
       "      <td>[virgo_cluster_v2.0_10yrs, carina_v2.0_10yrs, ...</td>\n",
       "      <td>[Add the virgo cluster to WFD footprint, One w...</td>\n",
       "      <td>[microsurveys/roman/roman_v2.0_10yrs.db, micro...</td>\n",
       "      <td>2</td>\n",
       "      <td>baseline_v2.0_10yrs</td>\n",
       "      <td>**microsurveys** : There are special programs ...</td>\n",
       "      <td>[http://epyc.astro.washington.edu/~lynnej/opsi...</td>\n",
       "    </tr>\n",
       "  </tbody>\n",
       "</table>\n",
       "</div>"
      ],
      "text/plain": [
       "                                                                run  \\\n",
       "baseline                                      [baseline_v2.0_10yrs]   \n",
       "retro             [baseline_retrofoot_v2.0_10yrs, retro_baseline...   \n",
       "rolling           [rolling_ns2_rw0.5_v2.0_10yrs, rolling_ns3_rw0...   \n",
       "rolling_bulge     [rolling_bulge_ns2_rw0.5_v2.0_10yrs, rolling_b...   \n",
       "rolling_bulge_6                        [rolling_bulge_6_v2.0_10yrs]   \n",
       "rolling_six       [six_rolling_ns6_rw0.5_v2.0_10yrs, six_rolling...   \n",
       "rolling_early                               [roll_early_v2.0_10yrs]   \n",
       "rolling_all_sky              [rolling_all_sky_ns2_rw0.9_v2.0_10yrs]   \n",
       "noroll                                          [noroll_v2.0_10yrs]   \n",
       "bluer              [bluer_indx0_v2.0_10yrs, bluer_indx1_v2.0_10yrs]   \n",
       "long_u                     [long_u1_v2.0_10yrs, long_u2_v2.0_10yrs]   \n",
       "vary_nes          [vary_nes_nesfrac0.01_v2.0_10yrs, vary_nes_nes...   \n",
       "vary_gp           [vary_gp_gpfrac0.01_v2.0_10yrs, vary_gp_gpfrac...   \n",
       "presto            [presto_gap1.5_v2.0_10yrs, presto_gap2.0_v2.0_...   \n",
       "presto_half       [presto_half_gap1.5_v2.0_10yrs, presto_half_ga...   \n",
       "long_gaps         [long_gaps_nightsoff7_delayed1827_v2.0_10yrs, ...   \n",
       "long_gaps_nopair  [long_gaps_np_nightsoff7_delayed1827_v2.0_10yr...   \n",
       "vary_expt                                    [vary_expt_v2.0_10yrs]   \n",
       "ddf               [ddf_frac_ddf_per0.6_v2.0_10yrs, ddf_frac_ddf_...   \n",
       "microsurveys      [virgo_cluster_v2.0_10yrs, carina_v2.0_10yrs, ...   \n",
       "\n",
       "                                                              brief  \\\n",
       "baseline                                            [v2.0 baseline]   \n",
       "retro             [v1.x footprint but new code capabilities, v1....   \n",
       "rolling           [Rolling half-sky (2 regions) 50%, Rolling thi...   \n",
       "rolling_bulge     [Roll in the bulge with 2 regions, 50%, Roll i...   \n",
       "rolling_bulge_6   [Roll the bulge in 6 stripes (low-dust WFD in ...   \n",
       "rolling_six       [Rolling in one-sixth sky (6 regions) 50%, Rol...   \n",
       "rolling_early                                [Start rolling year 1]   \n",
       "rolling_all_sky                      [Roll on all parts of the sky]   \n",
       "noroll                              [v2.0 baseline with no rolling]   \n",
       "bluer             [More g - filter ratio in WFD of {'u': 0.07, '...   \n",
       "long_u            [u band visits 1x50s, number of u visits same ...   \n",
       "vary_nes          [NES at 1% WFD level, NES at 5% WFD level, NES...   \n",
       "vary_gp           [Dusty plane at 1% WFD level, Dusty plane at 5...   \n",
       "presto            [Triples spaced 1.5 hours apart g+r,r+i,i+z in...   \n",
       "presto_half       [Triples spaced 1.5 hours apart g+r,r+i,i+z in...   \n",
       "long_gaps         [Long gaps every 7 nights starting after year ...   \n",
       "long_gaps_nopair  [long gap pairs every 7 nights starting after ...   \n",
       "vary_expt             [Vary the exposure times between 20 and 100s]   \n",
       "ddf               [DDF fraction of visits reduced to 3% of total...   \n",
       "microsurveys      [Add the virgo cluster to WFD footprint, One w...   \n",
       "\n",
       "                                                           filepath  version  \\\n",
       "baseline                          [baseline/baseline_v2.0_10yrs.db]        2   \n",
       "retro             [retro/baseline_retrofoot_v2.0_10yrs.db, retro...        2   \n",
       "rolling           [rolling/rolling_ns2_rw0.5_v2.0_10yrs.db, roll...        2   \n",
       "rolling_bulge     [rolling_bulge/rolling_bulge_ns2_rw0.5_v2.0_10...        2   \n",
       "rolling_bulge_6     [rolling_bulge_6/rolling_bulge_6_v2.0_10yrs.db]        2   \n",
       "rolling_six       [rolling_six/six_rolling_ns6_rw0.5_v2.0_10yrs....        2   \n",
       "rolling_early              [rolling_early/roll_early_v2.0_10yrs.db]        2   \n",
       "rolling_all_sky   [rolling_all_sky/rolling_all_sky_ns2_rw0.9_v2....        2   \n",
       "noroll                                [noroll/noroll_v2.0_10yrs.db]        2   \n",
       "bluer             [bluer/bluer_indx0_v2.0_10yrs.db, bluer/bluer_...        2   \n",
       "long_u            [long_u/long_u1_v2.0_10yrs.db, long_u/long_u2_...        2   \n",
       "vary_nes          [vary_nes/vary_nes_nesfrac0.01_v2.0_10yrs.db, ...        2   \n",
       "vary_gp           [vary_gp/vary_gp_gpfrac0.01_v2.0_10yrs.db, var...        2   \n",
       "presto            [presto/presto_gap1.5_mix_v2.0_10yrs.db, prest...        2   \n",
       "presto_half       [presto_half/presto_half_gap1.5_mix_v2.0_10yrs...        2   \n",
       "long_gaps         [long_gaps/long_gaps_nightsoff0_delayed1827_v2...        2   \n",
       "long_gaps_nopair  [long_gaps_nopair/long_gaps_np_nightsoff0_dela...        2   \n",
       "vary_expt                       [vary_expt/vary_expt_v2.0_10yrs.db]        2   \n",
       "ddf               [ddf/ddf_frac_ddf_per0.6_v2.0_10yrs.db, ddf/dd...        2   \n",
       "microsurveys      [microsurveys/roman/roman_v2.0_10yrs.db, micro...        2   \n",
       "\n",
       "                            reference  \\\n",
       "baseline          baseline_v2.0_10yrs   \n",
       "retro             baseline_v2.0_10yrs   \n",
       "rolling           baseline_v2.0_10yrs   \n",
       "rolling_bulge     baseline_v2.0_10yrs   \n",
       "rolling_bulge_6   baseline_v2.0_10yrs   \n",
       "rolling_six       baseline_v2.0_10yrs   \n",
       "rolling_early     baseline_v2.0_10yrs   \n",
       "rolling_all_sky   baseline_v2.0_10yrs   \n",
       "noroll            baseline_v2.0_10yrs   \n",
       "bluer             baseline_v2.0_10yrs   \n",
       "long_u            baseline_v2.0_10yrs   \n",
       "vary_nes          baseline_v2.0_10yrs   \n",
       "vary_gp           baseline_v2.0_10yrs   \n",
       "presto            baseline_v2.0_10yrs   \n",
       "presto_half       baseline_v2.0_10yrs   \n",
       "long_gaps         baseline_v2.0_10yrs   \n",
       "long_gaps_nopair  baseline_v2.0_10yrs   \n",
       "vary_expt         baseline_v2.0_10yrs   \n",
       "ddf               baseline_v2.0_10yrs   \n",
       "microsurveys      baseline_v2.0_10yrs   \n",
       "\n",
       "                                                        description  \\\n",
       "baseline          **baseline** : The v2.0 baseline simulation. T...   \n",
       "retro             **retro** : The retro family provides two simu...   \n",
       "rolling           **rolling** : The updated baseline contains a ...   \n",
       "rolling_bulge     **rolling_bulge** : The updated baseline conta...   \n",
       "rolling_bulge_6   **rolling_bulge_6** : The updated baseline con...   \n",
       "rolling_six       **rolling_six** : The updated baseline contain...   \n",
       "rolling_early     **rolling_early** : The updated baseline conta...   \n",
       "rolling_all_sky   **rolling_all_sky** : The updated baseline con...   \n",
       "noroll            **noroll** : The updated baseline contains a 2...   \n",
       "bluer             **bluer** : The standard filter balance in the...   \n",
       "long_u            **long_u** : The baseline survey uses 2x15s vi...   \n",
       "vary_nes          **vary_nes** : These simulations investigate t...   \n",
       "vary_gp           **vary_gp** : These simulations investigate th...   \n",
       "presto            **presto** : The baseline survey strategy take...   \n",
       "presto_half       **presto_half** : The baseline survey strategy...   \n",
       "long_gaps         **long_gaps** : The baseline survey strategy t...   \n",
       "long_gaps_nopair  **long_gaps_nopair** : The baseline survey str...   \n",
       "vary_expt         **vary_expt** : The baseline survey strategy u...   \n",
       "ddf               **ddf** : The baseline survey strategy adds fi...   \n",
       "microsurveys      **microsurveys** : There are special programs ...   \n",
       "\n",
       "                                                                url  \n",
       "baseline          [http://epyc.astro.washington.edu/~lynnej/opsi...  \n",
       "retro             [http://epyc.astro.washington.edu/~lynnej/opsi...  \n",
       "rolling           [http://epyc.astro.washington.edu/~lynnej/opsi...  \n",
       "rolling_bulge     [http://epyc.astro.washington.edu/~lynnej/opsi...  \n",
       "rolling_bulge_6   [http://epyc.astro.washington.edu/~lynnej/opsi...  \n",
       "rolling_six       [http://epyc.astro.washington.edu/~lynnej/opsi...  \n",
       "rolling_early     [http://epyc.astro.washington.edu/~lynnej/opsi...  \n",
       "rolling_all_sky   [http://epyc.astro.washington.edu/~lynnej/opsi...  \n",
       "noroll            [http://epyc.astro.washington.edu/~lynnej/opsi...  \n",
       "bluer             [http://epyc.astro.washington.edu/~lynnej/opsi...  \n",
       "long_u            [http://epyc.astro.washington.edu/~lynnej/opsi...  \n",
       "vary_nes          [http://epyc.astro.washington.edu/~lynnej/opsi...  \n",
       "vary_gp           [http://epyc.astro.washington.edu/~lynnej/opsi...  \n",
       "presto            [http://epyc.astro.washington.edu/~lynnej/opsi...  \n",
       "presto_half       [http://epyc.astro.washington.edu/~lynnej/opsi...  \n",
       "long_gaps         [http://epyc.astro.washington.edu/~lynnej/opsi...  \n",
       "long_gaps_nopair  [http://epyc.astro.washington.edu/~lynnej/opsi...  \n",
       "vary_expt         [http://epyc.astro.washington.edu/~lynnej/opsi...  \n",
       "ddf               [http://epyc.astro.washington.edu/~lynnej/opsi...  \n",
       "microsurveys      [http://epyc.astro.washington.edu/~lynnej/opsi...  "
      ]
     },
     "execution_count": 6,
     "metadata": {},
     "output_type": "execute_result"
    }
   ],
   "source": [
    "import pandas as pd\n",
    "\n",
    "family_source = \"https://raw.githubusercontent.com/lsst-pst/survey_strategy/main/fbs_2.0/runs_v2.0.json\"\n",
    "run_families = pd.read_json(family_source, orient=\"index\")\n",
    "run_families"
   ]
  },
  {
   "cell_type": "markdown",
   "metadata": {},
   "source": [
    "Pick a few families to look at:"
   ]
  },
  {
   "cell_type": "code",
   "execution_count": 7,
   "metadata": {},
   "outputs": [],
   "source": [
    "these_families = [\"baseline\", \"retro\", \"rolling\"]"
   ]
  },
  {
   "cell_type": "markdown",
   "metadata": {},
   "source": [
    "Extract the run names for runs in the families we want:"
   ]
  },
  {
   "cell_type": "code",
   "execution_count": 8,
   "metadata": {},
   "outputs": [
    {
     "data": {
      "text/plain": [
       "array(['baseline_v2.0_10yrs', 'baseline_retrofoot_v2.0_10yrs',\n",
       "       'retro_baseline_v2.0_10yrs', 'rolling_ns2_rw0.5_v2.0_10yrs',\n",
       "       'rolling_ns3_rw0.5_v2.0_10yrs', 'rolling_ns2_rw0.9_v2.0_10yrs',\n",
       "       'rolling_ns3_rw0.9_v2.0_10yrs'], dtype=object)"
      ]
     },
     "execution_count": 8,
     "metadata": {},
     "output_type": "execute_result"
    }
   ],
   "source": [
    "opsim_runs = run_families.explode(\"run\").loc[these_families, \"run\"].values\n",
    "opsim_runs"
   ]
  },
  {
   "cell_type": "markdown",
   "metadata": {},
   "source": [
    "Extract the file names (with expected paths relative to same local base):"
   ]
  },
  {
   "cell_type": "code",
   "execution_count": 9,
   "metadata": {},
   "outputs": [
    {
     "data": {
      "text/plain": [
       "baseline_v2.0_10yrs                      baseline/baseline_v2.0_10yrs.db\n",
       "baseline_retrofoot_v2.0_10yrs     retro/baseline_retrofoot_v2.0_10yrs.db\n",
       "retro_baseline_v2.0_10yrs             retro/retro_baseline_v2.0_10yrs.db\n",
       "rolling_ns2_rw0.5_v2.0_10yrs     rolling/rolling_ns2_rw0.5_v2.0_10yrs.db\n",
       "rolling_ns3_rw0.5_v2.0_10yrs     rolling/rolling_ns2_rw0.9_v2.0_10yrs.db\n",
       "rolling_ns2_rw0.9_v2.0_10yrs     rolling/rolling_ns3_rw0.5_v2.0_10yrs.db\n",
       "rolling_ns3_rw0.9_v2.0_10yrs     rolling/rolling_ns3_rw0.9_v2.0_10yrs.db\n",
       "dtype: object"
      ]
     },
     "execution_count": 9,
     "metadata": {},
     "output_type": "execute_result"
    }
   ],
   "source": [
    "opsim_run_filepaths = pd.Series(\n",
    "    run_families.explode(\"filepath\").loc[these_families, \"filepath\"].values,\n",
    "    index=opsim_runs,\n",
    ")\n",
    "opsim_run_filepaths"
   ]
  },
  {
   "cell_type": "markdown",
   "metadata": {},
   "source": [
    "Look for the database files where whey are expected to be an NOIRLab's DataLab. If they are there, record their location so we can just use them directly. If not, extract the URLs for the runs and download the files from them."
   ]
  },
  {
   "cell_type": "code",
   "execution_count": 10,
   "metadata": {},
   "outputs": [
    {
     "name": "stdout",
     "output_type": "stream",
     "text": [
      "Downloading http://epyc.astro.washington.edu/~lynnej/opsim_downloads/fbs_2.0/baseline/baseline_v2.0_10yrs.db to /data/des91.b/data/neilsen/LSST/devel/rubin_sim_notebooks/maf/tutorial/bulk_metric_data/baseline/baseline_v2.0_10yrs.db\n",
      "Download complete\n",
      "Downloading http://epyc.astro.washington.edu/~lynnej/opsim_downloads/fbs_2.0/retro/baseline_retrofoot_v2.0_10yrs.db to /data/des91.b/data/neilsen/LSST/devel/rubin_sim_notebooks/maf/tutorial/bulk_metric_data/retro/baseline_retrofoot_v2.0_10yrs.db\n",
      "Download complete\n",
      "Downloading http://epyc.astro.washington.edu/~lynnej/opsim_downloads/fbs_2.0/retro/retro_baseline_v2.0_10yrs.db to /data/des91.b/data/neilsen/LSST/devel/rubin_sim_notebooks/maf/tutorial/bulk_metric_data/retro/retro_baseline_v2.0_10yrs.db\n",
      "Download complete\n",
      "Downloading http://epyc.astro.washington.edu/~lynnej/opsim_downloads/fbs_2.0/rolling/rolling_ns2_rw0.5_v2.0_10yrs.db to /data/des91.b/data/neilsen/LSST/devel/rubin_sim_notebooks/maf/tutorial/bulk_metric_data/rolling/rolling_ns2_rw0.5_v2.0_10yrs.db\n",
      "Download complete\n",
      "Downloading http://epyc.astro.washington.edu/~lynnej/opsim_downloads/fbs_2.0/rolling/rolling_ns2_rw0.9_v2.0_10yrs.db to /data/des91.b/data/neilsen/LSST/devel/rubin_sim_notebooks/maf/tutorial/bulk_metric_data/rolling/rolling_ns2_rw0.9_v2.0_10yrs.db\n",
      "Download complete\n",
      "Downloading http://epyc.astro.washington.edu/~lynnej/opsim_downloads/fbs_2.0/rolling/rolling_ns3_rw0.5_v2.0_10yrs.db to /data/des91.b/data/neilsen/LSST/devel/rubin_sim_notebooks/maf/tutorial/bulk_metric_data/rolling/rolling_ns3_rw0.5_v2.0_10yrs.db\n",
      "Download complete\n",
      "Downloading http://epyc.astro.washington.edu/~lynnej/opsim_downloads/fbs_2.0/rolling/rolling_ns3_rw0.9_v2.0_10yrs.db to /data/des91.b/data/neilsen/LSST/devel/rubin_sim_notebooks/maf/tutorial/bulk_metric_data/rolling/rolling_ns3_rw0.9_v2.0_10yrs.db\n",
      "Download complete\n"
     ]
    }
   ],
   "source": [
    "import os\n",
    "from os import path\n",
    "import urllib\n",
    "\n",
    "opsim_run_path = \"/sims_maf/fbs_2.0\"\n",
    "opsim_run_fnames = {}\n",
    "\n",
    "opsim_run_urls = pd.Series(\n",
    "    run_families.explode(\"url\").loc[these_families, \"url\"].values, index=opsim_runs\n",
    ")\n",
    "\n",
    "for opsim_run in opsim_runs:\n",
    "    filepath = opsim_run_filepaths[opsim_run]\n",
    "    std_run_fname = path.join(opsim_run_path, filepath)\n",
    "    if path.isfile(std_run_fname):\n",
    "        opsim_run_fnames[run] = std_run_fname\n",
    "    else:\n",
    "        opsim_run_fname = path.join(data_dir, filepath)\n",
    "        opsim_run_dir = path.dirname(opsim_run_fname)\n",
    "        if not path.isdir(opsim_run_dir):\n",
    "            os.mkdir(opsim_run_dir)\n",
    "\n",
    "        opsim_run_url = opsim_run_urls[opsim_run]\n",
    "        print(f\"Downloading {opsim_run_url} to {opsim_run_fname}\")\n",
    "        opsim_db_file = urllib.request.urlretrieve(opsim_run_url, opsim_run_fname)\n",
    "        print(\"Download complete\")\n",
    "        opsim_run_fnames[opsim_run] = opsim_run_fname"
   ]
  },
  {
   "cell_type": "markdown",
   "metadata": {},
   "source": [
    "Now we have a dictionary with the database file names for the runs we want:"
   ]
  },
  {
   "cell_type": "code",
   "execution_count": 11,
   "metadata": {},
   "outputs": [
    {
     "data": {
      "text/plain": [
       "{'baseline_v2.0_10yrs': '/data/des91.b/data/neilsen/LSST/devel/rubin_sim_notebooks/maf/tutorial/bulk_metric_data/baseline/baseline_v2.0_10yrs.db',\n",
       " 'baseline_retrofoot_v2.0_10yrs': '/data/des91.b/data/neilsen/LSST/devel/rubin_sim_notebooks/maf/tutorial/bulk_metric_data/retro/baseline_retrofoot_v2.0_10yrs.db',\n",
       " 'retro_baseline_v2.0_10yrs': '/data/des91.b/data/neilsen/LSST/devel/rubin_sim_notebooks/maf/tutorial/bulk_metric_data/retro/retro_baseline_v2.0_10yrs.db',\n",
       " 'rolling_ns2_rw0.5_v2.0_10yrs': '/data/des91.b/data/neilsen/LSST/devel/rubin_sim_notebooks/maf/tutorial/bulk_metric_data/rolling/rolling_ns2_rw0.5_v2.0_10yrs.db',\n",
       " 'rolling_ns3_rw0.5_v2.0_10yrs': '/data/des91.b/data/neilsen/LSST/devel/rubin_sim_notebooks/maf/tutorial/bulk_metric_data/rolling/rolling_ns2_rw0.9_v2.0_10yrs.db',\n",
       " 'rolling_ns2_rw0.9_v2.0_10yrs': '/data/des91.b/data/neilsen/LSST/devel/rubin_sim_notebooks/maf/tutorial/bulk_metric_data/rolling/rolling_ns3_rw0.5_v2.0_10yrs.db',\n",
       " 'rolling_ns3_rw0.9_v2.0_10yrs': '/data/des91.b/data/neilsen/LSST/devel/rubin_sim_notebooks/maf/tutorial/bulk_metric_data/rolling/rolling_ns3_rw0.9_v2.0_10yrs.db'}"
      ]
     },
     "execution_count": 11,
     "metadata": {},
     "output_type": "execute_result"
    }
   ],
   "source": [
    "opsim_run_fnames"
   ]
  },
  {
   "cell_type": "markdown",
   "metadata": {},
   "source": [
    "## Computing many metrics for multiple runs"
   ]
  },
  {
   "cell_type": "markdown",
   "metadata": {},
   "source": [
    "### The high-level workflow"
   ]
  },
  {
   "cell_type": "markdown",
   "metadata": {},
   "source": [
    "To compute metrics for many runs, we follow the same workflow we used for a single run (e.g. in `Introduction to MAF`), except:\n",
    "- we need to iterate over all runs; and\n",
    "- we save the results in a dictionory, whose keys are the run names.\n",
    "\n",
    "In each iteration, we need to construct all of the elements used to construct the `maf.MetricBundleGroup` that we use to compute the metrics and make the plots."
   ]
  },
  {
   "cell_type": "markdown",
   "metadata": {},
   "source": [
    "We separate the creation of each set of `maf.MetricBundle`s into a separate function.\n",
    "Such a set of `MetricBundle`s for a run is called a `batch`.\n",
    "Because running a `MetricBundleGroup` modifies the state of elements of the `batch` it is passed, including storing the values of the metrics themselves, a compelete new batch needs to be created for each run."
   ]
  },
  {
   "cell_type": "markdown",
   "metadata": {},
   "source": [
    "### Creating batches of metric bundles"
   ]
  },
  {
   "cell_type": "markdown",
   "metadata": {},
   "source": [
    "A `batch` is a dictionary of metric bundles.\n",
    "Python procedures that create batches are the conventional mechanism within MAF for creating metric bundles and grouping them.\n",
    "It is useful to create procudecs that create batches even when the batch will contain one member, because such proceduces provide a reproducible way of combining the appropriate elements of a metric bundle (`metric`, `slicer`, `constant`, etc.) that makes it easy to combine them with other batches into larger batches."
   ]
  },
  {
   "cell_type": "markdown",
   "metadata": {},
   "source": [
    "Let's create several procudecs that create single-bundle batches, and them merge them into a larger batch with many."
   ]
  },
  {
   "cell_type": "markdown",
   "metadata": {},
   "source": [
    "Start by creating a procudere to generate batches that compute the open shutter fraction for the survey:"
   ]
  },
  {
   "cell_type": "code",
   "execution_count": 12,
   "metadata": {},
   "outputs": [],
   "source": [
    "def make_open_shutter_batch(run_name):\n",
    "    constraint = \"\"\n",
    "    plotDict = {}\n",
    "    slicer = maf.UniSlicer()\n",
    "    metric = maf.OpenShutterFractionMetric(\n",
    "        slewTimeCol=\"slewTime\", expTimeCol=\"visitExposureTime\", visitTimeCol=\"visitTime\"\n",
    "    )\n",
    "    summary_metrics = [maf.IdentityMetric()]\n",
    "    bundle = maf.MetricBundle(\n",
    "        metric,\n",
    "        slicer,\n",
    "        constraint,\n",
    "        summaryMetrics=summary_metrics,\n",
    "        runName=run_name,\n",
    "        plotDict=plotDict,\n",
    "    )\n",
    "\n",
    "    # If we do not care about the keys, just build a list\n",
    "    # and let MAF build unique keys and convert it to a dict\n",
    "    # for us.\n",
    "    metric_bundles = [bundle]\n",
    "    bundle_dict = maf.metricBundles.makeBundlesDictFromList(metric_bundles)\n",
    "\n",
    "    return bundle_dict"
   ]
  },
  {
   "cell_type": "markdown",
   "metadata": {},
   "source": [
    "Just take a quick look at what it produces:"
   ]
  },
  {
   "cell_type": "code",
   "execution_count": 13,
   "metadata": {},
   "outputs": [
    {
     "data": {
      "text/plain": [
       "{'baseline_nexp2_v1_7_10yrs_OpenShutterFraction_UNIS': <rubin_sim.maf.metricBundles.metricBundle.MetricBundle at 0x7fd2079f9550>}"
      ]
     },
     "execution_count": 13,
     "metadata": {},
     "output_type": "execute_result"
    }
   ],
   "source": [
    "make_open_shutter_batch(\"baseline_nexp2_v1.7_10yrs\")"
   ]
  },
  {
   "cell_type": "markdown",
   "metadata": {},
   "source": [
    "Let's also make one for depth maps:"
   ]
  },
  {
   "cell_type": "code",
   "execution_count": 14,
   "metadata": {},
   "outputs": [],
   "source": [
    "import numpy as np\n",
    "\n",
    "\n",
    "def make_depth_map_batch(run_name, band, footprint_area):\n",
    "    constraint = f\"filter = '{band}'\"\n",
    "    plotDict = {}\n",
    "    slicer = maf.HealpixSlicer(nside=64)\n",
    "    metric = maf.Coaddm5Metric()\n",
    "\n",
    "    # Summary stats for depth over best footprint area\n",
    "    summary_metrics = [\n",
    "        maf.AreaSummaryMetric(\n",
    "            area=footprint_area,\n",
    "            reduce_func=np.min,\n",
    "            decreasing=True,\n",
    "            metricName=\"Min\",\n",
    "        ),\n",
    "        maf.AreaSummaryMetric(\n",
    "            area=footprint_area,\n",
    "            reduce_func=np.median,\n",
    "            decreasing=True,\n",
    "            metricName=\"Median\",\n",
    "        ),\n",
    "        maf.AreaSummaryMetric(\n",
    "            area=footprint_area,\n",
    "            reduce_func=np.max,\n",
    "            decreasing=True,\n",
    "            metricName=\"Max\",\n",
    "        ),\n",
    "    ]\n",
    "\n",
    "    bundle = maf.MetricBundle(\n",
    "        metric,\n",
    "        slicer,\n",
    "        constraint,\n",
    "        summaryMetrics=summary_metrics,\n",
    "        runName=run_name,\n",
    "        plotDict=plotDict,\n",
    "    )\n",
    "\n",
    "    metric_bundles = [bundle]\n",
    "    bundle_dict = maf.metricBundles.makeBundlesDictFromList(metric_bundles)\n",
    "\n",
    "    return bundle_dict"
   ]
  },
  {
   "cell_type": "markdown",
   "metadata": {},
   "source": [
    "Finally, sets make an airmass distribution:"
   ]
  },
  {
   "cell_type": "code",
   "execution_count": 15,
   "metadata": {},
   "outputs": [],
   "source": [
    "def make_airmass_batch(run_name):\n",
    "    constraint = \"\"\n",
    "    plotDict = {}\n",
    "    slicer = maf.OneDSlicer(\n",
    "        sliceColName=\"airmass\", binMin=1.0, binMax=2.5, binsize=0.05\n",
    "    )\n",
    "    metric = maf.CountMetric(col=\"airmass\")\n",
    "\n",
    "    # produces list of metrics with mean, median, RMS, etc.\n",
    "    summary_metrics = maf.extendedSummary()\n",
    "\n",
    "    bundle = maf.MetricBundle(\n",
    "        metric,\n",
    "        slicer,\n",
    "        constraint,\n",
    "        summaryMetrics=summary_metrics,\n",
    "        runName=run_name,\n",
    "        plotDict=plotDict,\n",
    "    )\n",
    "\n",
    "    metric_bundles = [bundle]\n",
    "    bundle_dict = maf.metricBundles.makeBundlesDictFromList(metric_bundles)\n",
    "\n",
    "    return bundle_dict"
   ]
  },
  {
   "cell_type": "markdown",
   "metadata": {},
   "source": [
    "### Creating batches with multiple metric bundles"
   ]
  },
  {
   "cell_type": "markdown",
   "metadata": {},
   "source": [
    "Now we need a function to create and merge the batches that can be used to compute all the metrics we want for a run:"
   ]
  },
  {
   "cell_type": "code",
   "execution_count": 16,
   "metadata": {},
   "outputs": [],
   "source": [
    "def multi_batch(run_name=\"opsim\", bands=(\"g\", \"i\"), footprint_area=18000):\n",
    "    bundle_dict = {}\n",
    "\n",
    "    # Open shutter fraction on each night\n",
    "    bundle_dict.update(make_open_shutter_batch(run_name))\n",
    "\n",
    "    # Depth map by filter\n",
    "    for band in bands:\n",
    "        bundle_dict.update(make_depth_map_batch(run_name, band, footprint_area))\n",
    "\n",
    "    # Hour Angle distribution\n",
    "    bundle_dict.update(make_airmass_batch(run_name))\n",
    "\n",
    "    return bundle_dict"
   ]
  },
  {
   "cell_type": "markdown",
   "metadata": {},
   "source": [
    "The batch created by the above function is a dictionary with keys built from the run, metric, metric metadata, and slicer name; and whose values are the instances of `MetricBundle` themselves:"
   ]
  },
  {
   "cell_type": "code",
   "execution_count": 17,
   "metadata": {},
   "outputs": [
    {
     "name": "stdout",
     "output_type": "stream",
     "text": [
      "Healpix slicer using NSIDE=64, approximate resolution 54.967783 arcminutes\n",
      "Healpix slicer using NSIDE=64, approximate resolution 54.967783 arcminutes\n"
     ]
    },
    {
     "data": {
      "text/plain": [
       "{'opsim_OpenShutterFraction_UNIS': <rubin_sim.maf.metricBundles.metricBundle.MetricBundle at 0x7fd207ee5490>,\n",
       " 'opsim_CoaddM5_g_HEAL': <rubin_sim.maf.metricBundles.metricBundle.MetricBundle at 0x7fd207ee5250>,\n",
       " 'opsim_CoaddM5_i_HEAL': <rubin_sim.maf.metricBundles.metricBundle.MetricBundle at 0x7fd20799b430>,\n",
       " 'opsim_Count_airmass_ONED': <rubin_sim.maf.metricBundles.metricBundle.MetricBundle at 0x7fd20799e610>}"
      ]
     },
     "execution_count": 17,
     "metadata": {},
     "output_type": "execute_result"
    }
   ],
   "source": [
    "multi_batch()"
   ]
  },
  {
   "cell_type": "markdown",
   "metadata": {},
   "source": [
    "An assortment of pre-defined \"batches\" can be found in the `rubin_sim/maf/batches` subdirectory of the `sims_maf` product."
   ]
  },
  {
   "cell_type": "code",
   "execution_count": 18,
   "metadata": {},
   "outputs": [
    {
     "name": "stdout",
     "output_type": "stream",
     "text": [
      "['agnBatch', 'altazBatch', 'astrometryBatch', 'characterizationInnerBatch', 'characterizationOuterBatch', 'ddfBatch', 'descWFDBatch', 'discoveryBatch', 'fOBatch', 'filterchangeBatch', 'glanceBatch', 'hourglassBatch', 'metadataBatch', 'movingObjectsBatch', 'openshutterBatch', 'quickDiscoveryBatch', 'rapidRevisitBatch', 'scienceRadarBatch', 'slewBatch', 'srdBatch', 'tdcBatch', 'timeBatch', 'visitdepthBatch']\n"
     ]
    }
   ],
   "source": [
    "print(list(b for b in dir(maf) if b.lower().endswith(\"batch\")))"
   ]
  },
  {
   "cell_type": "markdown",
   "metadata": {},
   "source": [
    "Help on these can be obtained in the usual way: `help(maf.glanceBatch)`\n",
    "\n",
    "They can be called like other functions in `MAF`:\n",
    "\n",
    "```\n",
    "this_batch = maf.glanceBatch(run_name=run_name)\n",
    "```\n",
    "\n",
    "For this notebook, however, we will just use the sample created above."
   ]
  },
  {
   "cell_type": "markdown",
   "metadata": {},
   "source": [
    "### Creating and running batches"
   ]
  },
  {
   "cell_type": "markdown",
   "metadata": {},
   "source": [
    "Now we can create a high-level driver that creates batches, builds a metric bundle group from them, and computes the metrics and makes plots:"
   ]
  },
  {
   "cell_type": "code",
   "execution_count": 19,
   "metadata": {},
   "outputs": [],
   "source": [
    "from os import path\n",
    "\n",
    "\n",
    "def compute_metrics(\n",
    "    opsim_runs, opsim_run_fnames, data_dir, batch_factory, batch_name=\"\"\n",
    "):\n",
    "    batches = {}\n",
    "\n",
    "    for run_name in opsim_runs:\n",
    "        opsim_db = maf.OpsimDatabase(opsim_run_fnames[run_name])\n",
    "\n",
    "        # Follow the opsim team practice and make separate\n",
    "        # out_dir for each run, and put a results database\n",
    "        # there.\n",
    "        out_dir = path.join(data_dir, run_name, batch_name)\n",
    "        results_db = maf.ResultsDb(outDir=out_dir)\n",
    "\n",
    "        this_batch = batch_factory(run_name)\n",
    "        bundle_group = maf.MetricBundleGroup(\n",
    "            this_batch, dbObj=opsim_db, outDir=out_dir, resultsDb=results_db\n",
    "        )\n",
    "        bundle_group.runAll()\n",
    "        bundle_group.plotAll()\n",
    "\n",
    "        results_db.close()\n",
    "        maf.writeConfigs(opsim_db, out_dir)\n",
    "        opsim_db.close()\n",
    "\n",
    "        batches[run_name] = this_batch\n",
    "\n",
    "    return batches"
   ]
  },
  {
   "cell_type": "markdown",
   "metadata": {},
   "source": [
    "Finally, we call our driver to compute the metrics and make the plots (this example takes about 5 minutes):"
   ]
  },
  {
   "cell_type": "code",
   "execution_count": 20,
   "metadata": {},
   "outputs": [
    {
     "name": "stdout",
     "output_type": "stream",
     "text": [
      "Healpix slicer using NSIDE=64, approximate resolution 54.967783 arcminutes\n",
      "Healpix slicer using NSIDE=64, approximate resolution 54.967783 arcminutes\n",
      "Querying database observations with no constraint for columns ['airmass', 'visitExposureTime', 'visitTime', 'slewTime'].\n",
      "Found 2086980 visits\n",
      "Running:  ['baseline_v2_0_10yrs_OpenShutterFraction_UNIS']\n",
      "Completed metric generation.\n",
      "Running:  ['baseline_v2_0_10yrs_Count_airmass_ONED']\n",
      "Completed metric generation.\n",
      "Running reduce methods.\n",
      "Running summary statistics.\n",
      "Completed.\n",
      "Querying database observations with constraint filter = 'i' for columns ['fieldDec', 'fiveSigmaDepth', 'fieldRA', 'rotSkyPos']\n",
      "Found 473684 visits\n",
      "Running:  ['baseline_v2_0_10yrs_CoaddM5_i_HEAL']\n",
      "Completed metric generation.\n",
      "Running reduce methods.\n",
      "Running summary statistics.\n",
      "Completed.\n",
      "Querying database observations with constraint filter = 'g' for columns ['fieldDec', 'fiveSigmaDepth', 'fieldRA', 'rotSkyPos']\n",
      "Found 217817 visits\n",
      "Running:  ['baseline_v2_0_10yrs_CoaddM5_g_HEAL']\n",
      "Completed metric generation.\n",
      "Running reduce methods.\n",
      "Running summary statistics.\n",
      "Completed.\n",
      "Plotting figures with \"\" constraint now.\n"
     ]
    },
    {
     "name": "stderr",
     "output_type": "stream",
     "text": [
      "0.0 180.0 -180.0 180.0\n"
     ]
    },
    {
     "name": "stdout",
     "output_type": "stream",
     "text": [
      "Plotting complete.\n",
      "Plotting figures with \"filter = 'i'\" constraint now.\n"
     ]
    },
    {
     "name": "stderr",
     "output_type": "stream",
     "text": [
      "0.0 180.0 -180.0 180.0\n"
     ]
    },
    {
     "name": "stdout",
     "output_type": "stream",
     "text": [
      "Plotting complete.\n",
      "Plotting figures with \"filter = 'g'\" constraint now.\n"
     ]
    },
    {
     "name": "stderr",
     "output_type": "stream",
     "text": [
      "/data/des91.b/data/neilsen/LSST/devel/rubin_sim/rubin_sim/maf/utils/mafUtils.py:117: UserWarning: Optimal bin calculation tried to make 302 bins, returning 200\n",
      "  warnings.warn(\n"
     ]
    },
    {
     "name": "stdout",
     "output_type": "stream",
     "text": [
      "Plotting complete.\n",
      "Healpix slicer using NSIDE=64, approximate resolution 54.967783 arcminutes\n",
      "Healpix slicer using NSIDE=64, approximate resolution 54.967783 arcminutes\n",
      "Querying database observations with no constraint for columns ['airmass', 'visitExposureTime', 'visitTime', 'slewTime'].\n",
      "Found 2086534 visits\n",
      "Running:  ['baseline_retrofoot_v2_0_10yrs_OpenShutterFraction_UNIS']\n",
      "Completed metric generation.\n",
      "Running:  ['baseline_retrofoot_v2_0_10yrs_Count_airmass_ONED']\n",
      "Completed metric generation.\n",
      "Running reduce methods.\n",
      "Running summary statistics.\n",
      "Completed.\n",
      "Querying database observations with constraint filter = 'i' for columns ['fieldDec', 'fiveSigmaDepth', 'fieldRA', 'rotSkyPos']\n",
      "Found 471528 visits\n",
      "Running:  ['baseline_retrofoot_v2_0_10yrs_CoaddM5_i_HEAL']\n",
      "Completed metric generation.\n",
      "Running reduce methods.\n",
      "Running summary statistics.\n",
      "Completed.\n",
      "Querying database observations with constraint filter = 'g' for columns ['fieldDec', 'fiveSigmaDepth', 'fieldRA', 'rotSkyPos']\n",
      "Found 210158 visits\n",
      "Running:  ['baseline_retrofoot_v2_0_10yrs_CoaddM5_g_HEAL']\n",
      "Completed metric generation.\n",
      "Running reduce methods.\n",
      "Running summary statistics.\n",
      "Completed.\n",
      "Plotting figures with \"\" constraint now.\n"
     ]
    },
    {
     "name": "stderr",
     "output_type": "stream",
     "text": [
      "0.0 180.0 -180.0 180.0\n"
     ]
    },
    {
     "name": "stdout",
     "output_type": "stream",
     "text": [
      "Plotting complete.\n",
      "Plotting figures with \"filter = 'i'\" constraint now.\n"
     ]
    },
    {
     "name": "stderr",
     "output_type": "stream",
     "text": [
      "0.0 180.0 -180.0 180.0\n"
     ]
    },
    {
     "name": "stdout",
     "output_type": "stream",
     "text": [
      "Plotting complete.\n",
      "Plotting figures with \"filter = 'g'\" constraint now.\n",
      "Plotting complete.\n",
      "Healpix slicer using NSIDE=64, approximate resolution 54.967783 arcminutes\n",
      "Healpix slicer using NSIDE=64, approximate resolution 54.967783 arcminutes\n",
      "Querying database observations with no constraint for columns ['airmass', 'visitExposureTime', 'visitTime', 'slewTime'].\n",
      "Found 2048566 visits\n",
      "Running:  ['retro_baseline_v2_0_10yrs_OpenShutterFraction_UNIS']\n",
      "Completed metric generation.\n",
      "Running:  ['retro_baseline_v2_0_10yrs_Count_airmass_ONED']\n",
      "Completed metric generation.\n",
      "Running reduce methods.\n",
      "Running summary statistics.\n",
      "Completed.\n",
      "Querying database observations with constraint filter = 'i' for columns ['fieldDec', 'fiveSigmaDepth', 'fieldRA', 'rotSkyPos']\n",
      "Found 455027 visits\n",
      "Running:  ['retro_baseline_v2_0_10yrs_CoaddM5_i_HEAL']\n",
      "Completed metric generation.\n",
      "Running reduce methods.\n",
      "Running summary statistics.\n",
      "Completed.\n",
      "Querying database observations with constraint filter = 'g' for columns ['fieldDec', 'fiveSigmaDepth', 'fieldRA', 'rotSkyPos']\n",
      "Found 204802 visits\n",
      "Running:  ['retro_baseline_v2_0_10yrs_CoaddM5_g_HEAL']\n",
      "Completed metric generation.\n",
      "Running reduce methods.\n",
      "Running summary statistics.\n",
      "Completed.\n",
      "Plotting figures with \"\" constraint now.\n"
     ]
    },
    {
     "name": "stderr",
     "output_type": "stream",
     "text": [
      "0.0 180.0 -180.0 180.0\n"
     ]
    },
    {
     "name": "stdout",
     "output_type": "stream",
     "text": [
      "Plotting complete.\n",
      "Plotting figures with \"filter = 'i'\" constraint now.\n"
     ]
    },
    {
     "name": "stderr",
     "output_type": "stream",
     "text": [
      "0.0 180.0 -180.0 180.0\n"
     ]
    },
    {
     "name": "stdout",
     "output_type": "stream",
     "text": [
      "Plotting complete.\n",
      "Plotting figures with \"filter = 'g'\" constraint now.\n",
      "Plotting complete.\n",
      "Healpix slicer using NSIDE=64, approximate resolution 54.967783 arcminutes\n",
      "Healpix slicer using NSIDE=64, approximate resolution 54.967783 arcminutes\n",
      "Querying database observations with no constraint for columns ['airmass', 'visitExposureTime', 'visitTime', 'slewTime'].\n",
      "Found 2084510 visits\n",
      "Running:  ['rolling_ns2_rw0_5_v2_0_10yrs_OpenShutterFraction_UNIS']\n",
      "Completed metric generation.\n",
      "Running:  ['rolling_ns2_rw0_5_v2_0_10yrs_Count_airmass_ONED']\n",
      "Completed metric generation.\n",
      "Running reduce methods.\n",
      "Running summary statistics.\n",
      "Completed.\n",
      "Querying database observations with constraint filter = 'i' for columns ['fieldDec', 'fiveSigmaDepth', 'fieldRA', 'rotSkyPos']\n",
      "Found 472465 visits\n",
      "Running:  ['rolling_ns2_rw0_5_v2_0_10yrs_CoaddM5_i_HEAL']\n",
      "Completed metric generation.\n",
      "Running reduce methods.\n",
      "Running summary statistics.\n",
      "Completed.\n",
      "Querying database observations with constraint filter = 'g' for columns ['fieldDec', 'fiveSigmaDepth', 'fieldRA', 'rotSkyPos']\n",
      "Found 217250 visits\n",
      "Running:  ['rolling_ns2_rw0_5_v2_0_10yrs_CoaddM5_g_HEAL']\n",
      "Completed metric generation.\n",
      "Running reduce methods.\n",
      "Running summary statistics.\n",
      "Completed.\n",
      "Plotting figures with \"\" constraint now.\n"
     ]
    },
    {
     "name": "stderr",
     "output_type": "stream",
     "text": [
      "0.0 180.0 -180.0 180.0\n"
     ]
    },
    {
     "name": "stdout",
     "output_type": "stream",
     "text": [
      "Plotting complete.\n",
      "Plotting figures with \"filter = 'i'\" constraint now.\n"
     ]
    },
    {
     "name": "stderr",
     "output_type": "stream",
     "text": [
      "0.0 180.0 -180.0 180.0\n"
     ]
    },
    {
     "name": "stdout",
     "output_type": "stream",
     "text": [
      "Plotting complete.\n",
      "Plotting figures with \"filter = 'g'\" constraint now.\n"
     ]
    },
    {
     "name": "stderr",
     "output_type": "stream",
     "text": [
      "/data/des91.b/data/neilsen/LSST/devel/rubin_sim/rubin_sim/maf/utils/mafUtils.py:117: UserWarning: Optimal bin calculation tried to make 313 bins, returning 200\n",
      "  warnings.warn(\n"
     ]
    },
    {
     "name": "stdout",
     "output_type": "stream",
     "text": [
      "Plotting complete.\n",
      "Healpix slicer using NSIDE=64, approximate resolution 54.967783 arcminutes\n",
      "Healpix slicer using NSIDE=64, approximate resolution 54.967783 arcminutes\n",
      "Querying database observations with no constraint for columns ['airmass', 'visitExposureTime', 'visitTime', 'slewTime'].\n",
      "Found 2086980 visits\n",
      "Running:  ['rolling_ns3_rw0_5_v2_0_10yrs_OpenShutterFraction_UNIS']\n",
      "Completed metric generation.\n",
      "Running:  ['rolling_ns3_rw0_5_v2_0_10yrs_Count_airmass_ONED']\n",
      "Completed metric generation.\n",
      "Running reduce methods.\n",
      "Running summary statistics.\n",
      "Completed.\n",
      "Querying database observations with constraint filter = 'i' for columns ['fieldDec', 'fiveSigmaDepth', 'fieldRA', 'rotSkyPos']\n",
      "Found 473684 visits\n",
      "Running:  ['rolling_ns3_rw0_5_v2_0_10yrs_CoaddM5_i_HEAL']\n",
      "Completed metric generation.\n",
      "Running reduce methods.\n",
      "Running summary statistics.\n",
      "Completed.\n",
      "Querying database observations with constraint filter = 'g' for columns ['fieldDec', 'fiveSigmaDepth', 'fieldRA', 'rotSkyPos']\n",
      "Found 217817 visits\n",
      "Running:  ['rolling_ns3_rw0_5_v2_0_10yrs_CoaddM5_g_HEAL']\n",
      "Completed metric generation.\n",
      "Running reduce methods.\n",
      "Running summary statistics.\n",
      "Completed.\n",
      "Plotting figures with \"\" constraint now.\n"
     ]
    },
    {
     "name": "stderr",
     "output_type": "stream",
     "text": [
      "0.0 180.0 -180.0 180.0\n"
     ]
    },
    {
     "name": "stdout",
     "output_type": "stream",
     "text": [
      "Plotting complete.\n",
      "Plotting figures with \"filter = 'i'\" constraint now.\n"
     ]
    },
    {
     "name": "stderr",
     "output_type": "stream",
     "text": [
      "0.0 180.0 -180.0 180.0\n"
     ]
    },
    {
     "name": "stdout",
     "output_type": "stream",
     "text": [
      "Plotting complete.\n",
      "Plotting figures with \"filter = 'g'\" constraint now.\n"
     ]
    },
    {
     "name": "stderr",
     "output_type": "stream",
     "text": [
      "/data/des91.b/data/neilsen/LSST/devel/rubin_sim/rubin_sim/maf/utils/mafUtils.py:117: UserWarning: Optimal bin calculation tried to make 302 bins, returning 200\n",
      "  warnings.warn(\n"
     ]
    },
    {
     "name": "stdout",
     "output_type": "stream",
     "text": [
      "Plotting complete.\n",
      "Healpix slicer using NSIDE=64, approximate resolution 54.967783 arcminutes\n",
      "Healpix slicer using NSIDE=64, approximate resolution 54.967783 arcminutes\n",
      "Querying database observations with no constraint for columns ['airmass', 'visitExposureTime', 'visitTime', 'slewTime'].\n",
      "Found 2085499 visits\n",
      "Running:  ['rolling_ns2_rw0_9_v2_0_10yrs_OpenShutterFraction_UNIS']\n",
      "Completed metric generation.\n",
      "Running:  ['rolling_ns2_rw0_9_v2_0_10yrs_Count_airmass_ONED']\n",
      "Completed metric generation.\n",
      "Running reduce methods.\n",
      "Running summary statistics.\n",
      "Completed.\n",
      "Querying database observations with constraint filter = 'i' for columns ['fieldDec', 'fiveSigmaDepth', 'fieldRA', 'rotSkyPos']\n",
      "Found 472899 visits\n",
      "Running:  ['rolling_ns2_rw0_9_v2_0_10yrs_CoaddM5_i_HEAL']\n",
      "Completed metric generation.\n",
      "Running reduce methods.\n",
      "Running summary statistics.\n",
      "Completed.\n",
      "Querying database observations with constraint filter = 'g' for columns ['fieldDec', 'fiveSigmaDepth', 'fieldRA', 'rotSkyPos']\n",
      "Found 217802 visits\n",
      "Running:  ['rolling_ns2_rw0_9_v2_0_10yrs_CoaddM5_g_HEAL']\n",
      "Completed metric generation.\n",
      "Running reduce methods.\n",
      "Running summary statistics.\n",
      "Completed.\n",
      "Plotting figures with \"\" constraint now.\n"
     ]
    },
    {
     "name": "stderr",
     "output_type": "stream",
     "text": [
      "0.0 180.0 -180.0 180.0\n"
     ]
    },
    {
     "name": "stdout",
     "output_type": "stream",
     "text": [
      "Plotting complete.\n",
      "Plotting figures with \"filter = 'i'\" constraint now.\n"
     ]
    },
    {
     "name": "stderr",
     "output_type": "stream",
     "text": [
      "0.0 180.0 -180.0 180.0\n"
     ]
    },
    {
     "name": "stdout",
     "output_type": "stream",
     "text": [
      "Plotting complete.\n",
      "Plotting figures with \"filter = 'g'\" constraint now.\n"
     ]
    },
    {
     "name": "stderr",
     "output_type": "stream",
     "text": [
      "/data/des91.b/data/neilsen/LSST/devel/rubin_sim/rubin_sim/maf/utils/mafUtils.py:117: UserWarning: Optimal bin calculation tried to make 283 bins, returning 200\n",
      "  warnings.warn(\n"
     ]
    },
    {
     "name": "stdout",
     "output_type": "stream",
     "text": [
      "Plotting complete.\n",
      "Healpix slicer using NSIDE=64, approximate resolution 54.967783 arcminutes\n",
      "Healpix slicer using NSIDE=64, approximate resolution 54.967783 arcminutes\n",
      "Querying database observations with no constraint for columns ['airmass', 'visitExposureTime', 'visitTime', 'slewTime'].\n",
      "Found 2090909 visits\n",
      "Running:  ['rolling_ns3_rw0_9_v2_0_10yrs_OpenShutterFraction_UNIS']\n",
      "Completed metric generation.\n",
      "Running:  ['rolling_ns3_rw0_9_v2_0_10yrs_Count_airmass_ONED']\n",
      "Completed metric generation.\n",
      "Running reduce methods.\n",
      "Running summary statistics.\n",
      "Completed.\n",
      "Querying database observations with constraint filter = 'i' for columns ['fieldDec', 'fiveSigmaDepth', 'fieldRA', 'rotSkyPos']\n",
      "Found 474528 visits\n",
      "Running:  ['rolling_ns3_rw0_9_v2_0_10yrs_CoaddM5_i_HEAL']\n",
      "Completed metric generation.\n",
      "Running reduce methods.\n",
      "Running summary statistics.\n",
      "Completed.\n",
      "Querying database observations with constraint filter = 'g' for columns ['fieldDec', 'fiveSigmaDepth', 'fieldRA', 'rotSkyPos']\n",
      "Found 216494 visits\n",
      "Running:  ['rolling_ns3_rw0_9_v2_0_10yrs_CoaddM5_g_HEAL']\n",
      "Completed metric generation.\n",
      "Running reduce methods.\n",
      "Running summary statistics.\n",
      "Completed.\n",
      "Plotting figures with \"\" constraint now.\n"
     ]
    },
    {
     "name": "stderr",
     "output_type": "stream",
     "text": [
      "0.0 180.0 -180.0 180.0\n"
     ]
    },
    {
     "name": "stdout",
     "output_type": "stream",
     "text": [
      "Plotting complete.\n",
      "Plotting figures with \"filter = 'i'\" constraint now.\n"
     ]
    },
    {
     "name": "stderr",
     "output_type": "stream",
     "text": [
      "0.0 180.0 -180.0 180.0\n"
     ]
    },
    {
     "name": "stdout",
     "output_type": "stream",
     "text": [
      "Plotting complete.\n",
      "Plotting figures with \"filter = 'g'\" constraint now.\n",
      "Plotting complete.\n",
      "CPU times: user 3min 44s, sys: 11.8 s, total: 3min 55s\n",
      "Wall time: 3min 49s\n"
     ]
    },
    {
     "name": "stderr",
     "output_type": "stream",
     "text": [
      "/data/des91.b/data/neilsen/LSST/devel/rubin_sim/rubin_sim/maf/utils/mafUtils.py:117: UserWarning: Optimal bin calculation tried to make 348 bins, returning 200\n",
      "  warnings.warn(\n"
     ]
    }
   ],
   "source": [
    "%%time\n",
    "batches = compute_metrics(opsim_runs, opsim_run_fnames, data_dir, batch_factory=multi_batch, batch_name='bulk_example')"
   ]
  },
  {
   "cell_type": "markdown",
   "metadata": {},
   "source": [
    "## What did this do?"
   ]
  },
  {
   "cell_type": "markdown",
   "metadata": {},
   "source": [
    "Running the driver:\n",
    "- computed the metrics, and saved them to disk;\n",
    "- made files with the plots;\n",
    "- update (or created) results databases for each run/bundle combination; and\n",
    "- stored the results in the `batches` dictionary."
   ]
  },
  {
   "cell_type": "markdown",
   "metadata": {},
   "source": [
    "<b>For instruction on using MAF tools to examine and analyze the output further, see the `Comparing Runs` notebook.</b>\n",
    "\n",
    "If you're interested in exploring exactly what files were created, continue with this notebook."
   ]
  },
  {
   "cell_type": "markdown",
   "metadata": {},
   "source": [
    "Let's take a look at our `batches` dictionary:"
   ]
  },
  {
   "cell_type": "code",
   "execution_count": 21,
   "metadata": {},
   "outputs": [
    {
     "data": {
      "text/plain": [
       "dict_keys(['baseline_v2.0_10yrs', 'baseline_retrofoot_v2.0_10yrs', 'retro_baseline_v2.0_10yrs', 'rolling_ns2_rw0.5_v2.0_10yrs', 'rolling_ns3_rw0.5_v2.0_10yrs', 'rolling_ns2_rw0.9_v2.0_10yrs', 'rolling_ns3_rw0.9_v2.0_10yrs'])"
      ]
     },
     "execution_count": 21,
     "metadata": {},
     "output_type": "execute_result"
    }
   ],
   "source": [
    "batches.keys()"
   ]
  },
  {
   "cell_type": "markdown",
   "metadata": {},
   "source": [
    "So, batches is a dictionary whose keys are the runs we ran metrics on."
   ]
  },
  {
   "cell_type": "markdown",
   "metadata": {},
   "source": [
    "Looking at the contents of one element of this dictionary, we find a dictionary of `MetricBundle`s, corresponding to each of the metric bundles created by our batch creation function:"
   ]
  },
  {
   "cell_type": "code",
   "execution_count": 22,
   "metadata": {},
   "outputs": [
    {
     "data": {
      "text/plain": [
       "{'baseline_v2_0_10yrs_OpenShutterFraction_UNIS': <rubin_sim.maf.metricBundles.metricBundle.MetricBundle at 0x7fd20793a3a0>,\n",
       " 'baseline_v2_0_10yrs_CoaddM5_g_HEAL': <rubin_sim.maf.metricBundles.metricBundle.MetricBundle at 0x7fd20793a430>,\n",
       " 'baseline_v2_0_10yrs_CoaddM5_i_HEAL': <rubin_sim.maf.metricBundles.metricBundle.MetricBundle at 0x7fd20793a610>,\n",
       " 'baseline_v2_0_10yrs_Count_airmass_ONED': <rubin_sim.maf.metricBundles.metricBundle.MetricBundle at 0x7fd2078df2b0>}"
      ]
     },
     "execution_count": 22,
     "metadata": {},
     "output_type": "execute_result"
    }
   ],
   "source": [
    "run_name = \"baseline_v2.0_10yrs\"\n",
    "batches[run_name]"
   ]
  },
  {
   "cell_type": "markdown",
   "metadata": {},
   "source": [
    "Pick a bundle to look at:"
   ]
  },
  {
   "cell_type": "code",
   "execution_count": 23,
   "metadata": {},
   "outputs": [
    {
     "data": {
      "text/plain": [
       "'baseline_v2_0_10yrs_CoaddM5_g_HEAL'"
      ]
     },
     "execution_count": 23,
     "metadata": {},
     "output_type": "execute_result"
    }
   ],
   "source": [
    "bundle_name = sorted(batches[run_name].keys())[0]\n",
    "bundle_name"
   ]
  },
  {
   "cell_type": "markdown",
   "metadata": {},
   "source": [
    "We can use these `MetricBundles` just as those created in the `Introduction to MAF` notebook:"
   ]
  },
  {
   "cell_type": "code",
   "execution_count": 24,
   "metadata": {},
   "outputs": [
    {
     "name": "stderr",
     "output_type": "stream",
     "text": [
      "0.0 180.0 -180.0 180.0\n",
      "/data/des91.b/data/neilsen/LSST/devel/rubin_sim/rubin_sim/maf/utils/mafUtils.py:117: UserWarning: Optimal bin calculation tried to make 302 bins, returning 200\n",
      "  warnings.warn(\n"
     ]
    },
    {
     "data": {
      "text/plain": [
       "{'SkyMap': 1, 'Histogram': 2}"
      ]
     },
     "execution_count": 24,
     "metadata": {},
     "output_type": "execute_result"
    },
    {
     "data": {
      "image/png": "[encoded data removed]",
      "text/plain": [
       "<Figure size 432x288 with 2 Axes>"
      ]
     },
     "metadata": {
      "needs_background": "light"
     },
     "output_type": "display_data"
    },
    {
     "data": {
      "image/png": "[encoded data removed]",
      "text/plain": [
       "<Figure size 432x288 with 1 Axes>"
      ]
     },
     "metadata": {
      "needs_background": "light"
     },
     "output_type": "display_data"
    }
   ],
   "source": [
    "batches[run_name][bundle_name].plot()"
   ]
  },
  {
   "cell_type": "markdown",
   "metadata": {},
   "source": [
    "Normally, you wouldn't do this in the same code that computed the metrics.\n",
    "\n",
    "It created a set of files you can do further analysis on.\n",
    "The `Comparing Runs` notebook shows how to use these files.\n",
    "Here, we can just look at what the files were, and where it put them."
   ]
  },
  {
   "cell_type": "markdown",
   "metadata": {},
   "source": [
    "For each run, it created a `ResultsDb` database with summary data and metadata on the files it created:"
   ]
  },
  {
   "cell_type": "code",
   "execution_count": 25,
   "metadata": {},
   "outputs": [
    {
     "name": "stdout",
     "output_type": "stream",
     "text": [
      "/data/des91.b/data/neilsen/LSST/devel/rubin_sim_notebooks/maf/tutorial/bulk_metric_data/baseline_v2.0_10yrs/bulk_example/resultsDb_sqlite.db\n",
      "/data/des91.b/data/neilsen/LSST/devel/rubin_sim_notebooks/maf/tutorial/bulk_metric_data/baseline_retrofoot_v2.0_10yrs/bulk_example/resultsDb_sqlite.db\n",
      "/data/des91.b/data/neilsen/LSST/devel/rubin_sim_notebooks/maf/tutorial/bulk_metric_data/retro_baseline_v2.0_10yrs/bulk_example/resultsDb_sqlite.db\n",
      "/data/des91.b/data/neilsen/LSST/devel/rubin_sim_notebooks/maf/tutorial/bulk_metric_data/rolling_ns2_rw0.5_v2.0_10yrs/bulk_example/resultsDb_sqlite.db\n",
      "/data/des91.b/data/neilsen/LSST/devel/rubin_sim_notebooks/maf/tutorial/bulk_metric_data/rolling_ns3_rw0.5_v2.0_10yrs/bulk_example/resultsDb_sqlite.db\n",
      "/data/des91.b/data/neilsen/LSST/devel/rubin_sim_notebooks/maf/tutorial/bulk_metric_data/rolling_ns2_rw0.9_v2.0_10yrs/bulk_example/resultsDb_sqlite.db\n",
      "/data/des91.b/data/neilsen/LSST/devel/rubin_sim_notebooks/maf/tutorial/bulk_metric_data/rolling_ns3_rw0.9_v2.0_10yrs/bulk_example/resultsDb_sqlite.db\n"
     ]
    }
   ],
   "source": [
    "!find $data_dir -name resultsDb_sqlite.db"
   ]
  },
  {
   "cell_type": "markdown",
   "metadata": {},
   "source": [
    "It also created `numpy` save files with the metric values (and slicers):"
   ]
  },
  {
   "cell_type": "code",
   "execution_count": 26,
   "metadata": {},
   "outputs": [
    {
     "name": "stdout",
     "output_type": "stream",
     "text": [
      "/data/des91.b/data/neilsen/LSST/devel/rubin_sim_notebooks/maf/tutorial/bulk_metric_data/baseline_v2.0_10yrs/bulk_example/baseline_v2_0_10yrs_OpenShutterFraction_UNIS.npz\n",
      "/data/des91.b/data/neilsen/LSST/devel/rubin_sim_notebooks/maf/tutorial/bulk_metric_data/baseline_v2.0_10yrs/bulk_example/baseline_v2_0_10yrs_Count_airmass_ONED.npz\n",
      "/data/des91.b/data/neilsen/LSST/devel/rubin_sim_notebooks/maf/tutorial/bulk_metric_data/baseline_v2.0_10yrs/bulk_example/baseline_v2_0_10yrs_CoaddM5_i_HEAL.npz\n",
      "/data/des91.b/data/neilsen/LSST/devel/rubin_sim_notebooks/maf/tutorial/bulk_metric_data/baseline_v2.0_10yrs/bulk_example/baseline_v2_0_10yrs_CoaddM5_g_HEAL.npz\n",
      "/data/des91.b/data/neilsen/LSST/devel/rubin_sim_notebooks/maf/tutorial/bulk_metric_data/baseline_retrofoot_v2.0_10yrs/bulk_example/baseline_retrofoot_v2_0_10yrs_OpenShutterFraction_UNIS.npz\n",
      "/data/des91.b/data/neilsen/LSST/devel/rubin_sim_notebooks/maf/tutorial/bulk_metric_data/baseline_retrofoot_v2.0_10yrs/bulk_example/baseline_retrofoot_v2_0_10yrs_Count_airmass_ONED.npz\n",
      "/data/des91.b/data/neilsen/LSST/devel/rubin_sim_notebooks/maf/tutorial/bulk_metric_data/baseline_retrofoot_v2.0_10yrs/bulk_example/baseline_retrofoot_v2_0_10yrs_CoaddM5_i_HEAL.npz\n",
      "/data/des91.b/data/neilsen/LSST/devel/rubin_sim_notebooks/maf/tutorial/bulk_metric_data/baseline_retrofoot_v2.0_10yrs/bulk_example/baseline_retrofoot_v2_0_10yrs_CoaddM5_g_HEAL.npz\n",
      "/data/des91.b/data/neilsen/LSST/devel/rubin_sim_notebooks/maf/tutorial/bulk_metric_data/retro_baseline_v2.0_10yrs/bulk_example/retro_baseline_v2_0_10yrs_OpenShutterFraction_UNIS.npz\n",
      "/data/des91.b/data/neilsen/LSST/devel/rubin_sim_notebooks/maf/tutorial/bulk_metric_data/retro_baseline_v2.0_10yrs/bulk_example/retro_baseline_v2_0_10yrs_Count_airmass_ONED.npz\n",
      "/data/des91.b/data/neilsen/LSST/devel/rubin_sim_notebooks/maf/tutorial/bulk_metric_data/retro_baseline_v2.0_10yrs/bulk_example/retro_baseline_v2_0_10yrs_CoaddM5_i_HEAL.npz\n",
      "/data/des91.b/data/neilsen/LSST/devel/rubin_sim_notebooks/maf/tutorial/bulk_metric_data/retro_baseline_v2.0_10yrs/bulk_example/retro_baseline_v2_0_10yrs_CoaddM5_g_HEAL.npz\n",
      "/data/des91.b/data/neilsen/LSST/devel/rubin_sim_notebooks/maf/tutorial/bulk_metric_data/rolling_ns2_rw0.5_v2.0_10yrs/bulk_example/rolling_ns2_rw0_5_v2_0_10yrs_OpenShutterFraction_UNIS.npz\n",
      "/data/des91.b/data/neilsen/LSST/devel/rubin_sim_notebooks/maf/tutorial/bulk_metric_data/rolling_ns2_rw0.5_v2.0_10yrs/bulk_example/rolling_ns2_rw0_5_v2_0_10yrs_Count_airmass_ONED.npz\n",
      "/data/des91.b/data/neilsen/LSST/devel/rubin_sim_notebooks/maf/tutorial/bulk_metric_data/rolling_ns2_rw0.5_v2.0_10yrs/bulk_example/rolling_ns2_rw0_5_v2_0_10yrs_CoaddM5_i_HEAL.npz\n",
      "/data/des91.b/data/neilsen/LSST/devel/rubin_sim_notebooks/maf/tutorial/bulk_metric_data/rolling_ns2_rw0.5_v2.0_10yrs/bulk_example/rolling_ns2_rw0_5_v2_0_10yrs_CoaddM5_g_HEAL.npz\n",
      "/data/des91.b/data/neilsen/LSST/devel/rubin_sim_notebooks/maf/tutorial/bulk_metric_data/rolling_ns3_rw0.5_v2.0_10yrs/bulk_example/rolling_ns3_rw0_5_v2_0_10yrs_OpenShutterFraction_UNIS.npz\n",
      "/data/des91.b/data/neilsen/LSST/devel/rubin_sim_notebooks/maf/tutorial/bulk_metric_data/rolling_ns3_rw0.5_v2.0_10yrs/bulk_example/rolling_ns3_rw0_5_v2_0_10yrs_Count_airmass_ONED.npz\n",
      "/data/des91.b/data/neilsen/LSST/devel/rubin_sim_notebooks/maf/tutorial/bulk_metric_data/rolling_ns3_rw0.5_v2.0_10yrs/bulk_example/rolling_ns3_rw0_5_v2_0_10yrs_CoaddM5_i_HEAL.npz\n",
      "/data/des91.b/data/neilsen/LSST/devel/rubin_sim_notebooks/maf/tutorial/bulk_metric_data/rolling_ns3_rw0.5_v2.0_10yrs/bulk_example/rolling_ns3_rw0_5_v2_0_10yrs_CoaddM5_g_HEAL.npz\n",
      "/data/des91.b/data/neilsen/LSST/devel/rubin_sim_notebooks/maf/tutorial/bulk_metric_data/rolling_ns2_rw0.9_v2.0_10yrs/bulk_example/rolling_ns2_rw0_9_v2_0_10yrs_OpenShutterFraction_UNIS.npz\n",
      "/data/des91.b/data/neilsen/LSST/devel/rubin_sim_notebooks/maf/tutorial/bulk_metric_data/rolling_ns2_rw0.9_v2.0_10yrs/bulk_example/rolling_ns2_rw0_9_v2_0_10yrs_Count_airmass_ONED.npz\n",
      "/data/des91.b/data/neilsen/LSST/devel/rubin_sim_notebooks/maf/tutorial/bulk_metric_data/rolling_ns2_rw0.9_v2.0_10yrs/bulk_example/rolling_ns2_rw0_9_v2_0_10yrs_CoaddM5_i_HEAL.npz\n",
      "/data/des91.b/data/neilsen/LSST/devel/rubin_sim_notebooks/maf/tutorial/bulk_metric_data/rolling_ns2_rw0.9_v2.0_10yrs/bulk_example/rolling_ns2_rw0_9_v2_0_10yrs_CoaddM5_g_HEAL.npz\n",
      "/data/des91.b/data/neilsen/LSST/devel/rubin_sim_notebooks/maf/tutorial/bulk_metric_data/rolling_ns3_rw0.9_v2.0_10yrs/bulk_example/rolling_ns3_rw0_9_v2_0_10yrs_OpenShutterFraction_UNIS.npz\n",
      "/data/des91.b/data/neilsen/LSST/devel/rubin_sim_notebooks/maf/tutorial/bulk_metric_data/rolling_ns3_rw0.9_v2.0_10yrs/bulk_example/rolling_ns3_rw0_9_v2_0_10yrs_Count_airmass_ONED.npz\n",
      "/data/des91.b/data/neilsen/LSST/devel/rubin_sim_notebooks/maf/tutorial/bulk_metric_data/rolling_ns3_rw0.9_v2.0_10yrs/bulk_example/rolling_ns3_rw0_9_v2_0_10yrs_CoaddM5_i_HEAL.npz\n",
      "/data/des91.b/data/neilsen/LSST/devel/rubin_sim_notebooks/maf/tutorial/bulk_metric_data/rolling_ns3_rw0.9_v2.0_10yrs/bulk_example/rolling_ns3_rw0_9_v2_0_10yrs_CoaddM5_g_HEAL.npz\n"
     ]
    }
   ],
   "source": [
    "!find $data_dir -name \\*.npz"
   ]
  },
  {
   "cell_type": "markdown",
   "metadata": {},
   "source": [
    "Finally, it created a set of plots, in both `pdf` and `png` formats:"
   ]
  },
  {
   "cell_type": "code",
   "execution_count": 27,
   "metadata": {},
   "outputs": [
    {
     "name": "stdout",
     "output_type": "stream",
     "text": [
      "/data/des91.b/data/neilsen/LSST/devel/rubin_sim_notebooks/maf/tutorial/bulk_metric_data/baseline_v2.0_10yrs/bulk_example/baseline_v2_0_10yrs_Count_airmass_ONED_BinnedData.pdf\n",
      "/data/des91.b/data/neilsen/LSST/devel/rubin_sim_notebooks/maf/tutorial/bulk_metric_data/baseline_v2.0_10yrs/bulk_example/baseline_v2_0_10yrs_CoaddM5_i_HEAL_SkyMap.pdf\n",
      "/data/des91.b/data/neilsen/LSST/devel/rubin_sim_notebooks/maf/tutorial/bulk_metric_data/baseline_v2.0_10yrs/bulk_example/baseline_v2_0_10yrs_CoaddM5_i_HEAL_Histogram.pdf\n",
      "/data/des91.b/data/neilsen/LSST/devel/rubin_sim_notebooks/maf/tutorial/bulk_metric_data/baseline_v2.0_10yrs/bulk_example/baseline_v2_0_10yrs_CoaddM5_g_HEAL_SkyMap.pdf\n",
      "/data/des91.b/data/neilsen/LSST/devel/rubin_sim_notebooks/maf/tutorial/bulk_metric_data/baseline_v2.0_10yrs/bulk_example/baseline_v2_0_10yrs_CoaddM5_g_HEAL_Histogram.pdf\n",
      "/data/des91.b/data/neilsen/LSST/devel/rubin_sim_notebooks/maf/tutorial/bulk_metric_data/baseline_retrofoot_v2.0_10yrs/bulk_example/baseline_retrofoot_v2_0_10yrs_Count_airmass_ONED_BinnedData.pdf\n",
      "/data/des91.b/data/neilsen/LSST/devel/rubin_sim_notebooks/maf/tutorial/bulk_metric_data/baseline_retrofoot_v2.0_10yrs/bulk_example/baseline_retrofoot_v2_0_10yrs_CoaddM5_i_HEAL_SkyMap.pdf\n",
      "/data/des91.b/data/neilsen/LSST/devel/rubin_sim_notebooks/maf/tutorial/bulk_metric_data/baseline_retrofoot_v2.0_10yrs/bulk_example/baseline_retrofoot_v2_0_10yrs_CoaddM5_i_HEAL_Histogram.pdf\n",
      "/data/des91.b/data/neilsen/LSST/devel/rubin_sim_notebooks/maf/tutorial/bulk_metric_data/baseline_retrofoot_v2.0_10yrs/bulk_example/baseline_retrofoot_v2_0_10yrs_CoaddM5_g_HEAL_SkyMap.pdf\n",
      "/data/des91.b/data/neilsen/LSST/devel/rubin_sim_notebooks/maf/tutorial/bulk_metric_data/baseline_retrofoot_v2.0_10yrs/bulk_example/baseline_retrofoot_v2_0_10yrs_CoaddM5_g_HEAL_Histogram.pdf\n",
      "/data/des91.b/data/neilsen/LSST/devel/rubin_sim_notebooks/maf/tutorial/bulk_metric_data/retro_baseline_v2.0_10yrs/bulk_example/retro_baseline_v2_0_10yrs_Count_airmass_ONED_BinnedData.pdf\n",
      "/data/des91.b/data/neilsen/LSST/devel/rubin_sim_notebooks/maf/tutorial/bulk_metric_data/retro_baseline_v2.0_10yrs/bulk_example/retro_baseline_v2_0_10yrs_CoaddM5_i_HEAL_SkyMap.pdf\n",
      "/data/des91.b/data/neilsen/LSST/devel/rubin_sim_notebooks/maf/tutorial/bulk_metric_data/retro_baseline_v2.0_10yrs/bulk_example/retro_baseline_v2_0_10yrs_CoaddM5_i_HEAL_Histogram.pdf\n",
      "/data/des91.b/data/neilsen/LSST/devel/rubin_sim_notebooks/maf/tutorial/bulk_metric_data/retro_baseline_v2.0_10yrs/bulk_example/retro_baseline_v2_0_10yrs_CoaddM5_g_HEAL_SkyMap.pdf\n",
      "/data/des91.b/data/neilsen/LSST/devel/rubin_sim_notebooks/maf/tutorial/bulk_metric_data/retro_baseline_v2.0_10yrs/bulk_example/retro_baseline_v2_0_10yrs_CoaddM5_g_HEAL_Histogram.pdf\n",
      "/data/des91.b/data/neilsen/LSST/devel/rubin_sim_notebooks/maf/tutorial/bulk_metric_data/rolling_ns2_rw0.5_v2.0_10yrs/bulk_example/rolling_ns2_rw0_5_v2_0_10yrs_Count_airmass_ONED_BinnedData.pdf\n",
      "/data/des91.b/data/neilsen/LSST/devel/rubin_sim_notebooks/maf/tutorial/bulk_metric_data/rolling_ns2_rw0.5_v2.0_10yrs/bulk_example/rolling_ns2_rw0_5_v2_0_10yrs_CoaddM5_i_HEAL_SkyMap.pdf\n",
      "/data/des91.b/data/neilsen/LSST/devel/rubin_sim_notebooks/maf/tutorial/bulk_metric_data/rolling_ns2_rw0.5_v2.0_10yrs/bulk_example/rolling_ns2_rw0_5_v2_0_10yrs_CoaddM5_i_HEAL_Histogram.pdf\n",
      "/data/des91.b/data/neilsen/LSST/devel/rubin_sim_notebooks/maf/tutorial/bulk_metric_data/rolling_ns2_rw0.5_v2.0_10yrs/bulk_example/rolling_ns2_rw0_5_v2_0_10yrs_CoaddM5_g_HEAL_SkyMap.pdf\n",
      "/data/des91.b/data/neilsen/LSST/devel/rubin_sim_notebooks/maf/tutorial/bulk_metric_data/rolling_ns2_rw0.5_v2.0_10yrs/bulk_example/rolling_ns2_rw0_5_v2_0_10yrs_CoaddM5_g_HEAL_Histogram.pdf\n",
      "/data/des91.b/data/neilsen/LSST/devel/rubin_sim_notebooks/maf/tutorial/bulk_metric_data/rolling_ns3_rw0.5_v2.0_10yrs/bulk_example/rolling_ns3_rw0_5_v2_0_10yrs_Count_airmass_ONED_BinnedData.pdf\n",
      "/data/des91.b/data/neilsen/LSST/devel/rubin_sim_notebooks/maf/tutorial/bulk_metric_data/rolling_ns3_rw0.5_v2.0_10yrs/bulk_example/rolling_ns3_rw0_5_v2_0_10yrs_CoaddM5_i_HEAL_SkyMap.pdf\n",
      "/data/des91.b/data/neilsen/LSST/devel/rubin_sim_notebooks/maf/tutorial/bulk_metric_data/rolling_ns3_rw0.5_v2.0_10yrs/bulk_example/rolling_ns3_rw0_5_v2_0_10yrs_CoaddM5_i_HEAL_Histogram.pdf\n",
      "/data/des91.b/data/neilsen/LSST/devel/rubin_sim_notebooks/maf/tutorial/bulk_metric_data/rolling_ns3_rw0.5_v2.0_10yrs/bulk_example/rolling_ns3_rw0_5_v2_0_10yrs_CoaddM5_g_HEAL_SkyMap.pdf\n",
      "/data/des91.b/data/neilsen/LSST/devel/rubin_sim_notebooks/maf/tutorial/bulk_metric_data/rolling_ns3_rw0.5_v2.0_10yrs/bulk_example/rolling_ns3_rw0_5_v2_0_10yrs_CoaddM5_g_HEAL_Histogram.pdf\n",
      "/data/des91.b/data/neilsen/LSST/devel/rubin_sim_notebooks/maf/tutorial/bulk_metric_data/rolling_ns2_rw0.9_v2.0_10yrs/bulk_example/rolling_ns2_rw0_9_v2_0_10yrs_Count_airmass_ONED_BinnedData.pdf\n",
      "/data/des91.b/data/neilsen/LSST/devel/rubin_sim_notebooks/maf/tutorial/bulk_metric_data/rolling_ns2_rw0.9_v2.0_10yrs/bulk_example/rolling_ns2_rw0_9_v2_0_10yrs_CoaddM5_i_HEAL_SkyMap.pdf\n",
      "/data/des91.b/data/neilsen/LSST/devel/rubin_sim_notebooks/maf/tutorial/bulk_metric_data/rolling_ns2_rw0.9_v2.0_10yrs/bulk_example/rolling_ns2_rw0_9_v2_0_10yrs_CoaddM5_i_HEAL_Histogram.pdf\n",
      "/data/des91.b/data/neilsen/LSST/devel/rubin_sim_notebooks/maf/tutorial/bulk_metric_data/rolling_ns2_rw0.9_v2.0_10yrs/bulk_example/rolling_ns2_rw0_9_v2_0_10yrs_CoaddM5_g_HEAL_SkyMap.pdf\n",
      "/data/des91.b/data/neilsen/LSST/devel/rubin_sim_notebooks/maf/tutorial/bulk_metric_data/rolling_ns2_rw0.9_v2.0_10yrs/bulk_example/rolling_ns2_rw0_9_v2_0_10yrs_CoaddM5_g_HEAL_Histogram.pdf\n",
      "/data/des91.b/data/neilsen/LSST/devel/rubin_sim_notebooks/maf/tutorial/bulk_metric_data/rolling_ns3_rw0.9_v2.0_10yrs/bulk_example/rolling_ns3_rw0_9_v2_0_10yrs_Count_airmass_ONED_BinnedData.pdf\n",
      "/data/des91.b/data/neilsen/LSST/devel/rubin_sim_notebooks/maf/tutorial/bulk_metric_data/rolling_ns3_rw0.9_v2.0_10yrs/bulk_example/rolling_ns3_rw0_9_v2_0_10yrs_CoaddM5_i_HEAL_SkyMap.pdf\n",
      "/data/des91.b/data/neilsen/LSST/devel/rubin_sim_notebooks/maf/tutorial/bulk_metric_data/rolling_ns3_rw0.9_v2.0_10yrs/bulk_example/rolling_ns3_rw0_9_v2_0_10yrs_CoaddM5_i_HEAL_Histogram.pdf\n",
      "/data/des91.b/data/neilsen/LSST/devel/rubin_sim_notebooks/maf/tutorial/bulk_metric_data/rolling_ns3_rw0.9_v2.0_10yrs/bulk_example/rolling_ns3_rw0_9_v2_0_10yrs_CoaddM5_g_HEAL_SkyMap.pdf\n",
      "/data/des91.b/data/neilsen/LSST/devel/rubin_sim_notebooks/maf/tutorial/bulk_metric_data/rolling_ns3_rw0.9_v2.0_10yrs/bulk_example/rolling_ns3_rw0_9_v2_0_10yrs_CoaddM5_g_HEAL_Histogram.pdf\n"
     ]
    }
   ],
   "source": [
    "!find $data_dir -name \\*.pdf"
   ]
  },
  {
   "cell_type": "code",
   "execution_count": 28,
   "metadata": {},
   "outputs": [
    {
     "name": "stdout",
     "output_type": "stream",
     "text": [
      "/data/des91.b/data/neilsen/LSST/devel/rubin_sim_notebooks/maf/tutorial/bulk_metric_data/baseline_v2.0_10yrs/bulk_example/thumb.baseline_v2_0_10yrs_Count_airmass_ONED_BinnedData.png\n",
      "/data/des91.b/data/neilsen/LSST/devel/rubin_sim_notebooks/maf/tutorial/bulk_metric_data/baseline_v2.0_10yrs/bulk_example/thumb.baseline_v2_0_10yrs_CoaddM5_i_HEAL_SkyMap.png\n",
      "/data/des91.b/data/neilsen/LSST/devel/rubin_sim_notebooks/maf/tutorial/bulk_metric_data/baseline_v2.0_10yrs/bulk_example/thumb.baseline_v2_0_10yrs_CoaddM5_i_HEAL_Histogram.png\n",
      "/data/des91.b/data/neilsen/LSST/devel/rubin_sim_notebooks/maf/tutorial/bulk_metric_data/baseline_v2.0_10yrs/bulk_example/thumb.baseline_v2_0_10yrs_CoaddM5_g_HEAL_SkyMap.png\n",
      "/data/des91.b/data/neilsen/LSST/devel/rubin_sim_notebooks/maf/tutorial/bulk_metric_data/baseline_v2.0_10yrs/bulk_example/thumb.baseline_v2_0_10yrs_CoaddM5_g_HEAL_Histogram.png\n",
      "/data/des91.b/data/neilsen/LSST/devel/rubin_sim_notebooks/maf/tutorial/bulk_metric_data/baseline_retrofoot_v2.0_10yrs/bulk_example/thumb.baseline_retrofoot_v2_0_10yrs_Count_airmass_ONED_BinnedData.png\n",
      "/data/des91.b/data/neilsen/LSST/devel/rubin_sim_notebooks/maf/tutorial/bulk_metric_data/baseline_retrofoot_v2.0_10yrs/bulk_example/thumb.baseline_retrofoot_v2_0_10yrs_CoaddM5_i_HEAL_SkyMap.png\n",
      "/data/des91.b/data/neilsen/LSST/devel/rubin_sim_notebooks/maf/tutorial/bulk_metric_data/baseline_retrofoot_v2.0_10yrs/bulk_example/thumb.baseline_retrofoot_v2_0_10yrs_CoaddM5_i_HEAL_Histogram.png\n",
      "/data/des91.b/data/neilsen/LSST/devel/rubin_sim_notebooks/maf/tutorial/bulk_metric_data/baseline_retrofoot_v2.0_10yrs/bulk_example/thumb.baseline_retrofoot_v2_0_10yrs_CoaddM5_g_HEAL_SkyMap.png\n",
      "/data/des91.b/data/neilsen/LSST/devel/rubin_sim_notebooks/maf/tutorial/bulk_metric_data/baseline_retrofoot_v2.0_10yrs/bulk_example/thumb.baseline_retrofoot_v2_0_10yrs_CoaddM5_g_HEAL_Histogram.png\n",
      "/data/des91.b/data/neilsen/LSST/devel/rubin_sim_notebooks/maf/tutorial/bulk_metric_data/retro_baseline_v2.0_10yrs/bulk_example/thumb.retro_baseline_v2_0_10yrs_Count_airmass_ONED_BinnedData.png\n",
      "/data/des91.b/data/neilsen/LSST/devel/rubin_sim_notebooks/maf/tutorial/bulk_metric_data/retro_baseline_v2.0_10yrs/bulk_example/thumb.retro_baseline_v2_0_10yrs_CoaddM5_i_HEAL_SkyMap.png\n",
      "/data/des91.b/data/neilsen/LSST/devel/rubin_sim_notebooks/maf/tutorial/bulk_metric_data/retro_baseline_v2.0_10yrs/bulk_example/thumb.retro_baseline_v2_0_10yrs_CoaddM5_i_HEAL_Histogram.png\n",
      "/data/des91.b/data/neilsen/LSST/devel/rubin_sim_notebooks/maf/tutorial/bulk_metric_data/retro_baseline_v2.0_10yrs/bulk_example/thumb.retro_baseline_v2_0_10yrs_CoaddM5_g_HEAL_SkyMap.png\n",
      "/data/des91.b/data/neilsen/LSST/devel/rubin_sim_notebooks/maf/tutorial/bulk_metric_data/retro_baseline_v2.0_10yrs/bulk_example/thumb.retro_baseline_v2_0_10yrs_CoaddM5_g_HEAL_Histogram.png\n",
      "/data/des91.b/data/neilsen/LSST/devel/rubin_sim_notebooks/maf/tutorial/bulk_metric_data/rolling_ns2_rw0.5_v2.0_10yrs/bulk_example/thumb.rolling_ns2_rw0_5_v2_0_10yrs_Count_airmass_ONED_BinnedData.png\n",
      "/data/des91.b/data/neilsen/LSST/devel/rubin_sim_notebooks/maf/tutorial/bulk_metric_data/rolling_ns2_rw0.5_v2.0_10yrs/bulk_example/thumb.rolling_ns2_rw0_5_v2_0_10yrs_CoaddM5_i_HEAL_SkyMap.png\n",
      "/data/des91.b/data/neilsen/LSST/devel/rubin_sim_notebooks/maf/tutorial/bulk_metric_data/rolling_ns2_rw0.5_v2.0_10yrs/bulk_example/thumb.rolling_ns2_rw0_5_v2_0_10yrs_CoaddM5_i_HEAL_Histogram.png\n",
      "/data/des91.b/data/neilsen/LSST/devel/rubin_sim_notebooks/maf/tutorial/bulk_metric_data/rolling_ns2_rw0.5_v2.0_10yrs/bulk_example/thumb.rolling_ns2_rw0_5_v2_0_10yrs_CoaddM5_g_HEAL_SkyMap.png\n",
      "/data/des91.b/data/neilsen/LSST/devel/rubin_sim_notebooks/maf/tutorial/bulk_metric_data/rolling_ns2_rw0.5_v2.0_10yrs/bulk_example/thumb.rolling_ns2_rw0_5_v2_0_10yrs_CoaddM5_g_HEAL_Histogram.png\n",
      "/data/des91.b/data/neilsen/LSST/devel/rubin_sim_notebooks/maf/tutorial/bulk_metric_data/rolling_ns3_rw0.5_v2.0_10yrs/bulk_example/thumb.rolling_ns3_rw0_5_v2_0_10yrs_Count_airmass_ONED_BinnedData.png\n",
      "/data/des91.b/data/neilsen/LSST/devel/rubin_sim_notebooks/maf/tutorial/bulk_metric_data/rolling_ns3_rw0.5_v2.0_10yrs/bulk_example/thumb.rolling_ns3_rw0_5_v2_0_10yrs_CoaddM5_i_HEAL_SkyMap.png\n",
      "/data/des91.b/data/neilsen/LSST/devel/rubin_sim_notebooks/maf/tutorial/bulk_metric_data/rolling_ns3_rw0.5_v2.0_10yrs/bulk_example/thumb.rolling_ns3_rw0_5_v2_0_10yrs_CoaddM5_i_HEAL_Histogram.png\n",
      "/data/des91.b/data/neilsen/LSST/devel/rubin_sim_notebooks/maf/tutorial/bulk_metric_data/rolling_ns3_rw0.5_v2.0_10yrs/bulk_example/thumb.rolling_ns3_rw0_5_v2_0_10yrs_CoaddM5_g_HEAL_SkyMap.png\n",
      "/data/des91.b/data/neilsen/LSST/devel/rubin_sim_notebooks/maf/tutorial/bulk_metric_data/rolling_ns3_rw0.5_v2.0_10yrs/bulk_example/thumb.rolling_ns3_rw0_5_v2_0_10yrs_CoaddM5_g_HEAL_Histogram.png\n",
      "/data/des91.b/data/neilsen/LSST/devel/rubin_sim_notebooks/maf/tutorial/bulk_metric_data/rolling_ns2_rw0.9_v2.0_10yrs/bulk_example/thumb.rolling_ns2_rw0_9_v2_0_10yrs_Count_airmass_ONED_BinnedData.png\n",
      "/data/des91.b/data/neilsen/LSST/devel/rubin_sim_notebooks/maf/tutorial/bulk_metric_data/rolling_ns2_rw0.9_v2.0_10yrs/bulk_example/thumb.rolling_ns2_rw0_9_v2_0_10yrs_CoaddM5_i_HEAL_SkyMap.png\n",
      "/data/des91.b/data/neilsen/LSST/devel/rubin_sim_notebooks/maf/tutorial/bulk_metric_data/rolling_ns2_rw0.9_v2.0_10yrs/bulk_example/thumb.rolling_ns2_rw0_9_v2_0_10yrs_CoaddM5_i_HEAL_Histogram.png\n",
      "/data/des91.b/data/neilsen/LSST/devel/rubin_sim_notebooks/maf/tutorial/bulk_metric_data/rolling_ns2_rw0.9_v2.0_10yrs/bulk_example/thumb.rolling_ns2_rw0_9_v2_0_10yrs_CoaddM5_g_HEAL_SkyMap.png\n",
      "/data/des91.b/data/neilsen/LSST/devel/rubin_sim_notebooks/maf/tutorial/bulk_metric_data/rolling_ns2_rw0.9_v2.0_10yrs/bulk_example/thumb.rolling_ns2_rw0_9_v2_0_10yrs_CoaddM5_g_HEAL_Histogram.png\n",
      "/data/des91.b/data/neilsen/LSST/devel/rubin_sim_notebooks/maf/tutorial/bulk_metric_data/rolling_ns3_rw0.9_v2.0_10yrs/bulk_example/thumb.rolling_ns3_rw0_9_v2_0_10yrs_Count_airmass_ONED_BinnedData.png\n",
      "/data/des91.b/data/neilsen/LSST/devel/rubin_sim_notebooks/maf/tutorial/bulk_metric_data/rolling_ns3_rw0.9_v2.0_10yrs/bulk_example/thumb.rolling_ns3_rw0_9_v2_0_10yrs_CoaddM5_i_HEAL_SkyMap.png\n",
      "/data/des91.b/data/neilsen/LSST/devel/rubin_sim_notebooks/maf/tutorial/bulk_metric_data/rolling_ns3_rw0.9_v2.0_10yrs/bulk_example/thumb.rolling_ns3_rw0_9_v2_0_10yrs_CoaddM5_i_HEAL_Histogram.png\n",
      "/data/des91.b/data/neilsen/LSST/devel/rubin_sim_notebooks/maf/tutorial/bulk_metric_data/rolling_ns3_rw0.9_v2.0_10yrs/bulk_example/thumb.rolling_ns3_rw0_9_v2_0_10yrs_CoaddM5_g_HEAL_SkyMap.png\n",
      "/data/des91.b/data/neilsen/LSST/devel/rubin_sim_notebooks/maf/tutorial/bulk_metric_data/rolling_ns3_rw0.9_v2.0_10yrs/bulk_example/thumb.rolling_ns3_rw0_9_v2_0_10yrs_CoaddM5_g_HEAL_Histogram.png\n"
     ]
    }
   ],
   "source": [
    "!find $data_dir -name \\*.png"
   ]
  },
  {
   "cell_type": "markdown",
   "metadata": {},
   "source": [
    "The results databases are `sqlite3` databases with metadata and summary information about the metrics run, including names of the files with the metrics and plots.\n",
    "The `maf.ResultsDb` class provides access to this metadata; it's use is described in the `Comparing Runs` notebook.\n",
    "\n",
    "It can also be used directly, for example by loading its contents into a `pandas.DataFrame`:"
   ]
  },
  {
   "cell_type": "code",
   "execution_count": 29,
   "metadata": {},
   "outputs": [
    {
     "data": {
      "text/plain": [
       "'/data/des91.b/data/neilsen/LSST/devel/rubin_sim_notebooks/maf/tutorial/bulk_metric_data/baseline_v2.0_10yrs/bulk_example/resultsDb_sqlite.db'"
      ]
     },
     "execution_count": 29,
     "metadata": {},
     "output_type": "execute_result"
    }
   ],
   "source": [
    "from os import path\n",
    "\n",
    "resultsdb_fname = path.join(data_dir, opsim_runs[0], \"bulk_example/resultsDb_sqlite.db\")\n",
    "resultsdb_fname"
   ]
  },
  {
   "cell_type": "code",
   "execution_count": 30,
   "metadata": {},
   "outputs": [
    {
     "data": {
      "text/html": [
       "<div>\n",
       "<style scoped>\n",
       "    .dataframe tbody tr th:only-of-type {\n",
       "        vertical-align: middle;\n",
       "    }\n",
       "\n",
       "    .dataframe tbody tr th {\n",
       "        vertical-align: top;\n",
       "    }\n",
       "\n",
       "    .dataframe thead th {\n",
       "        text-align: right;\n",
       "    }\n",
       "</style>\n",
       "<table border=\"1\" class=\"dataframe\">\n",
       "  <thead>\n",
       "    <tr style=\"text-align: right;\">\n",
       "      <th></th>\n",
       "      <th>metricName</th>\n",
       "      <th>slicerName</th>\n",
       "      <th>simDataName</th>\n",
       "      <th>sqlConstraint</th>\n",
       "      <th>metricMetadata</th>\n",
       "      <th>metricDataFile</th>\n",
       "    </tr>\n",
       "    <tr>\n",
       "      <th>metricId</th>\n",
       "      <th></th>\n",
       "      <th></th>\n",
       "      <th></th>\n",
       "      <th></th>\n",
       "      <th></th>\n",
       "      <th></th>\n",
       "    </tr>\n",
       "  </thead>\n",
       "  <tbody>\n",
       "    <tr>\n",
       "      <th>1</th>\n",
       "      <td>OpenShutterFraction</td>\n",
       "      <td>UniSlicer</td>\n",
       "      <td>baseline_v2.0_10yrs</td>\n",
       "      <td></td>\n",
       "      <td></td>\n",
       "      <td>baseline_v2_0_10yrs_OpenShutterFraction_UNIS.npz</td>\n",
       "    </tr>\n",
       "    <tr>\n",
       "      <th>2</th>\n",
       "      <td>Count airmass</td>\n",
       "      <td>OneDSlicer</td>\n",
       "      <td>baseline_v2.0_10yrs</td>\n",
       "      <td></td>\n",
       "      <td></td>\n",
       "      <td>baseline_v2_0_10yrs_Count_airmass_ONED.npz</td>\n",
       "    </tr>\n",
       "    <tr>\n",
       "      <th>3</th>\n",
       "      <td>CoaddM5</td>\n",
       "      <td>HealpixSlicer</td>\n",
       "      <td>baseline_v2.0_10yrs</td>\n",
       "      <td>filter = 'i'</td>\n",
       "      <td>i</td>\n",
       "      <td>baseline_v2_0_10yrs_CoaddM5_i_HEAL.npz</td>\n",
       "    </tr>\n",
       "    <tr>\n",
       "      <th>4</th>\n",
       "      <td>CoaddM5</td>\n",
       "      <td>HealpixSlicer</td>\n",
       "      <td>baseline_v2.0_10yrs</td>\n",
       "      <td>filter = 'g'</td>\n",
       "      <td>g</td>\n",
       "      <td>baseline_v2_0_10yrs_CoaddM5_g_HEAL.npz</td>\n",
       "    </tr>\n",
       "  </tbody>\n",
       "</table>\n",
       "</div>"
      ],
      "text/plain": [
       "                   metricName     slicerName          simDataName  \\\n",
       "metricId                                                            \n",
       "1         OpenShutterFraction      UniSlicer  baseline_v2.0_10yrs   \n",
       "2               Count airmass     OneDSlicer  baseline_v2.0_10yrs   \n",
       "3                     CoaddM5  HealpixSlicer  baseline_v2.0_10yrs   \n",
       "4                     CoaddM5  HealpixSlicer  baseline_v2.0_10yrs   \n",
       "\n",
       "         sqlConstraint metricMetadata  \\\n",
       "metricId                                \n",
       "1                                       \n",
       "2                                       \n",
       "3         filter = 'i'              i   \n",
       "4         filter = 'g'              g   \n",
       "\n",
       "                                            metricDataFile  \n",
       "metricId                                                    \n",
       "1         baseline_v2_0_10yrs_OpenShutterFraction_UNIS.npz  \n",
       "2               baseline_v2_0_10yrs_Count_airmass_ONED.npz  \n",
       "3                   baseline_v2_0_10yrs_CoaddM5_i_HEAL.npz  \n",
       "4                   baseline_v2_0_10yrs_CoaddM5_g_HEAL.npz  "
      ]
     },
     "execution_count": 30,
     "metadata": {},
     "output_type": "execute_result"
    }
   ],
   "source": [
    "import sqlite3\n",
    "import pandas as pd\n",
    "\n",
    "with sqlite3.connect(resultsdb_fname) as con:\n",
    "    df = pd.read_sql(\"SELECT * FROM metrics\", con, index_col=\"metricId\")\n",
    "\n",
    "df"
   ]
  },
  {
   "cell_type": "code",
   "execution_count": 31,
   "metadata": {},
   "outputs": [
    {
     "data": {
      "text/html": [
       "<div>\n",
       "<style scoped>\n",
       "    .dataframe tbody tr th:only-of-type {\n",
       "        vertical-align: middle;\n",
       "    }\n",
       "\n",
       "    .dataframe tbody tr th {\n",
       "        vertical-align: top;\n",
       "    }\n",
       "\n",
       "    .dataframe thead th {\n",
       "        text-align: right;\n",
       "    }\n",
       "</style>\n",
       "<table border=\"1\" class=\"dataframe\">\n",
       "  <thead>\n",
       "    <tr style=\"text-align: right;\">\n",
       "      <th></th>\n",
       "      <th></th>\n",
       "      <th>plotType</th>\n",
       "      <th>plotFile</th>\n",
       "      <th>metricName</th>\n",
       "      <th>slicerName</th>\n",
       "      <th>simDataName</th>\n",
       "      <th>sqlConstraint</th>\n",
       "      <th>metricMetadata</th>\n",
       "      <th>metricDataFile</th>\n",
       "    </tr>\n",
       "    <tr>\n",
       "      <th>metricId</th>\n",
       "      <th>plotId</th>\n",
       "      <th></th>\n",
       "      <th></th>\n",
       "      <th></th>\n",
       "      <th></th>\n",
       "      <th></th>\n",
       "      <th></th>\n",
       "      <th></th>\n",
       "      <th></th>\n",
       "    </tr>\n",
       "  </thead>\n",
       "  <tbody>\n",
       "    <tr>\n",
       "      <th>2</th>\n",
       "      <th>1</th>\n",
       "      <td>BinnedData</td>\n",
       "      <td>baseline_v2_0_10yrs_Count_airmass_ONED_BinnedD...</td>\n",
       "      <td>Count airmass</td>\n",
       "      <td>OneDSlicer</td>\n",
       "      <td>baseline_v2.0_10yrs</td>\n",
       "      <td></td>\n",
       "      <td></td>\n",
       "      <td>baseline_v2_0_10yrs_Count_airmass_ONED.npz</td>\n",
       "    </tr>\n",
       "    <tr>\n",
       "      <th rowspan=\"2\" valign=\"top\">3</th>\n",
       "      <th>2</th>\n",
       "      <td>SkyMap</td>\n",
       "      <td>baseline_v2_0_10yrs_CoaddM5_i_HEAL_SkyMap.pdf</td>\n",
       "      <td>CoaddM5</td>\n",
       "      <td>HealpixSlicer</td>\n",
       "      <td>baseline_v2.0_10yrs</td>\n",
       "      <td>filter = 'i'</td>\n",
       "      <td>i</td>\n",
       "      <td>baseline_v2_0_10yrs_CoaddM5_i_HEAL.npz</td>\n",
       "    </tr>\n",
       "    <tr>\n",
       "      <th>3</th>\n",
       "      <td>Histogram</td>\n",
       "      <td>baseline_v2_0_10yrs_CoaddM5_i_HEAL_Histogram.pdf</td>\n",
       "      <td>CoaddM5</td>\n",
       "      <td>HealpixSlicer</td>\n",
       "      <td>baseline_v2.0_10yrs</td>\n",
       "      <td>filter = 'i'</td>\n",
       "      <td>i</td>\n",
       "      <td>baseline_v2_0_10yrs_CoaddM5_i_HEAL.npz</td>\n",
       "    </tr>\n",
       "    <tr>\n",
       "      <th rowspan=\"2\" valign=\"top\">4</th>\n",
       "      <th>4</th>\n",
       "      <td>SkyMap</td>\n",
       "      <td>baseline_v2_0_10yrs_CoaddM5_g_HEAL_SkyMap.pdf</td>\n",
       "      <td>CoaddM5</td>\n",
       "      <td>HealpixSlicer</td>\n",
       "      <td>baseline_v2.0_10yrs</td>\n",
       "      <td>filter = 'g'</td>\n",
       "      <td>g</td>\n",
       "      <td>baseline_v2_0_10yrs_CoaddM5_g_HEAL.npz</td>\n",
       "    </tr>\n",
       "    <tr>\n",
       "      <th>5</th>\n",
       "      <td>Histogram</td>\n",
       "      <td>baseline_v2_0_10yrs_CoaddM5_g_HEAL_Histogram.pdf</td>\n",
       "      <td>CoaddM5</td>\n",
       "      <td>HealpixSlicer</td>\n",
       "      <td>baseline_v2.0_10yrs</td>\n",
       "      <td>filter = 'g'</td>\n",
       "      <td>g</td>\n",
       "      <td>baseline_v2_0_10yrs_CoaddM5_g_HEAL.npz</td>\n",
       "    </tr>\n",
       "  </tbody>\n",
       "</table>\n",
       "</div>"
      ],
      "text/plain": [
       "                   plotType  \\\n",
       "metricId plotId               \n",
       "2        1       BinnedData   \n",
       "3        2           SkyMap   \n",
       "         3        Histogram   \n",
       "4        4           SkyMap   \n",
       "         5        Histogram   \n",
       "\n",
       "                                                          plotFile  \\\n",
       "metricId plotId                                                      \n",
       "2        1       baseline_v2_0_10yrs_Count_airmass_ONED_BinnedD...   \n",
       "3        2           baseline_v2_0_10yrs_CoaddM5_i_HEAL_SkyMap.pdf   \n",
       "         3        baseline_v2_0_10yrs_CoaddM5_i_HEAL_Histogram.pdf   \n",
       "4        4           baseline_v2_0_10yrs_CoaddM5_g_HEAL_SkyMap.pdf   \n",
       "         5        baseline_v2_0_10yrs_CoaddM5_g_HEAL_Histogram.pdf   \n",
       "\n",
       "                    metricName     slicerName          simDataName  \\\n",
       "metricId plotId                                                      \n",
       "2        1       Count airmass     OneDSlicer  baseline_v2.0_10yrs   \n",
       "3        2             CoaddM5  HealpixSlicer  baseline_v2.0_10yrs   \n",
       "         3             CoaddM5  HealpixSlicer  baseline_v2.0_10yrs   \n",
       "4        4             CoaddM5  HealpixSlicer  baseline_v2.0_10yrs   \n",
       "         5             CoaddM5  HealpixSlicer  baseline_v2.0_10yrs   \n",
       "\n",
       "                sqlConstraint metricMetadata  \\\n",
       "metricId plotId                                \n",
       "2        1                                     \n",
       "3        2       filter = 'i'              i   \n",
       "         3       filter = 'i'              i   \n",
       "4        4       filter = 'g'              g   \n",
       "         5       filter = 'g'              g   \n",
       "\n",
       "                                             metricDataFile  \n",
       "metricId plotId                                              \n",
       "2        1       baseline_v2_0_10yrs_Count_airmass_ONED.npz  \n",
       "3        2           baseline_v2_0_10yrs_CoaddM5_i_HEAL.npz  \n",
       "         3           baseline_v2_0_10yrs_CoaddM5_i_HEAL.npz  \n",
       "4        4           baseline_v2_0_10yrs_CoaddM5_g_HEAL.npz  \n",
       "         5           baseline_v2_0_10yrs_CoaddM5_g_HEAL.npz  "
      ]
     },
     "execution_count": 31,
     "metadata": {},
     "output_type": "execute_result"
    }
   ],
   "source": [
    "with sqlite3.connect(resultsdb_fname) as con:\n",
    "    df = pd.read_sql(\n",
    "        \"SELECT * FROM plots NATURAL JOIN metrics\",\n",
    "        con,\n",
    "        index_col=[\"metricId\", \"plotId\"],\n",
    "    )\n",
    "\n",
    "df"
   ]
  },
  {
   "cell_type": "code",
   "execution_count": 32,
   "metadata": {},
   "outputs": [
    {
     "data": {
      "text/html": [
       "<div>\n",
       "<style scoped>\n",
       "    .dataframe tbody tr th:only-of-type {\n",
       "        vertical-align: middle;\n",
       "    }\n",
       "\n",
       "    .dataframe tbody tr th {\n",
       "        vertical-align: top;\n",
       "    }\n",
       "\n",
       "    .dataframe thead th {\n",
       "        text-align: right;\n",
       "    }\n",
       "</style>\n",
       "<table border=\"1\" class=\"dataframe\">\n",
       "  <thead>\n",
       "    <tr style=\"text-align: right;\">\n",
       "      <th></th>\n",
       "      <th></th>\n",
       "      <th>summaryName</th>\n",
       "      <th>summaryValue</th>\n",
       "      <th>metricName</th>\n",
       "      <th>slicerName</th>\n",
       "      <th>simDataName</th>\n",
       "      <th>sqlConstraint</th>\n",
       "      <th>metricMetadata</th>\n",
       "      <th>metricDataFile</th>\n",
       "    </tr>\n",
       "    <tr>\n",
       "      <th>metricId</th>\n",
       "      <th>statId</th>\n",
       "      <th></th>\n",
       "      <th></th>\n",
       "      <th></th>\n",
       "      <th></th>\n",
       "      <th></th>\n",
       "      <th></th>\n",
       "      <th></th>\n",
       "      <th></th>\n",
       "    </tr>\n",
       "  </thead>\n",
       "  <tbody>\n",
       "    <tr>\n",
       "      <th>1</th>\n",
       "      <th>1</th>\n",
       "      <td>Identity</td>\n",
       "      <td>0.722458</td>\n",
       "      <td>OpenShutterFraction</td>\n",
       "      <td>UniSlicer</td>\n",
       "      <td>baseline_v2.0_10yrs</td>\n",
       "      <td></td>\n",
       "      <td></td>\n",
       "      <td>baseline_v2_0_10yrs_OpenShutterFraction_UNIS.npz</td>\n",
       "    </tr>\n",
       "    <tr>\n",
       "      <th rowspan=\"10\" valign=\"top\">2</th>\n",
       "      <th>2</th>\n",
       "      <td>Mean</td>\n",
       "      <td>69566.000000</td>\n",
       "      <td>Count airmass</td>\n",
       "      <td>OneDSlicer</td>\n",
       "      <td>baseline_v2.0_10yrs</td>\n",
       "      <td></td>\n",
       "      <td></td>\n",
       "      <td>baseline_v2_0_10yrs_Count_airmass_ONED.npz</td>\n",
       "    </tr>\n",
       "    <tr>\n",
       "      <th>3</th>\n",
       "      <td>Rms</td>\n",
       "      <td>103403.912924</td>\n",
       "      <td>Count airmass</td>\n",
       "      <td>OneDSlicer</td>\n",
       "      <td>baseline_v2.0_10yrs</td>\n",
       "      <td></td>\n",
       "      <td></td>\n",
       "      <td>baseline_v2_0_10yrs_Count_airmass_ONED.npz</td>\n",
       "    </tr>\n",
       "    <tr>\n",
       "      <th>4</th>\n",
       "      <td>Median</td>\n",
       "      <td>13391.500000</td>\n",
       "      <td>Count airmass</td>\n",
       "      <td>OneDSlicer</td>\n",
       "      <td>baseline_v2.0_10yrs</td>\n",
       "      <td></td>\n",
       "      <td></td>\n",
       "      <td>baseline_v2_0_10yrs_Count_airmass_ONED.npz</td>\n",
       "    </tr>\n",
       "    <tr>\n",
       "      <th>5</th>\n",
       "      <td>Max</td>\n",
       "      <td>365361.000000</td>\n",
       "      <td>Count airmass</td>\n",
       "      <td>OneDSlicer</td>\n",
       "      <td>baseline_v2.0_10yrs</td>\n",
       "      <td></td>\n",
       "      <td></td>\n",
       "      <td>baseline_v2_0_10yrs_Count_airmass_ONED.npz</td>\n",
       "    </tr>\n",
       "    <tr>\n",
       "      <th>6</th>\n",
       "      <td>Min</td>\n",
       "      <td>831.000000</td>\n",
       "      <td>Count airmass</td>\n",
       "      <td>OneDSlicer</td>\n",
       "      <td>baseline_v2.0_10yrs</td>\n",
       "      <td></td>\n",
       "      <td></td>\n",
       "      <td>baseline_v2_0_10yrs_Count_airmass_ONED.npz</td>\n",
       "    </tr>\n",
       "    <tr>\n",
       "      <th>7</th>\n",
       "      <td>N(+3Sigma)</td>\n",
       "      <td>0.000000</td>\n",
       "      <td>Count airmass</td>\n",
       "      <td>OneDSlicer</td>\n",
       "      <td>baseline_v2.0_10yrs</td>\n",
       "      <td></td>\n",
       "      <td></td>\n",
       "      <td>baseline_v2_0_10yrs_Count_airmass_ONED.npz</td>\n",
       "    </tr>\n",
       "    <tr>\n",
       "      <th>8</th>\n",
       "      <td>N(-3Sigma)</td>\n",
       "      <td>0.000000</td>\n",
       "      <td>Count airmass</td>\n",
       "      <td>OneDSlicer</td>\n",
       "      <td>baseline_v2.0_10yrs</td>\n",
       "      <td></td>\n",
       "      <td></td>\n",
       "      <td>baseline_v2_0_10yrs_Count_airmass_ONED.npz</td>\n",
       "    </tr>\n",
       "    <tr>\n",
       "      <th>9</th>\n",
       "      <td>Count</td>\n",
       "      <td>30.000000</td>\n",
       "      <td>Count airmass</td>\n",
       "      <td>OneDSlicer</td>\n",
       "      <td>baseline_v2.0_10yrs</td>\n",
       "      <td></td>\n",
       "      <td></td>\n",
       "      <td>baseline_v2_0_10yrs_Count_airmass_ONED.npz</td>\n",
       "    </tr>\n",
       "    <tr>\n",
       "      <th>10</th>\n",
       "      <td>25th%ile</td>\n",
       "      <td>3339.000000</td>\n",
       "      <td>Count airmass</td>\n",
       "      <td>OneDSlicer</td>\n",
       "      <td>baseline_v2.0_10yrs</td>\n",
       "      <td></td>\n",
       "      <td></td>\n",
       "      <td>baseline_v2_0_10yrs_Count_airmass_ONED.npz</td>\n",
       "    </tr>\n",
       "    <tr>\n",
       "      <th>11</th>\n",
       "      <td>75th%ile</td>\n",
       "      <td>99346.750000</td>\n",
       "      <td>Count airmass</td>\n",
       "      <td>OneDSlicer</td>\n",
       "      <td>baseline_v2.0_10yrs</td>\n",
       "      <td></td>\n",
       "      <td></td>\n",
       "      <td>baseline_v2_0_10yrs_Count_airmass_ONED.npz</td>\n",
       "    </tr>\n",
       "    <tr>\n",
       "      <th rowspan=\"3\" valign=\"top\">3</th>\n",
       "      <th>12</th>\n",
       "      <td>Min</td>\n",
       "      <td>26.103001</td>\n",
       "      <td>CoaddM5</td>\n",
       "      <td>HealpixSlicer</td>\n",
       "      <td>baseline_v2.0_10yrs</td>\n",
       "      <td>filter = 'i'</td>\n",
       "      <td>i</td>\n",
       "      <td>baseline_v2_0_10yrs_CoaddM5_i_HEAL.npz</td>\n",
       "    </tr>\n",
       "    <tr>\n",
       "      <th>13</th>\n",
       "      <td>Median</td>\n",
       "      <td>26.287872</td>\n",
       "      <td>CoaddM5</td>\n",
       "      <td>HealpixSlicer</td>\n",
       "      <td>baseline_v2.0_10yrs</td>\n",
       "      <td>filter = 'i'</td>\n",
       "      <td>i</td>\n",
       "      <td>baseline_v2_0_10yrs_CoaddM5_i_HEAL.npz</td>\n",
       "    </tr>\n",
       "    <tr>\n",
       "      <th>14</th>\n",
       "      <td>Max</td>\n",
       "      <td>28.221760</td>\n",
       "      <td>CoaddM5</td>\n",
       "      <td>HealpixSlicer</td>\n",
       "      <td>baseline_v2.0_10yrs</td>\n",
       "      <td>filter = 'i'</td>\n",
       "      <td>i</td>\n",
       "      <td>baseline_v2_0_10yrs_CoaddM5_i_HEAL.npz</td>\n",
       "    </tr>\n",
       "    <tr>\n",
       "      <th rowspan=\"3\" valign=\"top\">4</th>\n",
       "      <th>15</th>\n",
       "      <td>Min</td>\n",
       "      <td>26.662000</td>\n",
       "      <td>CoaddM5</td>\n",
       "      <td>HealpixSlicer</td>\n",
       "      <td>baseline_v2.0_10yrs</td>\n",
       "      <td>filter = 'g'</td>\n",
       "      <td>g</td>\n",
       "      <td>baseline_v2_0_10yrs_CoaddM5_g_HEAL.npz</td>\n",
       "    </tr>\n",
       "    <tr>\n",
       "      <th>16</th>\n",
       "      <td>Median</td>\n",
       "      <td>26.816838</td>\n",
       "      <td>CoaddM5</td>\n",
       "      <td>HealpixSlicer</td>\n",
       "      <td>baseline_v2.0_10yrs</td>\n",
       "      <td>filter = 'g'</td>\n",
       "      <td>g</td>\n",
       "      <td>baseline_v2_0_10yrs_CoaddM5_g_HEAL.npz</td>\n",
       "    </tr>\n",
       "    <tr>\n",
       "      <th>17</th>\n",
       "      <td>Max</td>\n",
       "      <td>28.721744</td>\n",
       "      <td>CoaddM5</td>\n",
       "      <td>HealpixSlicer</td>\n",
       "      <td>baseline_v2.0_10yrs</td>\n",
       "      <td>filter = 'g'</td>\n",
       "      <td>g</td>\n",
       "      <td>baseline_v2_0_10yrs_CoaddM5_g_HEAL.npz</td>\n",
       "    </tr>\n",
       "  </tbody>\n",
       "</table>\n",
       "</div>"
      ],
      "text/plain": [
       "                summaryName   summaryValue           metricName  \\\n",
       "metricId statId                                                   \n",
       "1        1         Identity       0.722458  OpenShutterFraction   \n",
       "2        2             Mean   69566.000000        Count airmass   \n",
       "         3              Rms  103403.912924        Count airmass   \n",
       "         4           Median   13391.500000        Count airmass   \n",
       "         5              Max  365361.000000        Count airmass   \n",
       "         6              Min     831.000000        Count airmass   \n",
       "         7       N(+3Sigma)       0.000000        Count airmass   \n",
       "         8       N(-3Sigma)       0.000000        Count airmass   \n",
       "         9            Count      30.000000        Count airmass   \n",
       "         10        25th%ile    3339.000000        Count airmass   \n",
       "         11        75th%ile   99346.750000        Count airmass   \n",
       "3        12             Min      26.103001              CoaddM5   \n",
       "         13          Median      26.287872              CoaddM5   \n",
       "         14             Max      28.221760              CoaddM5   \n",
       "4        15             Min      26.662000              CoaddM5   \n",
       "         16          Median      26.816838              CoaddM5   \n",
       "         17             Max      28.721744              CoaddM5   \n",
       "\n",
       "                    slicerName          simDataName sqlConstraint  \\\n",
       "metricId statId                                                     \n",
       "1        1           UniSlicer  baseline_v2.0_10yrs                 \n",
       "2        2          OneDSlicer  baseline_v2.0_10yrs                 \n",
       "         3          OneDSlicer  baseline_v2.0_10yrs                 \n",
       "         4          OneDSlicer  baseline_v2.0_10yrs                 \n",
       "         5          OneDSlicer  baseline_v2.0_10yrs                 \n",
       "         6          OneDSlicer  baseline_v2.0_10yrs                 \n",
       "         7          OneDSlicer  baseline_v2.0_10yrs                 \n",
       "         8          OneDSlicer  baseline_v2.0_10yrs                 \n",
       "         9          OneDSlicer  baseline_v2.0_10yrs                 \n",
       "         10         OneDSlicer  baseline_v2.0_10yrs                 \n",
       "         11         OneDSlicer  baseline_v2.0_10yrs                 \n",
       "3        12      HealpixSlicer  baseline_v2.0_10yrs  filter = 'i'   \n",
       "         13      HealpixSlicer  baseline_v2.0_10yrs  filter = 'i'   \n",
       "         14      HealpixSlicer  baseline_v2.0_10yrs  filter = 'i'   \n",
       "4        15      HealpixSlicer  baseline_v2.0_10yrs  filter = 'g'   \n",
       "         16      HealpixSlicer  baseline_v2.0_10yrs  filter = 'g'   \n",
       "         17      HealpixSlicer  baseline_v2.0_10yrs  filter = 'g'   \n",
       "\n",
       "                metricMetadata  \\\n",
       "metricId statId                  \n",
       "1        1                       \n",
       "2        2                       \n",
       "         3                       \n",
       "         4                       \n",
       "         5                       \n",
       "         6                       \n",
       "         7                       \n",
       "         8                       \n",
       "         9                       \n",
       "         10                      \n",
       "         11                      \n",
       "3        12                  i   \n",
       "         13                  i   \n",
       "         14                  i   \n",
       "4        15                  g   \n",
       "         16                  g   \n",
       "         17                  g   \n",
       "\n",
       "                                                   metricDataFile  \n",
       "metricId statId                                                    \n",
       "1        1       baseline_v2_0_10yrs_OpenShutterFraction_UNIS.npz  \n",
       "2        2             baseline_v2_0_10yrs_Count_airmass_ONED.npz  \n",
       "         3             baseline_v2_0_10yrs_Count_airmass_ONED.npz  \n",
       "         4             baseline_v2_0_10yrs_Count_airmass_ONED.npz  \n",
       "         5             baseline_v2_0_10yrs_Count_airmass_ONED.npz  \n",
       "         6             baseline_v2_0_10yrs_Count_airmass_ONED.npz  \n",
       "         7             baseline_v2_0_10yrs_Count_airmass_ONED.npz  \n",
       "         8             baseline_v2_0_10yrs_Count_airmass_ONED.npz  \n",
       "         9             baseline_v2_0_10yrs_Count_airmass_ONED.npz  \n",
       "         10            baseline_v2_0_10yrs_Count_airmass_ONED.npz  \n",
       "         11            baseline_v2_0_10yrs_Count_airmass_ONED.npz  \n",
       "3        12                baseline_v2_0_10yrs_CoaddM5_i_HEAL.npz  \n",
       "         13                baseline_v2_0_10yrs_CoaddM5_i_HEAL.npz  \n",
       "         14                baseline_v2_0_10yrs_CoaddM5_i_HEAL.npz  \n",
       "4        15                baseline_v2_0_10yrs_CoaddM5_g_HEAL.npz  \n",
       "         16                baseline_v2_0_10yrs_CoaddM5_g_HEAL.npz  \n",
       "         17                baseline_v2_0_10yrs_CoaddM5_g_HEAL.npz  "
      ]
     },
     "execution_count": 32,
     "metadata": {},
     "output_type": "execute_result"
    }
   ],
   "source": [
    "with sqlite3.connect(resultsdb_fname) as con:\n",
    "    df = pd.read_sql(\n",
    "        \"SELECT * FROM summarystats NATURAL JOIN metrics\",\n",
    "        con,\n",
    "        index_col=[\"metricId\", \"statId\"],\n",
    "    )\n",
    "\n",
    "df"
   ]
  },
  {
   "cell_type": "code",
   "execution_count": null,
   "metadata": {},
   "outputs": [],
   "source": []
  }
 ],
 "metadata": {
  "kernelspec": {
   "display_name": "ehn39",
   "language": "python",
   "name": "ehn39"
  },
  "language_info": {
   "codemirror_mode": {
    "name": "ipython",
    "version": 3
   },
   "file_extension": ".py",
   "mimetype": "text/x-python",
   "name": "python",
   "nbconvert_exporter": "python",
   "pygments_lexer": "ipython3",
   "version": "3.9.7"
  }
 },
 "nbformat": 4,
 "nbformat_minor": 4
}
