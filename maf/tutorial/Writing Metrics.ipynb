{
 "cells": [
  {
   "cell_type": "markdown",
   "metadata": {},
   "source": [
    "# Writing `MAF` metrics"
   ]
  },
  {
   "cell_type": "markdown",
   "metadata": {},
   "source": [
    "## Introduction"
   ]
  },
  {
   "cell_type": "markdown",
   "metadata": {},
   "source": [
    "This notebook gives instructions on how to write `MAF` metrics, the most common code development task for science groups."
   ]
  },
  {
   "cell_type": "markdown",
   "metadata": {},
   "source": [
    "## Notebook preparation"
   ]
  },
  {
   "cell_type": "markdown",
   "metadata": {},
   "source": [
    "The following is a development style aid; only uncomment if developing the notebook:"
   ]
  },
  {
   "cell_type": "code",
   "execution_count": 1,
   "metadata": {},
   "outputs": [],
   "source": [
    "# %load_ext lab_black\n",
    "# %load_ext pycodestyle_magic\n",
    "# %flake8_on --ignore E501,W505"
   ]
  },
  {
   "cell_type": "markdown",
   "metadata": {},
   "source": [
    "### Import the required python modules"
   ]
  },
  {
   "cell_type": "code",
   "execution_count": 2,
   "metadata": {},
   "outputs": [
    {
     "data": {
      "text/html": [
       "\n",
       "    <div class=\"bk-root\">\n",
       "        <a href=\"https://bokeh.org\" target=\"_blank\" class=\"bk-logo bk-logo-small bk-logo-notebook\"></a>\n",
       "        <span id=\"1002\">Loading BokehJS ...</span>\n",
       "    </div>"
      ]
     },
     "metadata": {},
     "output_type": "display_data"
    },
    {
     "data": {
      "application/javascript": [
       "\n",
       "(function(root) {\n",
       "  function now() {\n",
       "    return new Date();\n",
       "  }\n",
       "\n",
       "  var force = true;\n",
       "\n",
       "  if (typeof root._bokeh_onload_callbacks === \"undefined\" || force === true) {\n",
       "    root._bokeh_onload_callbacks = [];\n",
       "    root._bokeh_is_loading = undefined;\n",
       "  }\n",
       "\n",
       "  var JS_MIME_TYPE = 'application/javascript';\n",
       "  var HTML_MIME_TYPE = 'text/html';\n",
       "  var EXEC_MIME_TYPE = 'application/vnd.bokehjs_exec.v0+json';\n",
       "  var CLASS_NAME = 'output_bokeh rendered_html';\n",
       "\n",
       "  /**\n",
       "   * Render data to the DOM node\n",
       "   */\n",
       "  function render(props, node) {\n",
       "    var script = document.createElement(\"script\");\n",
       "    node.appendChild(script);\n",
       "  }\n",
       "\n",
       "  /**\n",
       "   * Handle when an output is cleared or removed\n",
       "   */\n",
       "  function handleClearOutput(event, handle) {\n",
       "    var cell = handle.cell;\n",
       "\n",
       "    var id = cell.output_area._bokeh_element_id;\n",
       "    var server_id = cell.output_area._bokeh_server_id;\n",
       "    // Clean up Bokeh references\n",
       "    if (id != null && id in Bokeh.index) {\n",
       "      Bokeh.index[id].model.document.clear();\n",
       "      delete Bokeh.index[id];\n",
       "    }\n",
       "\n",
       "    if (server_id !== undefined) {\n",
       "      // Clean up Bokeh references\n",
       "      var cmd = \"from bokeh.io.state import curstate; print(curstate().uuid_to_server['\" + server_id + \"'].get_sessions()[0].document.roots[0]._id)\";\n",
       "      cell.notebook.kernel.execute(cmd, {\n",
       "        iopub: {\n",
       "          output: function(msg) {\n",
       "            var id = msg.content.text.trim();\n",
       "            if (id in Bokeh.index) {\n",
       "              Bokeh.index[id].model.document.clear();\n",
       "              delete Bokeh.index[id];\n",
       "            }\n",
       "          }\n",
       "        }\n",
       "      });\n",
       "      // Destroy server and session\n",
       "      var cmd = \"import bokeh.io.notebook as ion; ion.destroy_server('\" + server_id + \"')\";\n",
       "      cell.notebook.kernel.execute(cmd);\n",
       "    }\n",
       "  }\n",
       "\n",
       "  /**\n",
       "   * Handle when a new output is added\n",
       "   */\n",
       "  function handleAddOutput(event, handle) {\n",
       "    var output_area = handle.output_area;\n",
       "    var output = handle.output;\n",
       "\n",
       "    // limit handleAddOutput to display_data with EXEC_MIME_TYPE content only\n",
       "    if ((output.output_type != \"display_data\") || (!Object.prototype.hasOwnProperty.call(output.data, EXEC_MIME_TYPE))) {\n",
       "      return\n",
       "    }\n",
       "\n",
       "    var toinsert = output_area.element.find(\".\" + CLASS_NAME.split(' ')[0]);\n",
       "\n",
       "    if (output.metadata[EXEC_MIME_TYPE][\"id\"] !== undefined) {\n",
       "      toinsert[toinsert.length - 1].firstChild.textContent = output.data[JS_MIME_TYPE];\n",
       "      // store reference to embed id on output_area\n",
       "      output_area._bokeh_element_id = output.metadata[EXEC_MIME_TYPE][\"id\"];\n",
       "    }\n",
       "    if (output.metadata[EXEC_MIME_TYPE][\"server_id\"] !== undefined) {\n",
       "      var bk_div = document.createElement(\"div\");\n",
       "      bk_div.innerHTML = output.data[HTML_MIME_TYPE];\n",
       "      var script_attrs = bk_div.children[0].attributes;\n",
       "      for (var i = 0; i < script_attrs.length; i++) {\n",
       "        toinsert[toinsert.length - 1].firstChild.setAttribute(script_attrs[i].name, script_attrs[i].value);\n",
       "        toinsert[toinsert.length - 1].firstChild.textContent = bk_div.children[0].textContent\n",
       "      }\n",
       "      // store reference to server id on output_area\n",
       "      output_area._bokeh_server_id = output.metadata[EXEC_MIME_TYPE][\"server_id\"];\n",
       "    }\n",
       "  }\n",
       "\n",
       "  function register_renderer(events, OutputArea) {\n",
       "\n",
       "    function append_mime(data, metadata, element) {\n",
       "      // create a DOM node to render to\n",
       "      var toinsert = this.create_output_subarea(\n",
       "        metadata,\n",
       "        CLASS_NAME,\n",
       "        EXEC_MIME_TYPE\n",
       "      );\n",
       "      this.keyboard_manager.register_events(toinsert);\n",
       "      // Render to node\n",
       "      var props = {data: data, metadata: metadata[EXEC_MIME_TYPE]};\n",
       "      render(props, toinsert[toinsert.length - 1]);\n",
       "      element.append(toinsert);\n",
       "      return toinsert\n",
       "    }\n",
       "\n",
       "    /* Handle when an output is cleared or removed */\n",
       "    events.on('clear_output.CodeCell', handleClearOutput);\n",
       "    events.on('delete.Cell', handleClearOutput);\n",
       "\n",
       "    /* Handle when a new output is added */\n",
       "    events.on('output_added.OutputArea', handleAddOutput);\n",
       "\n",
       "    /**\n",
       "     * Register the mime type and append_mime function with output_area\n",
       "     */\n",
       "    OutputArea.prototype.register_mime_type(EXEC_MIME_TYPE, append_mime, {\n",
       "      /* Is output safe? */\n",
       "      safe: true,\n",
       "      /* Index of renderer in `output_area.display_order` */\n",
       "      index: 0\n",
       "    });\n",
       "  }\n",
       "\n",
       "  // register the mime type if in Jupyter Notebook environment and previously unregistered\n",
       "  if (root.Jupyter !== undefined) {\n",
       "    var events = require('base/js/events');\n",
       "    var OutputArea = require('notebook/js/outputarea').OutputArea;\n",
       "\n",
       "    if (OutputArea.prototype.mime_types().indexOf(EXEC_MIME_TYPE) == -1) {\n",
       "      register_renderer(events, OutputArea);\n",
       "    }\n",
       "  }\n",
       "\n",
       "  \n",
       "  if (typeof (root._bokeh_timeout) === \"undefined\" || force === true) {\n",
       "    root._bokeh_timeout = Date.now() + 5000;\n",
       "    root._bokeh_failed_load = false;\n",
       "  }\n",
       "\n",
       "  var NB_LOAD_WARNING = {'data': {'text/html':\n",
       "     \"<div style='background-color: #fdd'>\\n\"+\n",
       "     \"<p>\\n\"+\n",
       "     \"BokehJS does not appear to have successfully loaded. If loading BokehJS from CDN, this \\n\"+\n",
       "     \"may be due to a slow or bad network connection. Possible fixes:\\n\"+\n",
       "     \"</p>\\n\"+\n",
       "     \"<ul>\\n\"+\n",
       "     \"<li>re-rerun `output_notebook()` to attempt to load from CDN again, or</li>\\n\"+\n",
       "     \"<li>use INLINE resources instead, as so:</li>\\n\"+\n",
       "     \"</ul>\\n\"+\n",
       "     \"<code>\\n\"+\n",
       "     \"from bokeh.resources import INLINE\\n\"+\n",
       "     \"output_notebook(resources=INLINE)\\n\"+\n",
       "     \"</code>\\n\"+\n",
       "     \"</div>\"}};\n",
       "\n",
       "  function display_loaded() {\n",
       "    var el = document.getElementById(\"1002\");\n",
       "    if (el != null) {\n",
       "      el.textContent = \"BokehJS is loading...\";\n",
       "    }\n",
       "    if (root.Bokeh !== undefined) {\n",
       "      if (el != null) {\n",
       "        el.textContent = \"BokehJS \" + root.Bokeh.version + \" successfully loaded.\";\n",
       "      }\n",
       "    } else if (Date.now() < root._bokeh_timeout) {\n",
       "      setTimeout(display_loaded, 100)\n",
       "    }\n",
       "  }\n",
       "\n",
       "\n",
       "  function run_callbacks() {\n",
       "    try {\n",
       "      root._bokeh_onload_callbacks.forEach(function(callback) {\n",
       "        if (callback != null)\n",
       "          callback();\n",
       "      });\n",
       "    } finally {\n",
       "      delete root._bokeh_onload_callbacks\n",
       "    }\n",
       "    console.debug(\"Bokeh: all callbacks have finished\");\n",
       "  }\n",
       "\n",
       "  function load_libs(css_urls, js_urls, callback) {\n",
       "    if (css_urls == null) css_urls = [];\n",
       "    if (js_urls == null) js_urls = [];\n",
       "\n",
       "    root._bokeh_onload_callbacks.push(callback);\n",
       "    if (root._bokeh_is_loading > 0) {\n",
       "      console.debug(\"Bokeh: BokehJS is being loaded, scheduling callback at\", now());\n",
       "      return null;\n",
       "    }\n",
       "    if (js_urls == null || js_urls.length === 0) {\n",
       "      run_callbacks();\n",
       "      return null;\n",
       "    }\n",
       "    console.debug(\"Bokeh: BokehJS not loaded, scheduling load and callback at\", now());\n",
       "    root._bokeh_is_loading = css_urls.length + js_urls.length;\n",
       "\n",
       "    function on_load() {\n",
       "      root._bokeh_is_loading--;\n",
       "      if (root._bokeh_is_loading === 0) {\n",
       "        console.debug(\"Bokeh: all BokehJS libraries/stylesheets loaded\");\n",
       "        run_callbacks()\n",
       "      }\n",
       "    }\n",
       "\n",
       "    function on_error(url) {\n",
       "      console.error(\"failed to load \" + url);\n",
       "    }\n",
       "\n",
       "    for (let i = 0; i < css_urls.length; i++) {\n",
       "      const url = css_urls[i];\n",
       "      const element = document.createElement(\"link\");\n",
       "      element.onload = on_load;\n",
       "      element.onerror = on_error.bind(null, url);\n",
       "      element.rel = \"stylesheet\";\n",
       "      element.type = \"text/css\";\n",
       "      element.href = url;\n",
       "      console.debug(\"Bokeh: injecting link tag for BokehJS stylesheet: \", url);\n",
       "      document.body.appendChild(element);\n",
       "    }\n",
       "\n",
       "    const hashes = {\"https://cdn.bokeh.org/bokeh/release/bokeh-2.3.2.min.js\": \"XypntL49z55iwGVUW4qsEu83zKL3XEcz0MjuGOQ9SlaaQ68X/g+k1FcioZi7oQAc\", \"https://cdn.bokeh.org/bokeh/release/bokeh-tables-2.3.2.min.js\": \"bEsM86IHGDTLCS0Zod8a8WM6Y4+lafAL/eSiyQcuPzinmWNgNO2/olUF0Z2Dkn5i\", \"https://cdn.bokeh.org/bokeh/release/bokeh-widgets-2.3.2.min.js\": \"TX0gSQTdXTTeScqxj6PVQxTiRW8DOoGVwinyi1D3kxv7wuxQ02XkOxv0xwiypcAH\"};\n",
       "\n",
       "    for (let i = 0; i < js_urls.length; i++) {\n",
       "      const url = js_urls[i];\n",
       "      const element = document.createElement('script');\n",
       "      element.onload = on_load;\n",
       "      element.onerror = on_error.bind(null, url);\n",
       "      element.async = false;\n",
       "      element.src = url;\n",
       "      if (url in hashes) {\n",
       "        element.crossOrigin = \"anonymous\";\n",
       "        element.integrity = \"sha384-\" + hashes[url];\n",
       "      }\n",
       "      console.debug(\"Bokeh: injecting script tag for BokehJS library: \", url);\n",
       "      document.head.appendChild(element);\n",
       "    }\n",
       "  };\n",
       "\n",
       "  function inject_raw_css(css) {\n",
       "    const element = document.createElement(\"style\");\n",
       "    element.appendChild(document.createTextNode(css));\n",
       "    document.body.appendChild(element);\n",
       "  }\n",
       "\n",
       "  \n",
       "  var js_urls = [\"https://cdn.bokeh.org/bokeh/release/bokeh-2.3.2.min.js\", \"https://cdn.bokeh.org/bokeh/release/bokeh-widgets-2.3.2.min.js\", \"https://cdn.bokeh.org/bokeh/release/bokeh-tables-2.3.2.min.js\"];\n",
       "  var css_urls = [];\n",
       "  \n",
       "\n",
       "  var inline_js = [\n",
       "    function(Bokeh) {\n",
       "      Bokeh.set_log_level(\"info\");\n",
       "    },\n",
       "    function(Bokeh) {\n",
       "    \n",
       "    \n",
       "    }\n",
       "  ];\n",
       "\n",
       "  function run_inline_js() {\n",
       "    \n",
       "    if (root.Bokeh !== undefined || force === true) {\n",
       "      \n",
       "    for (var i = 0; i < inline_js.length; i++) {\n",
       "      inline_js[i].call(root, root.Bokeh);\n",
       "    }\n",
       "    if (force === true) {\n",
       "        display_loaded();\n",
       "      }} else if (Date.now() < root._bokeh_timeout) {\n",
       "      setTimeout(run_inline_js, 100);\n",
       "    } else if (!root._bokeh_failed_load) {\n",
       "      console.log(\"Bokeh: BokehJS failed to load within specified timeout.\");\n",
       "      root._bokeh_failed_load = true;\n",
       "    } else if (force !== true) {\n",
       "      var cell = $(document.getElementById(\"1002\")).parents('.cell').data().cell;\n",
       "      cell.output_area.append_execute_result(NB_LOAD_WARNING)\n",
       "    }\n",
       "\n",
       "  }\n",
       "\n",
       "  if (root._bokeh_is_loading === 0) {\n",
       "    console.debug(\"Bokeh: BokehJS loaded, going straight to plotting\");\n",
       "    run_inline_js();\n",
       "  } else {\n",
       "    load_libs(css_urls, js_urls, function() {\n",
       "      console.debug(\"Bokeh: BokehJS plotting callback run at\", now());\n",
       "      run_inline_js();\n",
       "    });\n",
       "  }\n",
       "}(window));"
      ],
      "application/vnd.bokehjs_load.v0+json": "\n(function(root) {\n  function now() {\n    return new Date();\n  }\n\n  var force = true;\n\n  if (typeof root._bokeh_onload_callbacks === \"undefined\" || force === true) {\n    root._bokeh_onload_callbacks = [];\n    root._bokeh_is_loading = undefined;\n  }\n\n  \n\n  \n  if (typeof (root._bokeh_timeout) === \"undefined\" || force === true) {\n    root._bokeh_timeout = Date.now() + 5000;\n    root._bokeh_failed_load = false;\n  }\n\n  var NB_LOAD_WARNING = {'data': {'text/html':\n     \"<div style='background-color: #fdd'>\\n\"+\n     \"<p>\\n\"+\n     \"BokehJS does not appear to have successfully loaded. If loading BokehJS from CDN, this \\n\"+\n     \"may be due to a slow or bad network connection. Possible fixes:\\n\"+\n     \"</p>\\n\"+\n     \"<ul>\\n\"+\n     \"<li>re-rerun `output_notebook()` to attempt to load from CDN again, or</li>\\n\"+\n     \"<li>use INLINE resources instead, as so:</li>\\n\"+\n     \"</ul>\\n\"+\n     \"<code>\\n\"+\n     \"from bokeh.resources import INLINE\\n\"+\n     \"output_notebook(resources=INLINE)\\n\"+\n     \"</code>\\n\"+\n     \"</div>\"}};\n\n  function display_loaded() {\n    var el = document.getElementById(\"1002\");\n    if (el != null) {\n      el.textContent = \"BokehJS is loading...\";\n    }\n    if (root.Bokeh !== undefined) {\n      if (el != null) {\n        el.textContent = \"BokehJS \" + root.Bokeh.version + \" successfully loaded.\";\n      }\n    } else if (Date.now() < root._bokeh_timeout) {\n      setTimeout(display_loaded, 100)\n    }\n  }\n\n\n  function run_callbacks() {\n    try {\n      root._bokeh_onload_callbacks.forEach(function(callback) {\n        if (callback != null)\n          callback();\n      });\n    } finally {\n      delete root._bokeh_onload_callbacks\n    }\n    console.debug(\"Bokeh: all callbacks have finished\");\n  }\n\n  function load_libs(css_urls, js_urls, callback) {\n    if (css_urls == null) css_urls = [];\n    if (js_urls == null) js_urls = [];\n\n    root._bokeh_onload_callbacks.push(callback);\n    if (root._bokeh_is_loading > 0) {\n      console.debug(\"Bokeh: BokehJS is being loaded, scheduling callback at\", now());\n      return null;\n    }\n    if (js_urls == null || js_urls.length === 0) {\n      run_callbacks();\n      return null;\n    }\n    console.debug(\"Bokeh: BokehJS not loaded, scheduling load and callback at\", now());\n    root._bokeh_is_loading = css_urls.length + js_urls.length;\n\n    function on_load() {\n      root._bokeh_is_loading--;\n      if (root._bokeh_is_loading === 0) {\n        console.debug(\"Bokeh: all BokehJS libraries/stylesheets loaded\");\n        run_callbacks()\n      }\n    }\n\n    function on_error(url) {\n      console.error(\"failed to load \" + url);\n    }\n\n    for (let i = 0; i < css_urls.length; i++) {\n      const url = css_urls[i];\n      const element = document.createElement(\"link\");\n      element.onload = on_load;\n      element.onerror = on_error.bind(null, url);\n      element.rel = \"stylesheet\";\n      element.type = \"text/css\";\n      element.href = url;\n      console.debug(\"Bokeh: injecting link tag for BokehJS stylesheet: \", url);\n      document.body.appendChild(element);\n    }\n\n    const hashes = {\"https://cdn.bokeh.org/bokeh/release/bokeh-2.3.2.min.js\": \"XypntL49z55iwGVUW4qsEu83zKL3XEcz0MjuGOQ9SlaaQ68X/g+k1FcioZi7oQAc\", \"https://cdn.bokeh.org/bokeh/release/bokeh-tables-2.3.2.min.js\": \"bEsM86IHGDTLCS0Zod8a8WM6Y4+lafAL/eSiyQcuPzinmWNgNO2/olUF0Z2Dkn5i\", \"https://cdn.bokeh.org/bokeh/release/bokeh-widgets-2.3.2.min.js\": \"TX0gSQTdXTTeScqxj6PVQxTiRW8DOoGVwinyi1D3kxv7wuxQ02XkOxv0xwiypcAH\"};\n\n    for (let i = 0; i < js_urls.length; i++) {\n      const url = js_urls[i];\n      const element = document.createElement('script');\n      element.onload = on_load;\n      element.onerror = on_error.bind(null, url);\n      element.async = false;\n      element.src = url;\n      if (url in hashes) {\n        element.crossOrigin = \"anonymous\";\n        element.integrity = \"sha384-\" + hashes[url];\n      }\n      console.debug(\"Bokeh: injecting script tag for BokehJS library: \", url);\n      document.head.appendChild(element);\n    }\n  };\n\n  function inject_raw_css(css) {\n    const element = document.createElement(\"style\");\n    element.appendChild(document.createTextNode(css));\n    document.body.appendChild(element);\n  }\n\n  \n  var js_urls = [\"https://cdn.bokeh.org/bokeh/release/bokeh-2.3.2.min.js\", \"https://cdn.bokeh.org/bokeh/release/bokeh-widgets-2.3.2.min.js\", \"https://cdn.bokeh.org/bokeh/release/bokeh-tables-2.3.2.min.js\"];\n  var css_urls = [];\n  \n\n  var inline_js = [\n    function(Bokeh) {\n      Bokeh.set_log_level(\"info\");\n    },\n    function(Bokeh) {\n    \n    \n    }\n  ];\n\n  function run_inline_js() {\n    \n    if (root.Bokeh !== undefined || force === true) {\n      \n    for (var i = 0; i < inline_js.length; i++) {\n      inline_js[i].call(root, root.Bokeh);\n    }\n    if (force === true) {\n        display_loaded();\n      }} else if (Date.now() < root._bokeh_timeout) {\n      setTimeout(run_inline_js, 100);\n    } else if (!root._bokeh_failed_load) {\n      console.log(\"Bokeh: BokehJS failed to load within specified timeout.\");\n      root._bokeh_failed_load = true;\n    } else if (force !== true) {\n      var cell = $(document.getElementById(\"1002\")).parents('.cell').data().cell;\n      cell.output_area.append_execute_result(NB_LOAD_WARNING)\n    }\n\n  }\n\n  if (root._bokeh_is_loading === 0) {\n    console.debug(\"Bokeh: BokehJS loaded, going straight to plotting\");\n    run_inline_js();\n  } else {\n    load_libs(css_urls, js_urls, function() {\n      console.debug(\"Bokeh: BokehJS plotting callback run at\", now());\n      run_inline_js();\n    });\n  }\n}(window));"
     },
     "metadata": {},
     "output_type": "display_data"
    }
   ],
   "source": [
    "import rubin_sim\n",
    "from rubin_sim import maf"
   ]
  },
  {
   "cell_type": "markdown",
   "metadata": {},
   "source": [
    "### Get example data to work with"
   ]
  },
  {
   "cell_type": "markdown",
   "metadata": {},
   "source": [
    "To test a metric, we will need to use a sample database. Let's use the sample baseline database installed as part of the `rubin_sim` installation process:"
   ]
  },
  {
   "cell_type": "code",
   "execution_count": 3,
   "metadata": {},
   "outputs": [
    {
     "data": {
      "text/plain": [
       "'/data/des91.b/data/neilsen/LSST/devel/rubin_sim_data/sim_baseline/baseline_nexp2_v1.7_10yrs.db'"
      ]
     },
     "execution_count": 3,
     "metadata": {},
     "output_type": "execute_result"
    }
   ],
   "source": [
    "opsim_db_fname = rubin_sim.data.get_baseline()\n",
    "opsim_db_fname"
   ]
  },
  {
   "cell_type": "markdown",
   "metadata": {},
   "source": [
    "We will also need an output directory. If you have one you want to use, set it here:"
   ]
  },
  {
   "cell_type": "code",
   "execution_count": 4,
   "metadata": {},
   "outputs": [],
   "source": [
    "# output_dir = '.'"
   ]
  },
  {
   "cell_type": "markdown",
   "metadata": {},
   "source": [
    "Otherwise, create a temporary directory that will automatically be cleaned up when this notebook shuts down:"
   ]
  },
  {
   "cell_type": "code",
   "execution_count": 5,
   "metadata": {},
   "outputs": [
    {
     "data": {
      "text/plain": [
       "'/tmp/tmpamb53q3u'"
      ]
     },
     "execution_count": 5,
     "metadata": {},
     "output_type": "execute_result"
    }
   ],
   "source": [
    "if \"output_dir\" not in locals():\n",
    "    from tempfile import TemporaryDirectory\n",
    "\n",
    "    output_dir_itself = TemporaryDirectory()\n",
    "    output_dir = output_dir_itself.name\n",
    "\n",
    "output_dir"
   ]
  },
  {
   "cell_type": "markdown",
   "metadata": {},
   "source": [
    "Finally, lets instantiate an interface to this datadabase for `MAF`:"
   ]
  },
  {
   "cell_type": "code",
   "execution_count": 6,
   "metadata": {},
   "outputs": [],
   "source": [
    "opsim_db = maf.OpsimDatabase(opsim_db_fname)"
   ]
  },
  {
   "cell_type": "markdown",
   "metadata": {},
   "source": [
    "# Understanding how metrics are called"
   ]
  },
  {
   "cell_type": "markdown",
   "metadata": {},
   "source": [
    "To understand how to write metrics, it helps to first know a little bit about slicers.\n",
    "\n",
    "`MAF` slicers categorize visits in the `opsim` database into groups called \"slices.\" Slices have a \"many to many\" relationship with visits: a given slice may contain zero or more visits, and a given visit may fall into zero, one, or many slices. For example, the `HealpixSlicer` slices the sky according to [healpixels](https://healpix.jpl.nasa.gov/). Because the sky in any given healpixel can be covered any number of times (including zero), the slice corresponding to a healpixel may contain zero, one, or many visits. A given visit may cover sky in multiple healpixels, and so may be present in multiple slices.\n",
    "\n",
    "Slicers themselves are python iterators that return tuples with indexes into the array of visits, and slice points (parameters for the slice):"
   ]
  },
  {
   "cell_type": "markdown",
   "metadata": {},
   "source": [
    "MAF metric objects must all include (among other things): \n",
    "- a `colNameArray` member, a `numpy.array` of strings with the names of database columns and any stackers that the metric requires. The `__init__` method of the `rubin_sim.maf.metrics.BaseMetric` includes a `col` named argument which is normally used to set the `colNameArray`. When there is only one element in `colNameArray`, the `colname` member is set with that column name.\n",
    "- a `run` method that takes two arguments:\n",
    "  - `dataSlice`, a `numpy.recarray` with one record per visit in a slice, and elements corresponding to (at least) all columns listed in `colNameArray`; and\n",
    "  - `slicePoint`, a python object (usually a dictionary) defining the parameters of a slice.\n",
    "  and returns an object that represents the value of the metric for that slice point.\n",
    "\n",
    "When MAF metrics are computed by calling the `runAll` method of an instance of `rubin_sim.maf.metricBundles.MetricBundleGroup`, the `MetricBundleGroup`:\n",
    "1. queries the database for any columns required (as specified by the `colNameArray` member of the metric object),\n",
    "2. computes values for any stackers listen in the metric's `colNameArray` member, and\n",
    "3. iterates over each slice, calling the metric's `run` method for every slice, and filling the `metricValue` member of the `MetricBundle` with the values returned by `run`.\n",
    "\n",
    "(This is an over-simplification: the `MetricBundleGroup`'s `runAll` method has various optimizations and other complications that are not important here.)"
   ]
  },
  {
   "cell_type": "markdown",
   "metadata": {},
   "source": [
    "# Avoid duplicating work"
   ]
  },
  {
   "cell_type": "markdown",
   "metadata": {},
   "source": [
    "MAF already contains a variety of metrics: before writing a new metric, it is worthwhile to check whether an existing one will do the job. To get a list of metrics that already exist, use:"
   ]
  },
  {
   "cell_type": "code",
   "execution_count": 7,
   "metadata": {},
   "outputs": [
    {
     "name": "stdout",
     "output_type": "stream",
     "text": [
      "AbsMaxMetric\n",
      "AbsMaxPercentMetric\n",
      "AbsMeanMetric\n",
      "AbsMedianMetric\n",
      "AccumulateCountMetric\n",
      "AccumulateM5Metric\n",
      "AccumulateMetric\n",
      "AccumulateUniformityMetric\n",
      "ActivityOverPeriodMetric\n",
      "ActivityOverTimeMetric\n",
      "AreaSummaryMetric\n",
      "AveSlewFracMetric\n",
      "BDParallaxMetric\n",
      "BaseChildMetric\n",
      "BaseMoMetric\n",
      "BinaryMetric\n",
      "BruteOSFMetric\n",
      "CampaignLengthMetric\n",
      "ChipVendorMetric\n",
      "Coaddm5Metric\n",
      "Color_AsteroidMetric\n",
      "CompletenessMetric\n",
      "CountExplimMetric\n",
      "CountMetric\n",
      "CountRatioMetric\n",
      "CountSubsetMetric\n",
      "CountUniqueMetric\n",
      "CrowdingM5Metric\n",
      "CrowdingMagUncertMetric\n",
      "DcrPrecisionMetric\n",
      "DiscoveryMetric\n",
      "Discovery_DistanceMetric\n",
      "Discovery_EcLonLatMetric\n",
      "Discovery_N_ChancesMetric\n",
      "Discovery_N_ObsMetric\n",
      "Discovery_RADecMetric\n",
      "Discovery_TimeMetric\n",
      "Discovery_VelocityMetric\n",
      "ExgalM5\n",
      "ExgalM5_with_cuts\n",
      "FftMetric\n",
      "FilterColorsMetric\n",
      "FracAboveMetric\n",
      "FracBelowMetric\n",
      "FullRangeAngleMetric\n",
      "FullRangeMetric\n",
      "HighVelocityMetric\n",
      "HighVelocityNightsMetric\n",
      "HistogramM5Metric\n",
      "HistogramMetric\n",
      "HourglassMetric\n",
      "IdentityMetric\n",
      "InstantaneousColorMetric\n",
      "InterNightGapsMetric\n",
      "IntraNightGapsMetric\n",
      "KnownObjectsMetric\n",
      "KuiperMetric\n",
      "LightcurveColor_OuterMetric\n",
      "LightcurveInversion_AsteroidMetric\n",
      "LongGapAGNMetric\n",
      "MagicDiscoveryMetric\n",
      "MaxGapMetric\n",
      "MaxMetric\n",
      "MaxPercentMetric\n",
      "MaxStateChangesWithinMetric\n",
      "MeanAngleMetric\n",
      "MeanCampaignFrequencyMetric\n",
      "MeanMetric\n",
      "MeanValueAtHMetric\n",
      "MedianMetric\n",
      "MinMetric\n",
      "MinTimeBetweenStatesMetric\n",
      "MoCompletenessAtTimeMetric\n",
      "MoCompletenessMetric\n",
      "NChangesMetric\n",
      "NNightsMetric\n",
      "NObsMetric\n",
      "NObsNoSinglesMetric\n",
      "NRevisitsMetric\n",
      "NStateChangesFasterThanMetric\n",
      "NVisitsPerNightMetric\n",
      "NgalScaleMetric\n",
      "NightPointingMetric\n",
      "NightgapsMetric\n",
      "NlcPointsMetric\n",
      "NormalizeMetric\n",
      "NoutliersNsigmaMetric\n",
      "NstarsMetric\n",
      "ObsArcMetric\n",
      "OpenShutterFractionMetric\n",
      "OptimalM5Metric\n",
      "PairFractionMetric\n",
      "PairMetric\n",
      "ParallaxCoverageMetric\n",
      "ParallaxDcrDegenMetric\n",
      "ParallaxMetric\n",
      "PassMetric\n",
      "PeakVMagMetric\n",
      "PercentileMetric\n",
      "PeriodicDetectMetric\n",
      "PeriodicQualityMetric\n",
      "PhaseGapMetric\n",
      "ProperMotionMetric\n",
      "RadiusObsMetric\n",
      "RapidRevisitMetric\n",
      "RapidRevisitUniformityMetric\n",
      "RmsAngleMetric\n",
      "RmsMetric\n",
      "RobustRmsMetric\n",
      "SFErrorMetric\n",
      "SNCadenceMetric\n",
      "SNNSNMetric\n",
      "SNSLMetric\n",
      "SNSNRMetric\n",
      "SeasonLengthMetric\n",
      "SlewContributionMetric\n",
      "StarDensityMetric\n",
      "StaticProbesFoMEmulatorMetricSimple\n",
      "StringCountMetric\n",
      "SumMetric\n",
      "TableFractionMetric\n",
      "TdcMetric\n",
      "TeffMetric\n",
      "TemplateExistsMetric\n",
      "TgapsMetric\n",
      "TgapsPercentMetric\n",
      "TotalPowerMetric\n",
      "TransientMetric\n",
      "UniformityMetric\n",
      "UniqueRatioMetric\n",
      "UseMetric\n",
      "ValueAtHMetric\n",
      "VectorMetric\n",
      "VisitGapMetric\n",
      "VisitGroupsMetric\n",
      "VolumeSumMetric\n",
      "WeakLensingNvisits\n",
      "YearCoverageMetric\n",
      "ZeropointMetric\n",
      "fOArea\n",
      "fONv\n",
      "fSMetric\n",
      "rubin_sim.maf.mafContrib.AngularSpreadMetric\n",
      "rubin_sim.maf.mafContrib.GRBTransientMetric\n",
      "rubin_sim.maf.mafContrib.GW170817DetMetric\n",
      "rubin_sim.maf.mafContrib.GalaxyCountsMetric\n",
      "rubin_sim.maf.mafContrib.KNePopMetric\n",
      "rubin_sim.maf.mafContrib.LSSObsStrategy.GalaxyCountsMetric_extended\n",
      "rubin_sim.maf.mafContrib.LSSObsStrategy.NumObsMetric\n",
      "rubin_sim.maf.mafContrib.MicrolensingMetric\n",
      "rubin_sim.maf.mafContrib.PeriodDeviationMetric\n",
      "rubin_sim.maf.mafContrib.PeriodicMetric\n",
      "rubin_sim.maf.mafContrib.PeriodicStarMetric\n",
      "rubin_sim.maf.mafContrib.RelRmsMetric\n",
      "rubin_sim.maf.mafContrib.SEDSNMetric\n",
      "rubin_sim.maf.mafContrib.SNMetric\n",
      "rubin_sim.maf.mafContrib.StarCountMassMetric\n",
      "rubin_sim.maf.mafContrib.StarCountMetric\n",
      "rubin_sim.maf.mafContrib.StaticProbesFoMEmulatorMetric\n",
      "rubin_sim.maf.mafContrib.TdePopMetric\n",
      "rubin_sim.maf.mafContrib.ThreshSEDSNMetric\n",
      "rubin_sim.maf.mafContrib.TripletBandMetric\n",
      "rubin_sim.maf.mafContrib.TripletMetric\n",
      "rubin_sim.maf.mafContrib.VarDepth\n",
      "rubin_sim.maf.mafContrib.lssmetrics.DepthLimitedNumGalMetric\n",
      "rubin_sim.maf.mafContrib.transientAsciiSEDMetric\n"
     ]
    }
   ],
   "source": [
    "maf.BaseMetric.help()"
   ]
  },
  {
   "cell_type": "markdown",
   "metadata": {},
   "source": [
    "Additional details for each metric can be listed by passing the `doc=True` argument to `help`:\n",
    "\n",
    "```maf.BaseMetric.help(doc=True)```"
   ]
  },
  {
   "cell_type": "markdown",
   "metadata": {},
   "source": [
    "If an existing metric does something close to what you want, you can find the source code for guidance thus:"
   ]
  },
  {
   "cell_type": "code",
   "execution_count": 8,
   "metadata": {},
   "outputs": [
    {
     "data": {
      "text/plain": [
       "\u001b[0;31mInit signature:\u001b[0m\n",
       "\u001b[0mmaf\u001b[0m\u001b[0;34m.\u001b[0m\u001b[0mSumMetric\u001b[0m\u001b[0;34m(\u001b[0m\u001b[0;34m\u001b[0m\n",
       "\u001b[0;34m\u001b[0m    \u001b[0mcol\u001b[0m\u001b[0;34m=\u001b[0m\u001b[0;32mNone\u001b[0m\u001b[0;34m,\u001b[0m\u001b[0;34m\u001b[0m\n",
       "\u001b[0;34m\u001b[0m    \u001b[0mmetricName\u001b[0m\u001b[0;34m=\u001b[0m\u001b[0;32mNone\u001b[0m\u001b[0;34m,\u001b[0m\u001b[0;34m\u001b[0m\n",
       "\u001b[0;34m\u001b[0m    \u001b[0mmaps\u001b[0m\u001b[0;34m=\u001b[0m\u001b[0;32mNone\u001b[0m\u001b[0;34m,\u001b[0m\u001b[0;34m\u001b[0m\n",
       "\u001b[0;34m\u001b[0m    \u001b[0munits\u001b[0m\u001b[0;34m=\u001b[0m\u001b[0;32mNone\u001b[0m\u001b[0;34m,\u001b[0m\u001b[0;34m\u001b[0m\n",
       "\u001b[0;34m\u001b[0m    \u001b[0mmetricDtype\u001b[0m\u001b[0;34m=\u001b[0m\u001b[0;32mNone\u001b[0m\u001b[0;34m,\u001b[0m\u001b[0;34m\u001b[0m\n",
       "\u001b[0;34m\u001b[0m    \u001b[0mbadval\u001b[0m\u001b[0;34m=\u001b[0m\u001b[0;34m-\u001b[0m\u001b[0;36m666\u001b[0m\u001b[0;34m,\u001b[0m\u001b[0;34m\u001b[0m\n",
       "\u001b[0;34m\u001b[0m    \u001b[0mmaskVal\u001b[0m\u001b[0;34m=\u001b[0m\u001b[0;32mNone\u001b[0m\u001b[0;34m,\u001b[0m\u001b[0;34m\u001b[0m\n",
       "\u001b[0;34m\u001b[0m\u001b[0;34m)\u001b[0m\u001b[0;34m\u001b[0m\u001b[0;34m\u001b[0m\u001b[0m\n",
       "\u001b[0;31mDocstring:\u001b[0m     \n",
       "Calculate the sum of a simData column slice.\n",
       "    \n",
       "\u001b[0;31mFile:\u001b[0m           /data/des91.b/data/neilsen/LSST/devel/rubin_sim/rubin_sim/maf/metrics/simpleMetrics.py\n",
       "\u001b[0;31mType:\u001b[0m           MetricRegistry\n",
       "\u001b[0;31mSubclasses:\u001b[0m     \n"
      ]
     },
     "metadata": {},
     "output_type": "display_data"
    }
   ],
   "source": [
    "%pinfo maf.SumMetric"
   ]
  },
  {
   "cell_type": "markdown",
   "metadata": {},
   "source": [
    "or dump the whole source code into a jupyter notebook:"
   ]
  },
  {
   "cell_type": "code",
   "execution_count": 9,
   "metadata": {},
   "outputs": [
    {
     "data": {
      "text/plain": [
       "\u001b[0;32mclass\u001b[0m \u001b[0mSumMetric\u001b[0m\u001b[0;34m(\u001b[0m\u001b[0mBaseMetric\u001b[0m\u001b[0;34m)\u001b[0m\u001b[0;34m:\u001b[0m\u001b[0;34m\u001b[0m\n",
       "\u001b[0;34m\u001b[0m    \u001b[0;34m\"\"\"Calculate the sum of a simData column slice.\u001b[0m\n",
       "\u001b[0;34m    \"\"\"\u001b[0m\u001b[0;34m\u001b[0m\n",
       "\u001b[0;34m\u001b[0m    \u001b[0;32mdef\u001b[0m \u001b[0mrun\u001b[0m\u001b[0;34m(\u001b[0m\u001b[0mself\u001b[0m\u001b[0;34m,\u001b[0m \u001b[0mdataSlice\u001b[0m\u001b[0;34m,\u001b[0m \u001b[0mslicePoint\u001b[0m\u001b[0;34m=\u001b[0m\u001b[0;32mNone\u001b[0m\u001b[0;34m)\u001b[0m\u001b[0;34m:\u001b[0m\u001b[0;34m\u001b[0m\n",
       "\u001b[0;34m\u001b[0m        \u001b[0;32mreturn\u001b[0m \u001b[0mnp\u001b[0m\u001b[0;34m.\u001b[0m\u001b[0msum\u001b[0m\u001b[0;34m(\u001b[0m\u001b[0mdataSlice\u001b[0m\u001b[0;34m[\u001b[0m\u001b[0mself\u001b[0m\u001b[0;34m.\u001b[0m\u001b[0mcolname\u001b[0m\u001b[0;34m]\u001b[0m\u001b[0;34m)\u001b[0m\u001b[0;34m\u001b[0m\u001b[0;34m\u001b[0m\u001b[0m\n"
      ]
     },
     "metadata": {},
     "output_type": "display_data"
    }
   ],
   "source": [
    "%psource maf.SumMetric"
   ]
  },
  {
   "cell_type": "markdown",
   "metadata": {},
   "source": [
    "# An exploratory metric"
   ]
  },
  {
   "cell_type": "markdown",
   "metadata": {},
   "source": [
    "To get a feel for how metrics works, lets create a \"dummy\" metric that prints information on what arguments it was passed."
   ]
  },
  {
   "cell_type": "code",
   "execution_count": 10,
   "metadata": {},
   "outputs": [],
   "source": [
    "import numpy as np\n",
    "\n",
    "\n",
    "class Test1Metric(maf.BaseMetric):\n",
    "    def __init__(self):\n",
    "        # Set the columns we want from the database\n",
    "        super().__init__(col=[\"fieldRA\", \"fieldDec\", \"HA\"], metricName=\"test1\")\n",
    "\n",
    "    def run(self, dataSlice, slicePoint=None):\n",
    "        print(\"--- run ----\")\n",
    "        print(\n",
    "            f\"dataSlice is a {type(dataSlice)} of dtype {dataSlice.dtype} with a shape of {dataSlice.shape}\"\n",
    "        )\n",
    "        print(f\"slicePoint is a {type(slicePoint)} with value: {slicePoint}\")\n",
    "\n",
    "        # Calculate the metric value here, using any values\n",
    "        # you like from the dataSlice and slicePoint arguments.\n",
    "        metric_value_for_this_slice = np.random.rand()\n",
    "        return metric_value_for_this_slice"
   ]
  },
  {
   "cell_type": "markdown",
   "metadata": {},
   "source": [
    "To apply our metric, we need to create a slicer with which to slice the data. Let's use the `maf.OneDSlicer`, which slices the data into bins according to some value. In this case, we divide the visits into large bins by airmass:"
   ]
  },
  {
   "cell_type": "code",
   "execution_count": 11,
   "metadata": {},
   "outputs": [],
   "source": [
    "slicer = maf.OneDSlicer(sliceColName=\"airmass\", binMin=1.0, binMax=2.5, binsize=0.5)"
   ]
  },
  {
   "cell_type": "markdown",
   "metadata": {},
   "source": [
    "Now, instantiate our metric, combine it with our slicer into a `maf.MetricBundle`, and compute the metrics in that bundle with a `maf.MetricBundleGroup`:"
   ]
  },
  {
   "cell_type": "code",
   "execution_count": 12,
   "metadata": {},
   "outputs": [
    {
     "name": "stdout",
     "output_type": "stream",
     "text": [
      "Querying database SummaryAllProps with no constraint for columns ['fieldRA', 'fieldDec', 'airmass', 'observationStartLST'].\n",
      "Found 2045493 visits\n",
      "Running:  ['opsim_test1_ONED']\n",
      "--- run ----\n",
      "dataSlice is a <class 'numpy.ndarray'> of dtype [('fieldRA', '<f8'), ('fieldDec', '<f8'), ('airmass', '<f8'), ('observationStartLST', '<f8'), ('HA', '<f8')] with a shape of (1954302,)\n",
      "slicePoint is a <class 'dict'> with value: {'sid': 0, 'binLeft': 1.0}\n",
      "--- run ----\n",
      "dataSlice is a <class 'numpy.ndarray'> of dtype [('fieldRA', '<f8'), ('fieldDec', '<f8'), ('airmass', '<f8'), ('observationStartLST', '<f8'), ('HA', '<f8')] with a shape of (79820,)\n",
      "slicePoint is a <class 'dict'> with value: {'sid': 1, 'binLeft': 1.5}\n",
      "--- run ----\n",
      "dataSlice is a <class 'numpy.ndarray'> of dtype [('fieldRA', '<f8'), ('fieldDec', '<f8'), ('airmass', '<f8'), ('observationStartLST', '<f8'), ('HA', '<f8')] with a shape of (11371,)\n",
      "slicePoint is a <class 'dict'> with value: {'sid': 2, 'binLeft': 2.0}\n",
      "Completed metric generation.\n",
      "Running reduce methods.\n",
      "Running summary statistics.\n",
      "Completed.\n"
     ]
    }
   ],
   "source": [
    "metric = Test1Metric()\n",
    "bundle = maf.MetricBundle(metric, slicer, \"\", \"sample_run\")\n",
    "bgroup = maf.MetricBundleGroup([bundle], dbObj=opsim_db, outDir=output_dir)\n",
    "bgroup.runAll()"
   ]
  },
  {
   "cell_type": "markdown",
   "metadata": {},
   "source": [
    "Note that the `dataSlice` `recarray` contained not only the fields we asked for, but two others as well: `airmass` and `observationStartLST`. These are present because the values were needed by the slicer, and by the stacker used to compute the `HA`."
   ]
  },
  {
   "cell_type": "markdown",
   "metadata": {},
   "source": [
    "We can look at the values calculated (or in this dummy example, randomly generated) with the `bundle` object:"
   ]
  },
  {
   "cell_type": "code",
   "execution_count": 13,
   "metadata": {},
   "outputs": [
    {
     "data": {
      "text/plain": [
       "masked_array(data=[0.07611028882466264, 0.6851090668943071,\n",
       "                   0.8308709473379822],\n",
       "             mask=[False, False, False],\n",
       "       fill_value=0.0)"
      ]
     },
     "execution_count": 13,
     "metadata": {},
     "output_type": "execute_result"
    }
   ],
   "source": [
    "bundle.metricValues"
   ]
  },
  {
   "cell_type": "markdown",
   "metadata": {},
   "source": [
    "In this example, the `run` method had access to the `slicePoint` dictionary which included the `binLeft` field showing which bin the slice was. The metric could, therefore, have used it in its calculations. However, doing such would limit the slicers on which the metric could be run to only those slicers with a `binLeft` element in the `slicePoint`."
   ]
  },
  {
   "cell_type": "markdown",
   "metadata": {},
   "source": [
    "# Applying a metric to the whole set of visits"
   ]
  },
  {
   "cell_type": "markdown",
   "metadata": {},
   "source": [
    "Even if we do not want to slice the data, but instead want our `run` method to be passed the entire set of visits, we still need to supply a slicer to satisfy the MAF machinery. The `rubin_sim.maf.slicers.UniSlicer` slicer fills this role, creating one slice with all visits."
   ]
  },
  {
   "cell_type": "code",
   "execution_count": 14,
   "metadata": {},
   "outputs": [
    {
     "name": "stdout",
     "output_type": "stream",
     "text": [
      "Querying database SummaryAllProps with no constraint for columns ['fieldRA', 'fieldDec', 'observationStartLST'].\n",
      "Found 2045493 visits\n",
      "Running:  ['opsim_test1_UNIS']\n",
      "--- run ----\n",
      "dataSlice is a <class 'numpy.ndarray'> of dtype [('fieldRA', '<f8'), ('fieldDec', '<f8'), ('observationStartLST', '<f8'), ('HA', '<f8')] with a shape of (2045493,)\n",
      "slicePoint is a <class 'dict'> with value: {'sid': 0}\n",
      "Completed metric generation.\n",
      "Running reduce methods.\n",
      "Running summary statistics.\n",
      "Completed.\n"
     ]
    }
   ],
   "source": [
    "slicer = maf.UniSlicer()\n",
    "bundle = maf.MetricBundle(metric, slicer, \"\", \"unslicer_sample_run\")\n",
    "bgroup = maf.MetricBundleGroup([bundle], dbObj=opsim_db, outDir=output_dir)\n",
    "bgroup.runAll()"
   ]
  },
  {
   "cell_type": "markdown",
   "metadata": {},
   "source": [
    "This time, `airmass` was not required to run the slicer, and it was not one of the fields listed in the `colNameArray` member of our metric, so it was not included in the `dataSlice` `recarray` passed to our metric."
   ]
  },
  {
   "cell_type": "markdown",
   "metadata": {},
   "source": [
    "# General metrics"
   ]
  },
  {
   "cell_type": "markdown",
   "metadata": {},
   "source": [
    "Some metrics are general in their applicability. For example, `maf.MedianMetric` can be applied to any numeric column, and does not use the contents of `slicePoint`s. In this case and those like it, the \"work\" of the `metric` object can mostly be handled by methods inhereted from `rubin_sim.maf.metrics.BaseMetric`.\n",
    "\n",
    "Consider the definition of `maf.MedianMetric`:"
   ]
  },
  {
   "cell_type": "code",
   "execution_count": 15,
   "metadata": {},
   "outputs": [
    {
     "data": {
      "text/plain": [
       "\u001b[0;32mclass\u001b[0m \u001b[0mMedianMetric\u001b[0m\u001b[0;34m(\u001b[0m\u001b[0mBaseMetric\u001b[0m\u001b[0;34m)\u001b[0m\u001b[0;34m:\u001b[0m\u001b[0;34m\u001b[0m\n",
       "\u001b[0;34m\u001b[0m    \u001b[0;34m\"\"\"Calculate the median of a simData column slice.\u001b[0m\n",
       "\u001b[0;34m    \"\"\"\u001b[0m\u001b[0;34m\u001b[0m\n",
       "\u001b[0;34m\u001b[0m    \u001b[0;32mdef\u001b[0m \u001b[0mrun\u001b[0m\u001b[0;34m(\u001b[0m\u001b[0mself\u001b[0m\u001b[0;34m,\u001b[0m \u001b[0mdataSlice\u001b[0m\u001b[0;34m,\u001b[0m \u001b[0mslicePoint\u001b[0m\u001b[0;34m=\u001b[0m\u001b[0;32mNone\u001b[0m\u001b[0;34m)\u001b[0m\u001b[0;34m:\u001b[0m\u001b[0;34m\u001b[0m\n",
       "\u001b[0;34m\u001b[0m        \u001b[0;32mreturn\u001b[0m \u001b[0mnp\u001b[0m\u001b[0;34m.\u001b[0m\u001b[0mmedian\u001b[0m\u001b[0;34m(\u001b[0m\u001b[0mdataSlice\u001b[0m\u001b[0;34m[\u001b[0m\u001b[0mself\u001b[0m\u001b[0;34m.\u001b[0m\u001b[0mcolname\u001b[0m\u001b[0;34m]\u001b[0m\u001b[0;34m)\u001b[0m\u001b[0;34m\u001b[0m\u001b[0;34m\u001b[0m\u001b[0m\n"
      ]
     },
     "metadata": {},
     "output_type": "display_data"
    }
   ],
   "source": [
    "%psource maf.MedianMetric"
   ]
  },
  {
   "cell_type": "markdown",
   "metadata": {},
   "source": [
    "How MAF know what column to get the median of? How does `self.colname` get set? \n",
    "\n",
    "The `maf.BaseMetric`'s `__init__` method has a `col` argument, and if it is set to a single string rather than a list of strings, the `colname` member takes the value of the one column name. So, the `maf.MedianMetric` must be initialized with the column name, and the `__init__` method of its parent class takes care of assigning the necessary members:"
   ]
  },
  {
   "cell_type": "code",
   "execution_count": 16,
   "metadata": {},
   "outputs": [
    {
     "name": "stdout",
     "output_type": "stream",
     "text": [
      "Querying database SummaryAllProps with no constraint for columns ['moonAlt', 'airmass'].\n",
      "Found 2045493 visits\n",
      "Running:  ['opsim_Median_moonAlt_ONED']\n",
      "Completed metric generation.\n",
      "Running reduce methods.\n",
      "Running summary statistics.\n",
      "Completed.\n"
     ]
    }
   ],
   "source": [
    "slicer = maf.OneDSlicer(sliceColName=\"airmass\", binMin=1.0, binMax=2.5, binsize=0.5)\n",
    "metric = maf.MedianMetric(col=\"moonAlt\")\n",
    "bundle = maf.MetricBundle(metric, slicer, \"\")\n",
    "bgroup = maf.MetricBundleGroup([bundle], dbObj=opsim_db, outDir=output_dir)\n",
    "bgroup.runAll()"
   ]
  },
  {
   "cell_type": "markdown",
   "metadata": {},
   "source": [
    "Now we can look at the median moon altitudes for each of our large airmass bins:"
   ]
  },
  {
   "cell_type": "code",
   "execution_count": 17,
   "metadata": {},
   "outputs": [
    {
     "data": {
      "text/plain": [
       "masked_array(data=[1.3491521979828038, 0.9520903512513406,\n",
       "                   -1.561837629055115],\n",
       "             mask=[False, False, False],\n",
       "       fill_value=0.0)"
      ]
     },
     "execution_count": 17,
     "metadata": {},
     "output_type": "execute_result"
    }
   ],
   "source": [
    "bundle.metricValues"
   ]
  },
  {
   "cell_type": "markdown",
   "metadata": {},
   "source": [
    "We can also get the slice points used:"
   ]
  },
  {
   "cell_type": "code",
   "execution_count": 18,
   "metadata": {},
   "outputs": [
    {
     "data": {
      "text/plain": [
       "{'sid': array([0, 1, 2]), 'bins': array([1. , 1.5, 2. , 2.5])}"
      ]
     },
     "execution_count": 18,
     "metadata": {},
     "output_type": "execute_result"
    }
   ],
   "source": [
    "bundle.slicer.slicePoints"
   ]
  },
  {
   "cell_type": "markdown",
   "metadata": {},
   "source": [
    "# Metric values"
   ]
  },
  {
   "cell_type": "markdown",
   "metadata": {},
   "source": [
    "A metric's `run` method is called once on each slice generated by the slicer. Although it is usually a numeric value like an `int` or a `float`, it can potentially be any python object.\n",
    "\n",
    "For example:"
   ]
  },
  {
   "cell_type": "code",
   "execution_count": 19,
   "metadata": {},
   "outputs": [],
   "source": [
    "class MyBespokeMoon:\n",
    "    def __init__(self, alt, az):\n",
    "        self.alt = alt\n",
    "        self.az = az\n",
    "\n",
    "    def __repr__(self):\n",
    "        return f\"Moon alt: {self.alt}, az: {self.az}\"\n",
    "\n",
    "\n",
    "class MyWierdMetric(maf.BaseMetric):\n",
    "    def __init__(self):\n",
    "        super().__init__(\n",
    "            col=[\"moonAlt\", \"moonAz\"], metricName=\"wierdness\", metricDtype=\"object\"\n",
    "        )\n",
    "\n",
    "    def run(self, dataSlice, slicePoint=None):\n",
    "        if len(dataSlice) is None:\n",
    "            this_slice_value = None\n",
    "        else:\n",
    "            this_slice_value = MyBespokeMoon(dataSlice[0].moonAlt, dataSlice[0].moonAz)\n",
    "        return this_slice_value"
   ]
  },
  {
   "cell_type": "markdown",
   "metadata": {},
   "source": [
    "When we run this metric, we will get an array of our bespoke object back:"
   ]
  },
  {
   "cell_type": "code",
   "execution_count": 20,
   "metadata": {},
   "outputs": [
    {
     "name": "stdout",
     "output_type": "stream",
     "text": [
      "Querying database SummaryAllProps with no constraint for columns ['moonAz', 'moonAlt', 'airmass'].\n",
      "Found 2045493 visits\n",
      "Running:  ['opsim_wierdness_ONED']\n",
      "Completed metric generation.\n",
      "Running reduce methods.\n",
      "Running summary statistics.\n",
      "Completed.\n"
     ]
    },
    {
     "data": {
      "text/plain": [
       "masked_array(data=[Moon alt: -32.582749007768506, az: 174.971255360172,\n",
       "                   Moon alt: 28.616728978690645, az: 321.0903042408855,\n",
       "                   Moon alt: 53.39480616494672, az: 52.75688276383927],\n",
       "             mask=[False, False, False],\n",
       "       fill_value=0,\n",
       "            dtype=object)"
      ]
     },
     "execution_count": 20,
     "metadata": {},
     "output_type": "execute_result"
    }
   ],
   "source": [
    "slicer = maf.OneDSlicer(sliceColName=\"airmass\", binMin=1.0, binMax=2.5, binsize=0.5)\n",
    "metric = MyWierdMetric()\n",
    "bundle = maf.MetricBundle(metric, slicer, \"\")\n",
    "bgroup = maf.MetricBundleGroup([bundle], dbObj=opsim_db, outDir=output_dir)\n",
    "bgroup.runAll()\n",
    "bundle.metricValues"
   ]
  },
  {
   "cell_type": "markdown",
   "metadata": {},
   "source": [
    "Note that the `metricDtype` argument to the `maf.BaseMetric` initializer declared that the return type is an object."
   ]
  },
  {
   "cell_type": "markdown",
   "metadata": {},
   "source": [
    "Returning objects that are not of type `int` or `float` has a serious drawback: the visualization tools in MAF can generally only work with numbers:"
   ]
  },
  {
   "cell_type": "code",
   "execution_count": 21,
   "metadata": {},
   "outputs": [
    {
     "name": "stdout",
     "output_type": "stream",
     "text": [
      "Plotting figures with \"\" constraint now.\n",
      "Plotting complete.\n"
     ]
    },
    {
     "name": "stderr",
     "output_type": "stream",
     "text": [
      "/data/des91.b/data/neilsen/LSST/devel/rubin_sim/rubin_sim/maf/plots/plotHandler.py:518: UserWarning: Cannot plot object metric values with this plotter.\n",
      "  warnings.warn('Cannot plot object metric values with this plotter.')\n"
     ]
    }
   ],
   "source": [
    "bgroup.plotAll()"
   ]
  },
  {
   "cell_type": "markdown",
   "metadata": {},
   "source": [
    "# Metrics for use with spatial slicers"
   ]
  },
  {
   "cell_type": "markdown",
   "metadata": {},
   "source": [
    "If the metric can get all the data it needs from the columns that can be passed in as part of the `dataSlice`, nothing special is required to use them to make a map on the sky.\n",
    "\n",
    "Some metrics require data on the coordinates of the slice point, and only make sense when appied to a slicer than slices based on position in the sky.\n",
    "MAF's `rubin_sim.maf.metrics.HealpixSlicer` is an example of such a slicer.\n",
    "The `HealpixSlicer` creates `slicePoint`s with keys that provide coordinate information on the slice:\n",
    "- `sid`, the `healpix` id\n",
    "- `ra`, the RA in radians\n",
    "- `dec`, the declination in radians\n",
    "- `nside`, the nside of the healpix pixelization\n",
    "\n",
    "When combined with values that can be passed in with the `dataSlice`, these values should provide the data needed to, for example, determine which part of the focal plane falls in the slice, or the area covered by the slice."
   ]
  },
  {
   "cell_type": "markdown",
   "metadata": {},
   "source": [
    "The `maf.ExgalM5` metric is one example of a metric that requires such coordinate information for from the slicers it can be used with:"
   ]
  },
  {
   "cell_type": "code",
   "execution_count": 22,
   "metadata": {},
   "outputs": [
    {
     "data": {
      "text/plain": [
       "\u001b[0;32mclass\u001b[0m \u001b[0mExgalM5\u001b[0m\u001b[0;34m(\u001b[0m\u001b[0mBaseMetric\u001b[0m\u001b[0;34m)\u001b[0m\u001b[0;34m:\u001b[0m\u001b[0;34m\u001b[0m\n",
       "\u001b[0;34m\u001b[0m    \u001b[0;34m\"\"\"\u001b[0m\n",
       "\u001b[0;34m    Calculate co-added five-sigma limiting depth after dust extinction.\u001b[0m\n",
       "\u001b[0;34m\u001b[0m\n",
       "\u001b[0;34m    Uses photUtils to calculate dust extinction.\u001b[0m\n",
       "\u001b[0;34m\u001b[0m\n",
       "\u001b[0;34m    Parameters\u001b[0m\n",
       "\u001b[0;34m    ----------\u001b[0m\n",
       "\u001b[0;34m    m5Col : `str`, optional\u001b[0m\n",
       "\u001b[0;34m        Column name for five sigma depth. Default 'fiveSigmaDepth'.\u001b[0m\n",
       "\u001b[0;34m    unit : `str`, optional\u001b[0m\n",
       "\u001b[0;34m        Label for units. Default 'mag'.\u001b[0m\n",
       "\u001b[0;34m    \"\"\"\u001b[0m\u001b[0;34m\u001b[0m\n",
       "\u001b[0;34m\u001b[0m    \u001b[0;32mdef\u001b[0m \u001b[0m__init__\u001b[0m\u001b[0;34m(\u001b[0m\u001b[0mself\u001b[0m\u001b[0;34m,\u001b[0m \u001b[0mm5Col\u001b[0m\u001b[0;34m=\u001b[0m\u001b[0;34m'fiveSigmaDepth'\u001b[0m\u001b[0;34m,\u001b[0m \u001b[0mmetricName\u001b[0m\u001b[0;34m=\u001b[0m\u001b[0;34m'ExgalM5'\u001b[0m\u001b[0;34m,\u001b[0m \u001b[0munits\u001b[0m\u001b[0;34m=\u001b[0m\u001b[0;34m'mag'\u001b[0m\u001b[0;34m,\u001b[0m\u001b[0;34m\u001b[0m\n",
       "\u001b[0;34m\u001b[0m                 \u001b[0mfilterCol\u001b[0m\u001b[0;34m=\u001b[0m\u001b[0;34m'filter'\u001b[0m\u001b[0;34m,\u001b[0m \u001b[0;34m**\u001b[0m\u001b[0mkwargs\u001b[0m\u001b[0;34m)\u001b[0m\u001b[0;34m:\u001b[0m\u001b[0;34m\u001b[0m\n",
       "\u001b[0;34m\u001b[0m        \u001b[0;31m# Set the name for the dust map to use. This is gathered into the MetricBundle.\u001b[0m\u001b[0;34m\u001b[0m\n",
       "\u001b[0;34m\u001b[0m        \u001b[0mmaps\u001b[0m \u001b[0;34m=\u001b[0m \u001b[0;34m[\u001b[0m\u001b[0;34m'DustMap'\u001b[0m\u001b[0;34m]\u001b[0m\u001b[0;34m\u001b[0m\n",
       "\u001b[0;34m\u001b[0m        \u001b[0mself\u001b[0m\u001b[0;34m.\u001b[0m\u001b[0mm5Col\u001b[0m \u001b[0;34m=\u001b[0m \u001b[0mm5Col\u001b[0m\u001b[0;34m\u001b[0m\n",
       "\u001b[0;34m\u001b[0m        \u001b[0mself\u001b[0m\u001b[0;34m.\u001b[0m\u001b[0mfilterCol\u001b[0m \u001b[0;34m=\u001b[0m \u001b[0mfilterCol\u001b[0m\u001b[0;34m\u001b[0m\n",
       "\u001b[0;34m\u001b[0m        \u001b[0msuper\u001b[0m\u001b[0;34m(\u001b[0m\u001b[0;34m)\u001b[0m\u001b[0;34m.\u001b[0m\u001b[0m__init__\u001b[0m\u001b[0;34m(\u001b[0m\u001b[0mcol\u001b[0m\u001b[0;34m=\u001b[0m\u001b[0;34m[\u001b[0m\u001b[0mself\u001b[0m\u001b[0;34m.\u001b[0m\u001b[0mm5Col\u001b[0m\u001b[0;34m,\u001b[0m \u001b[0mself\u001b[0m\u001b[0;34m.\u001b[0m\u001b[0mfilterCol\u001b[0m\u001b[0;34m]\u001b[0m\u001b[0;34m,\u001b[0m \u001b[0mmaps\u001b[0m\u001b[0;34m=\u001b[0m\u001b[0mmaps\u001b[0m\u001b[0;34m,\u001b[0m\u001b[0;34m\u001b[0m\n",
       "\u001b[0;34m\u001b[0m                         \u001b[0mmetricName\u001b[0m\u001b[0;34m=\u001b[0m\u001b[0mmetricName\u001b[0m\u001b[0;34m,\u001b[0m \u001b[0munits\u001b[0m\u001b[0;34m=\u001b[0m\u001b[0munits\u001b[0m\u001b[0;34m,\u001b[0m \u001b[0;34m**\u001b[0m\u001b[0mkwargs\u001b[0m\u001b[0;34m)\u001b[0m\u001b[0;34m\u001b[0m\n",
       "\u001b[0;34m\u001b[0m        \u001b[0;31m# Set the default wavelength limits for the lsst filters. These are approximately correct.\u001b[0m\u001b[0;34m\u001b[0m\n",
       "\u001b[0;34m\u001b[0m        \u001b[0mdust_properties\u001b[0m \u001b[0;34m=\u001b[0m \u001b[0mDust_values\u001b[0m\u001b[0;34m(\u001b[0m\u001b[0;34m)\u001b[0m\u001b[0;34m\u001b[0m\n",
       "\u001b[0;34m\u001b[0m        \u001b[0mself\u001b[0m\u001b[0;34m.\u001b[0m\u001b[0mAx1\u001b[0m \u001b[0;34m=\u001b[0m \u001b[0mdust_properties\u001b[0m\u001b[0;34m.\u001b[0m\u001b[0mAx1\u001b[0m\u001b[0;34m\u001b[0m\n",
       "\u001b[0;34m\u001b[0m        \u001b[0;31m# We will call Coaddm5Metric to calculate the coadded depth. Set it up here.\u001b[0m\u001b[0;34m\u001b[0m\n",
       "\u001b[0;34m\u001b[0m        \u001b[0mself\u001b[0m\u001b[0;34m.\u001b[0m\u001b[0mCoaddm5Metric\u001b[0m \u001b[0;34m=\u001b[0m \u001b[0mCoaddm5Metric\u001b[0m\u001b[0;34m(\u001b[0m\u001b[0mm5Col\u001b[0m\u001b[0;34m=\u001b[0m\u001b[0mm5Col\u001b[0m\u001b[0;34m)\u001b[0m\u001b[0;34m\u001b[0m\n",
       "\u001b[0;34m\u001b[0m\u001b[0;34m\u001b[0m\n",
       "\u001b[0;34m\u001b[0m    \u001b[0;32mdef\u001b[0m \u001b[0mrun\u001b[0m\u001b[0;34m(\u001b[0m\u001b[0mself\u001b[0m\u001b[0;34m,\u001b[0m \u001b[0mdataSlice\u001b[0m\u001b[0;34m,\u001b[0m \u001b[0mslicePoint\u001b[0m\u001b[0;34m)\u001b[0m\u001b[0;34m:\u001b[0m\u001b[0;34m\u001b[0m\n",
       "\u001b[0;34m\u001b[0m        \u001b[0;34m\"\"\"\u001b[0m\n",
       "\u001b[0;34m        Compute the co-added m5 depth and then apply dust extinction to that magnitude.\u001b[0m\n",
       "\u001b[0;34m        \"\"\"\u001b[0m\u001b[0;34m\u001b[0m\n",
       "\u001b[0;34m\u001b[0m        \u001b[0mm5\u001b[0m \u001b[0;34m=\u001b[0m \u001b[0mself\u001b[0m\u001b[0;34m.\u001b[0m\u001b[0mCoaddm5Metric\u001b[0m\u001b[0;34m.\u001b[0m\u001b[0mrun\u001b[0m\u001b[0;34m(\u001b[0m\u001b[0mdataSlice\u001b[0m\u001b[0;34m)\u001b[0m\u001b[0;34m\u001b[0m\n",
       "\u001b[0;34m\u001b[0m        \u001b[0;31m# Total dust extinction along this line of sight. Correct default A to this EBV value.\u001b[0m\u001b[0;34m\u001b[0m\n",
       "\u001b[0;34m\u001b[0m        \u001b[0mA_x\u001b[0m \u001b[0;34m=\u001b[0m \u001b[0mself\u001b[0m\u001b[0;34m.\u001b[0m\u001b[0mAx1\u001b[0m\u001b[0;34m[\u001b[0m\u001b[0mdataSlice\u001b[0m\u001b[0;34m[\u001b[0m\u001b[0mself\u001b[0m\u001b[0;34m.\u001b[0m\u001b[0mfilterCol\u001b[0m\u001b[0;34m]\u001b[0m\u001b[0;34m[\u001b[0m\u001b[0;36m0\u001b[0m\u001b[0;34m]\u001b[0m\u001b[0;34m]\u001b[0m \u001b[0;34m*\u001b[0m \u001b[0mslicePoint\u001b[0m\u001b[0;34m[\u001b[0m\u001b[0;34m'ebv'\u001b[0m\u001b[0;34m]\u001b[0m\u001b[0;34m\u001b[0m\n",
       "\u001b[0;34m\u001b[0m        \u001b[0;32mreturn\u001b[0m \u001b[0mm5\u001b[0m \u001b[0;34m-\u001b[0m \u001b[0mA_x\u001b[0m\u001b[0;34m\u001b[0m\u001b[0;34m\u001b[0m\u001b[0m\n"
      ]
     },
     "metadata": {},
     "output_type": "display_data"
    }
   ],
   "source": [
    "%psource maf.ExgalM5"
   ]
  },
  {
   "cell_type": "markdown",
   "metadata": {},
   "source": [
    "This metric demonstrates an additional feature of MAF metrics: the use of maps.\n",
    "In this case, calculation of the metric requires a dust map, and this is specified in the call to the initializer of the parent class (`super().__init__...`).\n",
    "When the metric is evaluated, the dictionary supplied in the `slicePoint` argument to `run` includes not only those generated by the slicer, but also `ebv`, the extinction from the dust map.\n",
    "\n",
    "There are other MAF `map`s available as well, each of which supplements the `slicePoint` dictionary with different values:"
   ]
  },
  {
   "cell_type": "code",
   "execution_count": 23,
   "metadata": {},
   "outputs": [
    {
     "name": "stdout",
     "output_type": "stream",
     "text": [
      "----  BaseMap  ----\n",
      " \n",
      " added to SlicePoint:  newkey\n",
      "----  DustMap  ----\n",
      "\n",
      "    Compute the E(B-V) for each point in a given spatial distribution of slicePoints.\n",
      "    \n",
      " added to SlicePoint:  ebv\n",
      "----  GalCoordsMap  ----\n",
      "None\n",
      " added to SlicePoint:  gall,galb\n",
      "----  StellarDensityMap  ----\n",
      "\n",
      "    Return the cumulative stellar luminosity function for each slicepoint. Units of stars per sq degree.\n",
      "    Uses a healpix map of nside=64. Uses the nearest healpix point for other ra,dec values.\n",
      "\n",
      "    Parameters\n",
      "    ----------\n",
      "    startype : `str` ('allstars', 'wdstars')\n",
      "        Load the luminosity function for all stars ('allstars'), which includes main-sequence stars\n",
      "        white dwarfs, blue horozontal branch, RR Lyrae, and Cepheids. The 'wdstars' option only includes\n",
      "        white dwarf stars.\n",
      "    filtername : `str`\n",
      "        Filter to use. Options of u,g,r,i,z,y\n",
      "    \n",
      " added to SlicePoint:  starLumFunc_r,starMapBins_r\n",
      "----  TrilegalDensityMap  ----\n",
      "\n",
      "    Return the cumulative stellar luminosity function for each slicepoint. Units of stars per sq degree.\n",
      "\n",
      "    Parameters\n",
      "    ----------\n",
      "    filtername : `str`, opt\n",
      "        Filter to use. Options of u,g,r,i,z,y. Default r.\n",
      "    nside : `int`, opt\n",
      "        The HEALpix nside (can be 64 or 128). Default 64.\n",
      "    ext : `bool`, opt\n",
      "        Use the full sky maps. Default True.\n",
      "    \n",
      " added to SlicePoint:  starLumFunc_r,starMapBins_r\n"
     ]
    }
   ],
   "source": [
    "maf.BaseMap.help(doc=True)"
   ]
  },
  {
   "cell_type": "markdown",
   "metadata": {},
   "source": [
    "# What columns and stackers can I use?"
   ]
  },
  {
   "cell_type": "markdown",
   "metadata": {},
   "source": [
    "You can get a list of columns available in an `opsim` output database using an instance of the `maf.OpsimDatabase` connected to the simulation output of interest.\n",
    "\n",
    "For older simulations, you need to run:\n",
    "\n",
    "```\n",
    "opsim_db = maf.OpsimDatabase('my_old_opsim_output.db`)\n",
    "opsim_db.get_column_names('SummaryAllProps')\n",
    "```\n",
    "\n",
    "For newer simulations, the table queried will need to be `observations` instead of `SummaryAllProps`:\n",
    "\n",
    "```\n",
    "opsim_db = maf.OpsimDatabase('my_recent_opsim_output.db`)\n",
    "opsim_db.get_column_names('observations')\n",
    "```"
   ]
  },
  {
   "cell_type": "markdown",
   "metadata": {},
   "source": [
    "This code will print a list of available stackers, and what columns they supply:"
   ]
  },
  {
   "cell_type": "code",
   "execution_count": 24,
   "metadata": {},
   "outputs": [
    {
     "name": "stdout",
     "output_type": "stream",
     "text": [
      "{'AppMagNullStacker': ['appMag'],\n",
      " 'AppMagStacker': ['appMag'],\n",
      " 'BaseDitherStacker': [],\n",
      " 'BaseMoStacker': [],\n",
      " 'CoaddStacker': ['coadd'],\n",
      " 'CometAppMagStacker': ['appMag'],\n",
      " 'DcrStacker': ['ra_dcr_amp', 'dec_dcr_amp'],\n",
      " 'EclStacker': ['ecLat', 'ecLon'],\n",
      " 'EclipticStacker': ['eclipLat', 'eclipLon'],\n",
      " 'FilterColorStacker': ['rRGB', 'gRGB', 'bRGB'],\n",
      " 'FiveSigmaStacker': ['m5_simsUtils'],\n",
      " 'GalacticStacker': ['gall', 'galb'],\n",
      " 'HexDitherFieldPerNightStacker': ['hexDitherFieldPerNightRa',\n",
      "                                   'hexDitherFieldPerNightDec'],\n",
      " 'HexDitherFieldPerVisitStacker': ['hexDitherFieldPerVisitRa',\n",
      "                                   'hexDitherFieldPerVisitDec'],\n",
      " 'HexDitherPerNightStacker': ['hexDitherPerNightRa', 'hexDitherPerNightDec'],\n",
      " 'HourAngleStacker': ['HA'],\n",
      " 'M5OptimalStacker': ['m5Optimal'],\n",
      " 'MoMagStacker': ['appMag', 'SNR', 'vis'],\n",
      " 'NEODistStacker': ['MaxGeoDist', 'NEOHelioX', 'NEOHelioY'],\n",
      " 'NFollowStacker': ['nObservatories'],\n",
      " 'NormAirmassStacker': ['normairmass'],\n",
      " 'OpSimFieldStacker': ['opsimFieldId'],\n",
      " 'ParallacticAngleStacker': ['PA'],\n",
      " 'ParallaxFactorStacker': ['ra_pi_amp', 'dec_pi_amp'],\n",
      " 'RandomDitherFieldPerNightStacker': ['randomDitherFieldPerNightRa',\n",
      "                                      'randomDitherFieldPerNightDec'],\n",
      " 'RandomDitherFieldPerVisitStacker': ['randomDitherFieldPerVisitRa',\n",
      "                                      'randomDitherFieldPerVisitDec'],\n",
      " 'RandomDitherPerNightStacker': ['randomDitherPerNightRa',\n",
      "                                 'randomDitherPerNightDec'],\n",
      " 'RandomRotDitherPerFilterChangeStacker': ['randomDitherPerFilterChangeRotTelPos'],\n",
      " 'SNRStacker': ['SNR', 'vis'],\n",
      " 'SaturationStacker': ['saturation_mag'],\n",
      " 'SdssRADecStacker': ['RA1',\n",
      "                      'Dec1',\n",
      "                      'RA2',\n",
      "                      'Dec2',\n",
      "                      'RA3',\n",
      "                      'Dec3',\n",
      "                      'RA4',\n",
      "                      'Dec4'],\n",
      " 'SpiralDitherFieldPerNightStacker': ['spiralDitherFieldPerNightRa',\n",
      "                                      'spiralDitherFieldPerNightDec'],\n",
      " 'SpiralDitherFieldPerVisitStacker': ['spiralDitherFieldPerVisitRa',\n",
      "                                      'spiralDitherFieldPerVisitDec'],\n",
      " 'SpiralDitherPerNightStacker': ['spiralDitherPerNightRa',\n",
      "                                 'spiralDitherPerNightDec'],\n",
      " 'WFDlabelStacker': ['proposalId'],\n",
      " 'ZenithDistStacker': ['zenithDistance'],\n",
      " 'rubin_sim.maf.mafContrib.LSSObsStrategy.FermatSpiralDitherFieldPerNightStacker': [],\n",
      " 'rubin_sim.maf.mafContrib.LSSObsStrategy.FermatSpiralDitherFieldPerVisitStacker': [],\n",
      " 'rubin_sim.maf.mafContrib.LSSObsStrategy.FermatSpiralDitherPerNightStacker': [],\n",
      " 'rubin_sim.maf.mafContrib.LSSObsStrategy.PentagonDiamondDitherFieldPerSeasonStacker': [],\n",
      " 'rubin_sim.maf.mafContrib.LSSObsStrategy.PentagonDiamondDitherPerSeasonStacker': [],\n",
      " 'rubin_sim.maf.mafContrib.LSSObsStrategy.PentagonDitherFieldPerSeasonStacker': [],\n",
      " 'rubin_sim.maf.mafContrib.LSSObsStrategy.PentagonDitherPerSeasonStacker': [],\n",
      " 'rubin_sim.maf.mafContrib.LSSObsStrategy.RepulsiveRandomDitherFieldPerNightStacker': [],\n",
      " 'rubin_sim.maf.mafContrib.LSSObsStrategy.RepulsiveRandomDitherFieldPerVisitStacker': [],\n",
      " 'rubin_sim.maf.mafContrib.LSSObsStrategy.RepulsiveRandomDitherPerNightStacker': [],\n",
      " 'rubin_sim.maf.mafContrib.LSSObsStrategy.SpiralDitherPerSeasonStacker': ['spiralDitherFieldPerVisitRa',\n",
      "                                                                          'spiralDitherFieldPerVisitDec']}\n"
     ]
    }
   ],
   "source": [
    "import pprint\n",
    "\n",
    "pprint.pprint({k: v.colsAdded for k, v in maf.BaseStacker.registry.items()})"
   ]
  },
  {
   "cell_type": "code",
   "execution_count": null,
   "metadata": {},
   "outputs": [],
   "source": []
  }
 ],
 "metadata": {
  "kernelspec": {
   "display_name": "Python3 (LSST MAF)",
   "language": "python",
   "name": "lsst_maf"
  },
  "language_info": {
   "codemirror_mode": {
    "name": "ipython",
    "version": 3
   },
   "file_extension": ".py",
   "mimetype": "text/x-python",
   "name": "python",
   "nbconvert_exporter": "python",
   "pygments_lexer": "ipython3",
   "version": "3.9.5"
  }
 },
 "nbformat": 4,
 "nbformat_minor": 4
}
