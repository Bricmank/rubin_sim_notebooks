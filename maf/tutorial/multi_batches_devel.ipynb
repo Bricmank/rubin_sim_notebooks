{
 "cells": [
  {
   "cell_type": "code",
   "execution_count": 1,
   "metadata": {},
   "outputs": [],
   "source": [
    "%load_ext lab_black\n",
    "%load_ext pycodestyle_magic\n",
    "%flake8_on --ignore E501,W505"
   ]
  },
  {
   "cell_type": "markdown",
   "metadata": {},
   "source": [
    "Import the required python modules:"
   ]
  },
  {
   "cell_type": "code",
   "execution_count": 2,
   "metadata": {},
   "outputs": [],
   "source": [
    "import rubin_sim\n",
    "from rubin_sim import maf"
   ]
  },
  {
   "cell_type": "markdown",
   "metadata": {},
   "source": [
    "Note the environment of this execution of this notebook:"
   ]
  },
  {
   "cell_type": "code",
   "execution_count": 3,
   "metadata": {},
   "outputs": [
    {
     "name": "stdout",
     "output_type": "stream",
     "text": [
      "Notebook last executed: 2021-11-05 17:52:53.326\n",
      "Python version: 3.9.5 | packaged by conda-forge | (default, Jun 19 2021, 00:32:32) \n",
      "[GCC 9.3.0]\n",
      "rubin_sim version: 0.5.2.dev2+ge3367ea\n"
     ]
    }
   ],
   "source": [
    "from astropy.time import Time\n",
    "import sys\n",
    "\n",
    "print(f\"Notebook last executed: {Time.now().iso}\")\n",
    "print(f\"Python version: {sys.version}\")\n",
    "print(f\"rubin_sim version: {rubin_sim.__version__}\")"
   ]
  },
  {
   "cell_type": "markdown",
   "metadata": {},
   "source": [
    "This notebook will produce output files, which need to go somewhere.\n",
    "These files will later be read and examined using the `Comparing Runs` notebook.\n",
    "\n",
    "The following cell will create a directory to work in as a subdirectory of the current directory. Rename it to put the data samewhere else."
   ]
  },
  {
   "cell_type": "code",
   "execution_count": 4,
   "metadata": {},
   "outputs": [],
   "source": [
    "from os import path\n",
    "from os import getcwd\n",
    "\n",
    "data_dir = path.join(getcwd(), \"bulk_metric_data\")"
   ]
  },
  {
   "cell_type": "markdown",
   "metadata": {},
   "source": [
    "If the directory doesn't already exist, create it:"
   ]
  },
  {
   "cell_type": "code",
   "execution_count": 5,
   "metadata": {},
   "outputs": [],
   "source": [
    "from os import makedirs\n",
    "\n",
    "if not path.exists(data_dir):\n",
    "    makedirs(data_dir)"
   ]
  },
  {
   "cell_type": "code",
   "execution_count": 6,
   "metadata": {},
   "outputs": [],
   "source": [
    "opsim_runs = (\n",
    "    \"baseline_nexp2_v1.7_10yrs\",\n",
    "    \"baseline_2snaps_v1.5_10yrs\",\n",
    "    \"baseline_v2.0_10yrs\",\n",
    ")"
   ]
  },
  {
   "cell_type": "markdown",
   "metadata": {},
   "source": [
    "If you already have a couple of opsim database to work with, uncomment these lines and set the file names to use:"
   ]
  },
  {
   "cell_type": "code",
   "execution_count": 7,
   "metadata": {},
   "outputs": [],
   "source": [
    "# my_opsim_run_path = '/my/path'\n",
    "# opsim_run_fnames = {run: os.path.join(my_opsim_run_path, run + '.db') for run in opsim_runs}"
   ]
  },
  {
   "cell_type": "markdown",
   "metadata": {},
   "source": [
    "Otherwise, the databases will be downloaded from the URLs specified here:"
   ]
  },
  {
   "cell_type": "code",
   "execution_count": 8,
   "metadata": {},
   "outputs": [],
   "source": [
    "opsim_run_urls = {\n",
    "    \"baseline_nexp2_v1.7_10yrs\": \"https://lsst.ncsa.illinois.edu/sim-data/sims_featureScheduler_runs1.7/baseline/baseline_nexp2_v1.7_10yrs.db\",\n",
    "    \"baseline_2snaps_v1.5_10yrs\": \"https://lsst.ncsa.illinois.edu/sim-data/sims_featureScheduler_runs1.5/baseline/baseline_2snaps_v1.5_10yrs.db\",\n",
    "    \"baseline_v2.0_10yrs\": \"https://lsst.ncsa.illinois.edu/sim-data/sims_featureScheduler_runs2.0/baseline/baseline_v2.0_10yrs.db\",\n",
    "}"
   ]
  },
  {
   "cell_type": "markdown",
   "metadata": {},
   "source": [
    "Now, actually download the files if (and only if) necessary:"
   ]
  },
  {
   "cell_type": "code",
   "execution_count": 9,
   "metadata": {},
   "outputs": [],
   "source": [
    "from os import path\n",
    "import urllib\n",
    "\n",
    "for opsim_run in opsim_runs:\n",
    "    if \"opsim_run_fnames\" not in locals():\n",
    "        opsim_run_fnames = {}\n",
    "\n",
    "    opsim_run_fname = path.join(data_dir, opsim_run + \".db\")\n",
    "    if opsim_run not in opsim_run_fnames:\n",
    "        opsim_run_fnames[opsim_run] = opsim_run_fname\n",
    "\n",
    "    if not path.isfile(opsim_run_fname):\n",
    "        opsim_run_url = opsim_run_urls[opsim_run]\n",
    "        print(f\"Downloading {opsim_run_url} to {opsim_run_fname}\")\n",
    "        opsim_db_file = urllib.request.urlretrieve(opsim_run_url, opsim_run_fname)\n",
    "        print(\"Download complete\")"
   ]
  },
  {
   "cell_type": "markdown",
   "metadata": {},
   "source": [
    "Now we have a dictionary with the database file names for the runs we want:"
   ]
  },
  {
   "cell_type": "code",
   "execution_count": 10,
   "metadata": {},
   "outputs": [
    {
     "data": {
      "text/plain": [
       "{'baseline_nexp2_v1.7_10yrs': '/data/des91.b/data/neilsen/LSST/devel/rubin_sim_notebooks/maf/tutorial/bulk_metric_data/baseline_nexp2_v1.7_10yrs.db',\n",
       " 'baseline_2snaps_v1.5_10yrs': '/data/des91.b/data/neilsen/LSST/devel/rubin_sim_notebooks/maf/tutorial/bulk_metric_data/baseline_2snaps_v1.5_10yrs.db',\n",
       " 'baseline_v2.0_10yrs': '/data/des91.b/data/neilsen/LSST/devel/rubin_sim_notebooks/maf/tutorial/bulk_metric_data/baseline_v2.0_10yrs.db'}"
      ]
     },
     "execution_count": 10,
     "metadata": {},
     "output_type": "execute_result"
    }
   ],
   "source": [
    "opsim_run_fnames"
   ]
  },
  {
   "cell_type": "code",
   "execution_count": 11,
   "metadata": {},
   "outputs": [],
   "source": [
    "def make_open_shutter_batch(run_name):\n",
    "    constraint = \"\"\n",
    "    plotDict = {}\n",
    "    slicer = maf.UniSlicer()\n",
    "    metric = maf.OpenShutterFractionMetric(\n",
    "        slewTimeCol=\"slewTime\", expTimeCol=\"visitExposureTime\", visitTimeCol=\"visitTime\"\n",
    "    )\n",
    "    summary_metrics = [maf.IdentityMetric()]\n",
    "    bundle = maf.MetricBundle(\n",
    "        metric,\n",
    "        slicer,\n",
    "        constraint,\n",
    "        summaryMetrics=summary_metrics,\n",
    "        runName=run_name,\n",
    "        plotDict=plotDict,\n",
    "    )\n",
    "\n",
    "    # If we do not care about the keys, just build a list\n",
    "    # and let MAF build unique keys and convert it to a dict\n",
    "    # for us.\n",
    "    metric_bundles = [bundle]\n",
    "    bundle_dict = maf.metricBundles.makeBundlesDictFromList(metric_bundles)\n",
    "\n",
    "    return bundle_dict"
   ]
  },
  {
   "cell_type": "code",
   "execution_count": 12,
   "metadata": {},
   "outputs": [],
   "source": [
    "def make_airmass_batch(run_name):\n",
    "    constraint = \"\"\n",
    "    plotDict = {}\n",
    "    slicer = maf.OneDSlicer(\n",
    "        sliceColName=\"airmass\", binMin=1.0, binMax=2.5, binsize=0.05\n",
    "    )\n",
    "    metric = maf.CountMetric(col=\"airmass\")\n",
    "\n",
    "    # produces list of metrics with mean, median, RMS, etc.\n",
    "    summary_metrics = maf.extendedSummary()\n",
    "\n",
    "    bundle = maf.MetricBundle(\n",
    "        metric,\n",
    "        slicer,\n",
    "        constraint,\n",
    "        summaryMetrics=summary_metrics,\n",
    "        runName=run_name,\n",
    "        plotDict=plotDict,\n",
    "    )\n",
    "\n",
    "    metric_bundles = [bundle]\n",
    "    bundle_dict = maf.metricBundles.makeBundlesDictFromList(metric_bundles)\n",
    "\n",
    "    return bundle_dict"
   ]
  },
  {
   "cell_type": "code",
   "execution_count": 13,
   "metadata": {},
   "outputs": [],
   "source": [
    "def multi_batch(run_name=\"opsim\", bands=(\"g\", \"i\"), footprint_area=18000):\n",
    "    bundle_dict = {}\n",
    "\n",
    "    # Open shutter fraction on each night\n",
    "    bundle_dict.update(make_open_shutter_batch(run_name))\n",
    "\n",
    "    # Hour Angle distribution\n",
    "    bundle_dict.update(make_airmass_batch(run_name))\n",
    "\n",
    "    return bundle_dict"
   ]
  },
  {
   "cell_type": "markdown",
   "metadata": {},
   "source": [
    "The batch created by the above function is a dictionary with keys built from the run, metric, metric metadata, and slicer name; and whose values are the instances of `MetricBundle` themselves:"
   ]
  },
  {
   "cell_type": "code",
   "execution_count": 14,
   "metadata": {},
   "outputs": [
    {
     "data": {
      "text/plain": [
       "{'opsim_OpenShutterFraction_UNIS': <rubin_sim.maf.metricBundles.metricBundle.MetricBundle at 0x7f385da218e0>,\n",
       " 'opsim_Count_airmass_ONED': <rubin_sim.maf.metricBundles.metricBundle.MetricBundle at 0x7f385d5030d0>}"
      ]
     },
     "execution_count": 14,
     "metadata": {},
     "output_type": "execute_result"
    }
   ],
   "source": [
    "multi_batch()"
   ]
  },
  {
   "cell_type": "markdown",
   "metadata": {},
   "source": [
    "An assortment of pre-defined \"batches\" can be found in the `rubin_sim/maf/batches` subdirectory of the `sims_maf` product."
   ]
  },
  {
   "cell_type": "code",
   "execution_count": 15,
   "metadata": {},
   "outputs": [
    {
     "name": "stdout",
     "output_type": "stream",
     "text": [
      "['agnBatch', 'altazBatch', 'astrometryBatch', 'characterizationInnerBatch', 'characterizationOuterBatch', 'ddfBatch', 'descWFDBatch', 'discoveryBatch', 'fOBatch', 'filterchangeBatch', 'glanceBatch', 'hourglassBatch', 'metadataBatch', 'movingObjectsBatch', 'openshutterBatch', 'quickDiscoveryBatch', 'rapidRevisitBatch', 'scienceRadarBatch', 'slewBatch', 'srdBatch', 'tdcBatch', 'timeBatch', 'visitdepthBatch']\n"
     ]
    }
   ],
   "source": [
    "print(list(b for b in dir(maf) if b.lower().endswith(\"batch\")))"
   ]
  },
  {
   "cell_type": "markdown",
   "metadata": {},
   "source": [
    "Help on these can be obtained in the usual way: `help(maf.glanceBatch)`\n",
    "\n",
    "They can be called like other functions in `MAF`:\n",
    "\n",
    "```\n",
    "this_batch = maf.glanceBatch(run_name=run_name)\n",
    "```\n",
    "\n",
    "For this notebook, however, we will just use the sample created above."
   ]
  },
  {
   "cell_type": "markdown",
   "metadata": {},
   "source": [
    "### Creating and running batches"
   ]
  },
  {
   "cell_type": "markdown",
   "metadata": {},
   "source": [
    "Now we can create a high-level driver that creates batches, builds a metric bundle group from them, and computes the metrics and makes plots:"
   ]
  },
  {
   "cell_type": "code",
   "execution_count": 16,
   "metadata": {},
   "outputs": [],
   "source": [
    "from os import path\n",
    "\n",
    "\n",
    "def compute_metrics(opsim_runs, opsim_run_fnames, data_dir, batch_name=\"\"):\n",
    "    batches = {}\n",
    "\n",
    "    for run_name in opsim_runs:\n",
    "        opsim_db = maf.OpsimDatabase(opsim_run_fnames[run_name])\n",
    "\n",
    "        # Follow the opsim team practice and make separate\n",
    "        # out_dir for each run, and put a results database\n",
    "        # there.\n",
    "        out_dir = path.join(data_dir, run_name, batch_name)\n",
    "        results_db = maf.ResultsDb(outDir=out_dir)\n",
    "\n",
    "        this_batch = multi_batch(run_name)\n",
    "        bundle_group = maf.MetricBundleGroup(\n",
    "            this_batch, dbObj=opsim_db, outDir=out_dir, resultsDb=results_db\n",
    "        )\n",
    "        bundle_group.runAll()\n",
    "        bundle_group.plotAll()\n",
    "        batches[run_name] = this_batch\n",
    "\n",
    "    return batches"
   ]
  },
  {
   "cell_type": "markdown",
   "metadata": {},
   "source": [
    "Finally, we call our driver to compute the metrics and make the plots (this example takes about 5 minutes):"
   ]
  },
  {
   "cell_type": "code",
   "execution_count": 17,
   "metadata": {},
   "outputs": [
    {
     "data": {
      "text/plain": [
       "True"
      ]
     },
     "execution_count": 17,
     "metadata": {},
     "output_type": "execute_result"
    }
   ],
   "source": [
    "isinstance(\"foo\", str)"
   ]
  },
  {
   "cell_type": "code",
   "execution_count": 18,
   "metadata": {},
   "outputs": [],
   "source": [
    "from inspect import getmembers\n",
    "\n",
    "\n",
    "def _normalize_batches(in_batches):\n",
    "    if isinstance(in_batches, str) or callable(in_batches):\n",
    "        in_batches = [in_batches]\n",
    "\n",
    "    maf_members = dict(getmembers(maf))\n",
    "\n",
    "    batches = []\n",
    "    for batch in in_batches:\n",
    "        if isinstance(batch, str):\n",
    "            batch = batch if batch.endswith(\"Batch\") else batch + \"Batch\"\n",
    "            batch = maf_members[batch]\n",
    "        batches.append(batch)\n",
    "    return batches"
   ]
  },
  {
   "cell_type": "code",
   "execution_count": 19,
   "metadata": {},
   "outputs": [
    {
     "data": {
      "text/plain": [
       "'glanceBatch'"
      ]
     },
     "execution_count": 19,
     "metadata": {},
     "output_type": "execute_result"
    }
   ],
   "source": [
    "_normalize_batches(\"glance\")[0].__name__"
   ]
  },
  {
   "cell_type": "code",
   "execution_count": 20,
   "metadata": {},
   "outputs": [],
   "source": [
    "from collections.abc import Mapping\n",
    "from collections import OrderedDict\n",
    "import os.path\n",
    "\n",
    "\n",
    "def _normalize_run_fnames(in_run_fnames):\n",
    "    if isinstance(in_run_fnames, Mapping):\n",
    "        return in_run_fnames\n",
    "\n",
    "    if isinstance(in_run_fnames, str):\n",
    "        in_run_fnames = [in_run_fnames]\n",
    "\n",
    "    run_fnames = OrderedDict()\n",
    "    for maybe_run_fname in in_run_fnames:\n",
    "        if maybe_run_fname.endswith(\".db\"):\n",
    "            run_fname = maybe_run_fname\n",
    "            run_name = os.path.splitext(os.path.split(run_fname)[-1])[0]\n",
    "        else:\n",
    "            # Assume we were given a run name\n",
    "            # rather than the actual file name\n",
    "            run_name = maybe_run_fname\n",
    "            run_fname = maybe_run_fname + \".db\"\n",
    "        run_fnames[run_name] = run_fname\n",
    "\n",
    "    return run_fnames"
   ]
  },
  {
   "cell_type": "code",
   "execution_count": 21,
   "metadata": {},
   "outputs": [],
   "source": [
    "def compute_batches(\n",
    "    opsim_run_fnames,\n",
    "    batches,\n",
    "    out_dir_base,\n",
    "    batch_name=None,\n",
    "    results_db=None,\n",
    "    run=True,\n",
    "    plot=True,\n",
    "    save=True,\n",
    "):\n",
    "    batches = _normalize_batches(batches)\n",
    "    opsim_run_fnames = _normalize_run_fnames(opsim_run_fnames)\n",
    "\n",
    "    supplied_results_db = results_db\n",
    "\n",
    "    if batch_name is None and len(batches) == 1:\n",
    "        batch_name = _normalize_batches(batches)[0].__name__\n",
    "        for trim_end in (\"_batch\", \"Batch\"):\n",
    "            if batch_name.endswith(trim_end):\n",
    "                batch_name = batch_name[: -1 * len(trim_end)]\n",
    "\n",
    "    bundle_dicts = OrderedDict()\n",
    "    for run_name, run_fname in opsim_run_fnames.items():\n",
    "        if supplied_results_db is None:\n",
    "            if batch_name is not None:\n",
    "                run_batch_out_dir = os.path.join(out_dir_base, run_name, batch_name)\n",
    "            else:\n",
    "                run_batch_out_dir = os.path.join(out_dir_base, run_name)\n",
    "            results_db = maf.ResultsDb(outDir=run_batch_out_dir)\n",
    "        else:\n",
    "            run_batch_out_dir = out_dir_base\n",
    "\n",
    "        bundle_dicts[run_name] = {}\n",
    "\n",
    "        for batch in batches:\n",
    "            bundle_dicts[run_name].update(batch(run_name))\n",
    "\n",
    "        opsim_db = maf.OpsimDatabase(run_fname)\n",
    "\n",
    "        bundle_group = maf.MetricBundleGroup(\n",
    "            bundle_dicts[run_name],\n",
    "            dbObj=opsim_db,\n",
    "            outDir=run_batch_out_dir,\n",
    "            resultsDb=results_db,\n",
    "        )\n",
    "\n",
    "        plot_in_runAll = run and plot and not save\n",
    "\n",
    "        if run:\n",
    "            bundle_group.runAll(clearMemory=not save, plotNow=plot_in_runAll)\n",
    "        else:\n",
    "            bundle_group.readAll()\n",
    "\n",
    "        if plot and not plot_in_runAll:\n",
    "            bundle_group.plotAll()\n",
    "\n",
    "        if save:\n",
    "            maf.writeConfigs(opsim_db, run_batch_out_dir)\n",
    "\n",
    "        if supplied_results_db is None:\n",
    "            results_db.close()\n",
    "\n",
    "    return bundle_dicts"
   ]
  },
  {
   "cell_type": "code",
   "execution_count": 23,
   "metadata": {},
   "outputs": [
    {
     "name": "stdout",
     "output_type": "stream",
     "text": [
      "Querying database SummaryAllProps with no constraint for columns ['visitTime', 'visitExposureTime', 'airmass', 'slewTime'].\n",
      "Found 2045493 visits\n",
      "Running:  ['baseline_nexp2_v1_7_10yrs_OpenShutterFraction_UNIS']\n",
      "Completed metric generation.\n",
      "Running:  ['baseline_nexp2_v1_7_10yrs_Count_airmass_ONED']\n",
      "Completed metric generation.\n",
      "Running reduce methods.\n",
      "Running summary statistics.\n",
      "Completed.\n",
      "Plotting figures with \"\" constraint now.\n",
      "Plotting complete.\n",
      "Querying database SummaryAllProps with no constraint for columns ['visitTime', 'visitExposureTime', 'airmass', 'slewTime'].\n",
      "Found 2056927 visits\n",
      "Running:  ['baseline_2snaps_v1_5_10yrs_OpenShutterFraction_UNIS']\n",
      "Completed metric generation.\n",
      "Running:  ['baseline_2snaps_v1_5_10yrs_Count_airmass_ONED']\n",
      "Completed metric generation.\n",
      "Running reduce methods.\n",
      "Running summary statistics.\n",
      "Completed.\n",
      "Plotting figures with \"\" constraint now.\n",
      "Plotting complete.\n",
      "Querying database observations with no constraint for columns ['visitTime', 'visitExposureTime', 'airmass', 'slewTime'].\n",
      "Found 2086980 visits\n",
      "Running:  ['baseline_v2_0_10yrs_OpenShutterFraction_UNIS']\n",
      "Completed metric generation.\n",
      "Running:  ['baseline_v2_0_10yrs_Count_airmass_ONED']\n",
      "Completed metric generation.\n",
      "Running reduce methods.\n",
      "Running summary statistics.\n",
      "Completed.\n",
      "Plotting figures with \"\" constraint now.\n",
      "Plotting complete.\n",
      "CPU times: user 27.5 s, sys: 3.38 s, total: 30.9 s\n",
      "Wall time: 31.5 s\n"
     ]
    }
   ],
   "source": [
    "%%time\n",
    "batches = compute_batches(opsim_run_fnames, multi_batch, data_dir)"
   ]
  },
  {
   "cell_type": "code",
   "execution_count": 24,
   "metadata": {},
   "outputs": [
    {
     "data": {
      "text/plain": [
       "1"
      ]
     },
     "execution_count": 24,
     "metadata": {},
     "output_type": "execute_result"
    }
   ],
   "source": [
    "1"
   ]
  },
  {
   "cell_type": "code",
   "execution_count": null,
   "metadata": {},
   "outputs": [],
   "source": []
  }
 ],
 "metadata": {
  "kernelspec": {
   "display_name": "Python3 (LSST MAF)",
   "language": "python",
   "name": "lsst_maf"
  },
  "language_info": {
   "codemirror_mode": {
    "name": "ipython",
    "version": 3
   },
   "file_extension": ".py",
   "mimetype": "text/x-python",
   "name": "python",
   "nbconvert_exporter": "python",
   "pygments_lexer": "ipython3",
   "version": "3.9.5"
  }
 },
 "nbformat": 4,
 "nbformat_minor": 4
}
